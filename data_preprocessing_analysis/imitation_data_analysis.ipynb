{
 "cells": [
  {
   "cell_type": "code",
   "execution_count": 1,
   "metadata": {},
   "outputs": [],
   "source": [
    "%load_ext autoreload\n",
    "%autoreload 2\n",
    "\n",
    "import auxiliary.util as util\n",
    "import auxiliary.grid2op_util as g2o_util\n",
    "import numpy as np\n",
    "import os\n",
    "\n",
    "import pandas as pd\n",
    "import ipdb\n",
    "import matplotlib.pyplot as plt\n",
    "\n",
    "import grid2op\n",
    "import re\n",
    "import data_preprocessing_analysis.imitation_data_preprocessing as idp\n",
    "import functools\n",
    "from auxiliary.generate_action_space import action_identificator\n",
    "import json\n",
    "import math\n",
    "from sklearn.metrics import confusion_matrix\n",
    "from pathlib import Path\n",
    "import collections\n",
    "from scipy.stats import entropy\n",
    "from scipy.spatial import distance\n",
    "from tqdm import tqdm\n",
    "from collections import Counter"
   ]
  },
  {
   "cell_type": "code",
   "execution_count": 2,
   "metadata": {},
   "outputs": [],
   "source": [
    "util.set_wd_to_package_root()\n",
    "config = util.load_config()\n",
    "processed_data_path = config['paths']['processed_tutor_imitation']\n",
    "con_matrix_path = config['paths']['con_matrix_cache']\n",
    "fstats_path = config['paths']['feature_statistics']\n",
    "\n",
    "line_disabled_to_consider = [-1,0,1,2,3,4,5,6,10,12,13,15,16,19]\n",
    "line_group1 = [-1,0,1,2,3,4,5,6,12]\n",
    "line_group2 = [13,15,16,19]"
   ]
  },
  {
   "cell_type": "markdown",
   "metadata": {},
   "source": [
    "# Processed Data Analysis"
   ]
  },
  {
   "cell_type": "code",
   "execution_count": 3,
   "metadata": {},
   "outputs": [
    {
     "name": "stderr",
     "output_type": "stream",
     "text": [
      "100%|██████████| 1000/1000 [00:10<00:00, 96.92it/s]\n"
     ]
    }
   ],
   "source": [
    "counters = {} \n",
    "hash_to_act = {}\n",
    "hash_to_res = {}\n",
    "hash_to_tv = {}\n",
    "n_sub = 14\n",
    "\n",
    "for i in np.arange(-1,20):\n",
    "    counters[i] = {\n",
    "        'n_datapoints':0,\n",
    "        'n_days_completed':0,\n",
    "        'n_chronics':0,\n",
    "        'set_hash': collections.Counter(),\n",
    "        'res_hash': collections.Counter(),\n",
    "        'tv_hash': collections.Counter(),\n",
    "        'sub_changed': (n_sub+1) * [0],\n",
    "        'changed_subs_n': n_sub * [0],\n",
    "        'sub_info': []\n",
    "    }\n",
    "        \n",
    "        \n",
    "\n",
    "for f in tqdm(list(Path(processed_data_path).rglob('*.json'))):\n",
    "    with open(f, 'r') as file:\n",
    "            dps = json.loads(file.read())\n",
    "            \n",
    "    line_disabled = dps[0]['line_disabled']\n",
    "    \n",
    "    counters[line_disabled]['n_chronics']+=1\n",
    "    counters[line_disabled]['n_days_completed']+=dps[0]['dayscomp']\n",
    "    for dp in dps:\n",
    "        #Increase n. datapoints\n",
    "        counters[line_disabled]['n_datapoints']+=1\n",
    "        \n",
    "        #Count set_topo_vect\n",
    "        hsh_set = util.hash_nparray(np.array(dp['set_topo_vect']))\n",
    "        if hsh_set not in hash_to_act:\n",
    "            hash_to_act[hsh_set] = dp['set_topo_vect']\n",
    "        counters[line_disabled]['set_hash'][hsh_set]+=1\n",
    "        \n",
    "        #Count res_topo_vect\n",
    "        hsh_res = util.hash_nparray(np.array(dp['res_topo_vect']))\n",
    "        if hsh_res not in hash_to_res:\n",
    "            hash_to_res[hsh_res] = dp['res_topo_vect']\n",
    "        counters[line_disabled]['res_hash'][hsh_res]+=1\n",
    "        \n",
    "        #Count topo_vect\n",
    "        hsh_tv = util.hash_nparray(np.array(dp['topo_vect']))\n",
    "        if hsh_tv not in hash_to_tv:\n",
    "            hash_to_tv[hsh_tv] = dp['topo_vect']\n",
    "        counters[line_disabled]['tv_hash'][hsh_tv]+=1\n",
    "        \n",
    "        #Count substations affected\n",
    "        action_per_sub = g2o_util.tv_groupby_subst(dp['set_topo_vect'],dp['sub_info'])\n",
    "        try:\n",
    "            changed_subs_id = [np.any(a) for i,a in enumerate(action_per_sub)].index(True)\n",
    "            counters[line_disabled]['sub_changed'][changed_subs_id] += 1\n",
    "        except:\n",
    "            counters[line_disabled]['sub_changed'][-1] += 1\n",
    "\n",
    "        #Count topological depth of resulting topologies\n",
    "        #ASSUMPTION: reference topology is the topology where all objects are connected to bus 1\n",
    "        res_per_sub = g2o_util.tv_groupby_subst(dp['res_topo_vect'],dp['sub_info'])\n",
    "        changed_subs_n = sum([2 in res for i,res in enumerate(res_per_sub)])\n",
    "        counters[line_disabled]['changed_subs_n'][changed_subs_n] += 1\n",
    "        \n",
    "        #Set sub info\n",
    "        counters[line_disabled]['sub_info'] = dp['sub_info']\n"
   ]
  },
  {
   "cell_type": "markdown",
   "metadata": {},
   "source": [
    "#### Number of chronics"
   ]
  },
  {
   "cell_type": "code",
   "execution_count": 4,
   "metadata": {},
   "outputs": [
    {
     "data": {
      "text/plain": [
       "1000"
      ]
     },
     "execution_count": 4,
     "metadata": {},
     "output_type": "execute_result"
    }
   ],
   "source": [
    "sum([v['n_chronics']for k,v in counters.items() if k in line_disabled_to_consider])"
   ]
  },
  {
   "cell_type": "markdown",
   "metadata": {},
   "source": [
    "#### Percentage days completed"
   ]
  },
  {
   "cell_type": "code",
   "execution_count": 5,
   "metadata": {},
   "outputs": [
    {
     "name": "stdout",
     "output_type": "stream",
     "text": [
      "[(-1, 0.9973214285714286), None, None, None, None, None, None, None, None, None, None, None, None, None]\n"
     ]
    }
   ],
   "source": [
    "print([(k,v['n_days_completed']/(28*v['n_chronics'])) if v['n_chronics']!=0 else None\n",
    "       for k,v in counters.items() \n",
    "       if k in line_disabled_to_consider])"
   ]
  },
  {
   "cell_type": "code",
   "execution_count": 6,
   "metadata": {},
   "outputs": [
    {
     "name": "stdout",
     "output_type": "stream",
     "text": [
      "Total: 0.9973214285714286\n",
      "Group 1: 0.9973214285714286\n"
     ]
    },
    {
     "ename": "ZeroDivisionError",
     "evalue": "division by zero",
     "output_type": "error",
     "traceback": [
      "\u001b[0;31m---------------------------------------------------------------------------\u001b[0m",
      "\u001b[0;31mZeroDivisionError\u001b[0m                         Traceback (most recent call last)",
      "\u001b[0;32m<ipython-input-6-0f3c4270fe6d>\u001b[0m in \u001b[0;36m<module>\u001b[0;34m\u001b[0m\n\u001b[1;32m      6\u001b[0m     sum([28*v['n_chronics']for k,v in counters.items() if k in line_group1]))\n\u001b[1;32m      7\u001b[0m print('Group 2:',\n\u001b[0;32m----> 8\u001b[0;31m     \u001b[0msum\u001b[0m\u001b[0;34m(\u001b[0m\u001b[0;34m[\u001b[0m\u001b[0mv\u001b[0m\u001b[0;34m[\u001b[0m\u001b[0;34m'n_days_completed'\u001b[0m\u001b[0;34m]\u001b[0m\u001b[0;32mfor\u001b[0m \u001b[0mk\u001b[0m\u001b[0;34m,\u001b[0m\u001b[0mv\u001b[0m \u001b[0;32min\u001b[0m \u001b[0mcounters\u001b[0m\u001b[0;34m.\u001b[0m\u001b[0mitems\u001b[0m\u001b[0;34m(\u001b[0m\u001b[0;34m)\u001b[0m \u001b[0;32mif\u001b[0m \u001b[0mk\u001b[0m \u001b[0;32min\u001b[0m \u001b[0mline_group2\u001b[0m\u001b[0;34m]\u001b[0m\u001b[0;34m)\u001b[0m\u001b[0;34m/\u001b[0m\u001b[0;31m \u001b[0m\u001b[0;31m\\\u001b[0m\u001b[0;34m\u001b[0m\u001b[0;34m\u001b[0m\u001b[0m\n\u001b[0m\u001b[1;32m      9\u001b[0m     sum([28*v['n_chronics']for k,v in counters.items() if k in line_group2]))\n",
      "\u001b[0;31mZeroDivisionError\u001b[0m: division by zero"
     ]
    }
   ],
   "source": [
    "print('Total:',\n",
    "    sum([v['n_days_completed']for k,v in counters.items() if k in line_disabled_to_consider])/ \\\n",
    "    sum([28*v['n_chronics']for k,v in counters.items() if k in line_disabled_to_consider]))\n",
    "print('Group 1:',\n",
    "    sum([v['n_days_completed']for k,v in counters.items() if k in line_group1])/ \\\n",
    "    sum([28*v['n_chronics']for k,v in counters.items() if k in line_group1]))\n",
    "print('Group 2:',\n",
    "    sum([v['n_days_completed']for k,v in counters.items() if k in line_group2])/ \\\n",
    "    sum([28*v['n_chronics']for k,v in counters.items() if k in line_group2]))"
   ]
  },
  {
   "cell_type": "markdown",
   "metadata": {},
   "source": [
    "#### Number of datapoints"
   ]
  },
  {
   "cell_type": "code",
   "execution_count": 7,
   "metadata": {},
   "outputs": [
    {
     "data": {
      "text/plain": [
       "[(-1, 25993),\n",
       " (0, 0),\n",
       " (1, 0),\n",
       " (2, 0),\n",
       " (3, 0),\n",
       " (4, 0),\n",
       " (5, 0),\n",
       " (6, 0),\n",
       " (10, 0),\n",
       " (12, 0),\n",
       " (13, 0),\n",
       " (15, 0),\n",
       " (16, 0),\n",
       " (19, 0)]"
      ]
     },
     "execution_count": 7,
     "metadata": {},
     "output_type": "execute_result"
    }
   ],
   "source": [
    "[(k,v['n_datapoints'])for k,v in counters.items() if k in line_disabled_to_consider]"
   ]
  },
  {
   "cell_type": "code",
   "execution_count": 8,
   "metadata": {},
   "outputs": [
    {
     "name": "stdout",
     "output_type": "stream",
     "text": [
      "Total: 25993\n",
      "Group 1: 25993\n",
      "Group 2: 0\n"
     ]
    }
   ],
   "source": [
    "N_total = sum([v['n_datapoints']for k,v in counters.items() if k in line_disabled_to_consider])\n",
    "N_group1 = sum([v['n_datapoints']for k,v in counters.items() if k in line_group1])\n",
    "N_group2 = sum([v['n_datapoints']for k,v in counters.items() if k in line_group2])\n",
    "\n",
    "print('Total:', N_total)\n",
    "print('Group 1:', N_group1)\n",
    "print('Group 2:', N_group2)"
   ]
  },
  {
   "cell_type": "code",
   "execution_count": 9,
   "metadata": {},
   "outputs": [
    {
     "data": {
      "image/png": "[encoded data removed]",
      "text/plain": [
       "<Figure size 432x288 with 1 Axes>"
      ]
     },
     "metadata": {
      "needs_background": "light"
     },
     "output_type": "display_data"
    }
   ],
   "source": [
    "plt.bar(line_disabled_to_consider,\n",
    "        [counters[l]['n_datapoints'] for l in np.arange(-1,20) if l in line_disabled_to_consider])\n",
    "ax = plt.gca()\n",
    "_ = ax.set_xticks(np.arange(-1,20))"
   ]
  },
  {
   "cell_type": "markdown",
   "metadata": {},
   "source": [
    "#### Action statistics"
   ]
  },
  {
   "cell_type": "markdown",
   "metadata": {},
   "source": [
    "Number of actions"
   ]
  },
  {
   "cell_type": "code",
   "execution_count": 10,
   "metadata": {},
   "outputs": [
    {
     "data": {
      "text/plain": [
       "[(-1, 74),\n",
       " (0, 0),\n",
       " (1, 0),\n",
       " (2, 0),\n",
       " (3, 0),\n",
       " (4, 0),\n",
       " (5, 0),\n",
       " (6, 0),\n",
       " (10, 0),\n",
       " (12, 0),\n",
       " (13, 0),\n",
       " (15, 0),\n",
       " (16, 0),\n",
       " (19, 0)]"
      ]
     },
     "execution_count": 10,
     "metadata": {},
     "output_type": "execute_result"
    }
   ],
   "source": [
    "[(k,len(v['set_hash']))\n",
    " for k,v in counters.items() \n",
    " if k in line_disabled_to_consider]"
   ]
  },
  {
   "cell_type": "markdown",
   "metadata": {},
   "source": [
    "Percentage of do-nothing actions"
   ]
  },
  {
   "cell_type": "code",
   "execution_count": 11,
   "metadata": {},
   "outputs": [
    {
     "data": {
      "text/plain": [
       "[(-1, 0.07151925518408803)]"
      ]
     },
     "execution_count": 11,
     "metadata": {},
     "output_type": "execute_result"
    }
   ],
   "source": [
    "#Find the hashes that are do-nothing actions. Should not be higher than two. \n",
    "do_nothing_action_hashes = [h for h,t \n",
    "                            in hash_to_act.items() \n",
    "                            if sum(t)==0]\n",
    "assert len(do_nothing_action_hashes) < 3\n",
    "\n",
    "[(k,sum([v['set_hash'][h] for h in do_nothing_action_hashes])/v['n_datapoints'])\n",
    " for k,v in counters.items() \n",
    " if k in line_disabled_to_consider and v['n_datapoints'] != 0]"
   ]
  },
  {
   "cell_type": "code",
   "execution_count": 12,
   "metadata": {},
   "outputs": [
    {
     "data": {
      "text/plain": [
       "2.751481367448468e-06"
      ]
     },
     "execution_count": 12,
     "metadata": {},
     "output_type": "execute_result"
    }
   ],
   "source": [
    "sum([sum([v['set_hash'][h] for h in do_nothing_action_hashes])\n",
    "          /v['n_datapoints']\n",
    "         for k,v in counters.items() \n",
    "         if k in line_disabled_to_consider and v['n_datapoints'] != 0])/N_total"
   ]
  },
  {
   "cell_type": "code",
   "execution_count": 13,
   "metadata": {},
   "outputs": [
    {
     "name": "stdout",
     "output_type": "stream",
     "text": [
      "Total: 0.07151925518408803\n",
      "Group 1: 0.07151925518408803\n"
     ]
    },
    {
     "ename": "ZeroDivisionError",
     "evalue": "division by zero",
     "output_type": "error",
     "traceback": [
      "\u001b[0;31m---------------------------------------------------------------------------\u001b[0m",
      "\u001b[0;31mZeroDivisionError\u001b[0m                         Traceback (most recent call last)",
      "\u001b[0;32m<ipython-input-13-f74cef4771a4>\u001b[0m in \u001b[0;36m<module>\u001b[0;34m\u001b[0m\n\u001b[1;32m      8\u001b[0m          if k in line_group1 and v['n_datapoints'] != 0])/N_group1)\n\u001b[1;32m      9\u001b[0m print('Group 2:',\n\u001b[0;32m---> 10\u001b[0;31m      sum([sum([v['set_hash'][h] for h in do_nothing_action_hashes])\n\u001b[0m\u001b[1;32m     11\u001b[0m          \u001b[0;32mfor\u001b[0m \u001b[0mk\u001b[0m\u001b[0;34m,\u001b[0m\u001b[0mv\u001b[0m \u001b[0;32min\u001b[0m \u001b[0mcounters\u001b[0m\u001b[0;34m.\u001b[0m\u001b[0mitems\u001b[0m\u001b[0;34m(\u001b[0m\u001b[0;34m)\u001b[0m\u001b[0;34m\u001b[0m\u001b[0;34m\u001b[0m\u001b[0m\n\u001b[1;32m     12\u001b[0m          if k in line_group2 and v['n_datapoints'] != 0])/N_group2)\n",
      "\u001b[0;31mZeroDivisionError\u001b[0m: division by zero"
     ]
    }
   ],
   "source": [
    "print('Total:',\n",
    "     sum([sum([v['set_hash'][h] for h in do_nothing_action_hashes])\n",
    "         for k,v in counters.items() \n",
    "         if k in line_disabled_to_consider and v['n_datapoints'] != 0])/N_total)\n",
    "print('Group 1:',\n",
    "     sum([sum([v['set_hash'][h] for h in do_nothing_action_hashes])\n",
    "         for k,v in counters.items() \n",
    "         if k in line_group1 and v['n_datapoints'] != 0])/N_group1)\n",
    "print('Group 2:',\n",
    "     sum([sum([v['set_hash'][h] for h in do_nothing_action_hashes])\n",
    "         for k,v in counters.items() \n",
    "         if k in line_group2 and v['n_datapoints'] != 0])/N_group2)"
   ]
  },
  {
   "cell_type": "markdown",
   "metadata": {},
   "source": [
    "Entropy of the action distribution"
   ]
  },
  {
   "cell_type": "code",
   "execution_count": 14,
   "metadata": {},
   "outputs": [
    {
     "data": {
      "text/plain": [
       "[(-1, 2.511363531402685),\n",
       " (0, 0.0),\n",
       " (1, 0.0),\n",
       " (2, 0.0),\n",
       " (3, 0.0),\n",
       " (4, 0.0),\n",
       " (5, 0.0),\n",
       " (6, 0.0),\n",
       " (10, 0.0),\n",
       " (12, 0.0),\n",
       " (13, 0.0),\n",
       " (15, 0.0),\n",
       " (16, 0.0),\n",
       " (19, 0.0)]"
      ]
     },
     "execution_count": 14,
     "metadata": {},
     "output_type": "execute_result"
    }
   ],
   "source": [
    "[(k,entropy(list(v['set_hash'].values()))) \n",
    " for k,v in counters.items() \n",
    " if k in line_disabled_to_consider]"
   ]
  },
  {
   "cell_type": "code",
   "execution_count": 15,
   "metadata": {},
   "outputs": [],
   "source": [
    "#Getting actions into format so that actions at substations\n",
    "standard_sub_info = [3, 6, 4, 6, 5, 6, 3, 2, 5, 3, 3, 3, 4, 3]\n",
    "    \n",
    "for i in np.arange(-1,20):\n",
    "    act_counter = counters[i]['set_hash']\n",
    "    unique_act_counter = collections.Counter()\n",
    "    for h,c in act_counter.items():\n",
    "        a = hash_to_act[h]\n",
    "        a_per_substation = g2o_util.tv_groupby_subst(a,counters[i]['sub_info'])\n",
    "        try:\n",
    "            changed_subs_id = [np.any(a) for a in a_per_substation].index(True)\n",
    "            action = (changed_subs_id,tuple(a_per_substation[changed_subs_id]),\n",
    "                      None if standard_sub_info[changed_subs_id]==counters[i]['sub_info'][changed_subs_id] else i)\n",
    "            unique_act_counter[action] += c\n",
    "        except ValueError:\n",
    "            unique_act_counter[-1] += c\n",
    "    counters[i]['unique_set_act'] = unique_act_counter\n",
    "    \n",
    "combined_act_counter = collections.Counter()\n",
    "act_counter_group1 = collections.Counter()\n",
    "act_counter_group2 = collections.Counter()\n",
    "for i in np.arange(-1,20):\n",
    "    combined_act_counter = combined_act_counter + counters[i]['unique_set_act']\n",
    "    if i in line_group1:\n",
    "        act_counter_group1 += act_counter_group1 + counters[i]['unique_set_act']\n",
    "    elif  i in line_group2:\n",
    "        act_counter_group2 += act_counter_group2 + counters[i]['unique_set_act']\n",
    "        "
   ]
  },
  {
   "cell_type": "code",
   "execution_count": 16,
   "metadata": {},
   "outputs": [],
   "source": [
    "tups = list(combined_act_counter.keys())\n",
    "tups = sorted([t for t in tups if type(t)==tuple])\n",
    "tups = [-1] + tups\n",
    "tups\n",
    "\n",
    "colormap = {\n",
    "    -1:'k',\n",
    "    1:'b',\n",
    "    2:'g',\n",
    "    3:'r',\n",
    "    4:'c',\n",
    "    5:'m',\n",
    "    8:'y',\n",
    "    12:'k',\n",
    "}"
   ]
  },
  {
   "cell_type": "code",
   "execution_count": 17,
   "metadata": {},
   "outputs": [
    {
     "data": {
      "image/png": "[encoded data removed]",
      "text/plain": [
       "<Figure size 921.6x691.2 with 16 Axes>"
      ]
     },
     "metadata": {
      "needs_background": "light"
     },
     "output_type": "display_data"
    }
   ],
   "source": [
    "fig, axs = plt.subplots(4,4,figsize=[2*6.4, 2*4.8])#, sharex=True, sharey=True)\n",
    "axs = axs.reshape(-1)\n",
    "fig.tight_layout()\n",
    "\n",
    "for plt_i, c_i in enumerate(line_disabled_to_consider):\n",
    "    act_counter = counters[c_i]['unique_set_act']\n",
    "    weight = [act_counter[i] for i in tups]\n",
    "\n",
    "    _, _, patches = axs[plt_i].hist(range(len(weight)), weights=weight,bins=range(len(weight)))\n",
    "    axs[plt_i].title.set_text(f'Line {c_i} disabled.' if c_i>-1 else 'No line disabled.')\n",
    "    \n",
    "    #Applying colors\n",
    "    for j,t in enumerate(tups[:-1]):\n",
    "        if type(t) == int:\n",
    "            continue\n",
    "        patches[j].set_facecolor(colormap[t[0]])\n",
    "    patches[0].set_facecolor(colormap[-1])\n",
    "    \n",
    "    axs[plt_i].ticklabel_format(axis=\"y\", style=\"sci\", scilimits=(0,0))\n",
    "\n",
    "for i in range(len(axs)-len(line_disabled_to_consider)):\n",
    "    axs[len(axs)-i-1].axis('off')\n",
    "    \n",
    "_ = fig.suptitle('Resulting \\'Set\\' Action Distribution per Topology', fontsize=16, y=1.05)\n",
    "fig.savefig('data_preprocessing_analysis/figures/action_distribution_per_topology.png', dpi=300)"
   ]
  },
  {
   "cell_type": "code",
   "execution_count": 18,
   "metadata": {},
   "outputs": [
    {
     "data": {
      "text/plain": [
       "[(5216975167053005761, 8226),\n",
       " (8937131061687177940, 5343),\n",
       " (-1221862190638690505, 3258),\n",
       " (-5647247916322209430, 1859),\n",
       " (-3203449544983759407, 747),\n",
       " (-5371662114248039143, 480),\n",
       " (8201703258021292577, 435),\n",
       " (1889465080037953788, 400),\n",
       " (4877112017131333062, 399),\n",
       " (-6096904296072924821, 395),\n",
       " (-482555509848347048, 293),\n",
       " (8801576801771102413, 254),\n",
       " (5558496938283834350, 246),\n",
       " (-6727039530836274399, 241),\n",
       " (-3439126676075770935, 163),\n",
       " (-1866006640930039802, 158),\n",
       " (-6395368471185718686, 153),\n",
       " (-8462840797199359110, 141),\n",
       " (1800196816847210972, 136),\n",
       " (1440748049527266414, 135),\n",
       " (4530103322421583507, 130),\n",
       " (-6640679792867691398, 128),\n",
       " (-8555551815801419114, 123),\n",
       " (-9183113138760251854, 119),\n",
       " (-7600887518365576667, 117),\n",
       " (6472221066818058302, 108),\n",
       " (-2536440255128613188, 105),\n",
       " (-5054213541080857801, 104),\n",
       " (5013510431674209232, 93),\n",
       " (7248646025302698985, 92),\n",
       " (787373484356923030, 89),\n",
       " (-5435990713431008279, 79),\n",
       " (-3742960266356351600, 76),\n",
       " (-3655097045691593271, 75),\n",
       " (-7039125011584759498, 74),\n",
       " (-8446110857695441036, 70),\n",
       " (-6491546146128513014, 68),\n",
       " (-6100366110076871331, 66),\n",
       " (-6122908708402483458, 63),\n",
       " (-8759319954648845091, 61),\n",
       " (92429982566993217, 59),\n",
       " (-7972645492516065888, 51),\n",
       " (2529929425705018397, 50),\n",
       " (7411717640473960411, 42),\n",
       " (-5468775288986991540, 41),\n",
       " (2077324006942918899, 40),\n",
       " (-7217054000545862203, 39),\n",
       " (267936730698559390, 36),\n",
       " (-162805691145983317, 33),\n",
       " (6818659099589308931, 32),\n",
       " (-2626847504122870417, 31),\n",
       " (-5944522445387304910, 28),\n",
       " (-7294965984800806922, 25),\n",
       " (-8114089462628059220, 25),\n",
       " (-7668882391112862984, 24),\n",
       " (-5500630260495074653, 20),\n",
       " (-578520512483853249, 19),\n",
       " (-6790767175114880931, 15),\n",
       " (-1942806175299761878, 13),\n",
       " (3228088316158111299, 13),\n",
       " (-3543712432423714528, 11),\n",
       " (3378436965921498173, 9),\n",
       " (-792455651476042111, 9),\n",
       " (1871420576253439821, 4),\n",
       " (-2672997073224314946, 4),\n",
       " (5777900552800401143, 3),\n",
       " (387951531345965860, 3),\n",
       " (6818941227957617867, 2),\n",
       " (-1724496574008184029, 2),\n",
       " (-1428756549065235995, 2),\n",
       " (3332061184809540125, 2),\n",
       " (5215355947777281051, 2),\n",
       " (-8884592075523395081, 1),\n",
       " (5235113764603689792, 1)]"
      ]
     },
     "execution_count": 18,
     "metadata": {},
     "output_type": "execute_result"
    }
   ],
   "source": [
    "counters[-1]['set_hash'].most_common()"
   ]
  },
  {
   "cell_type": "code",
   "execution_count": 23,
   "metadata": {},
   "outputs": [
    {
     "data": {
      "image/png": "[encoded data removed]",
      "text/plain": [
       "<Figure size 432x288 with 1 Axes>"
      ]
     },
     "metadata": {
      "needs_background": "light"
     },
     "output_type": "display_data"
    }
   ],
   "source": [
    "weight = [combined_act_counter[i] for i in tups]\n",
    "_, _, patches = plt.hist(range(len(weight)), weights=weight,bins=range(len(weight)))\n",
    "\n",
    "#Applying colors\n",
    "for j,t in enumerate(tups[:-1]):\n",
    "    if type(t) == int:\n",
    "        continue\n",
    "    patches[j].set_facecolor(colormap[t[0]])\n",
    "patches[0].set_facecolor(colormap[-1])\n",
    "plt.ticklabel_format(axis=\"y\", style=\"sci\", scilimits=(0,0))"
   ]
  },
  {
   "cell_type": "code",
   "execution_count": 24,
   "metadata": {},
   "outputs": [
    {
     "data": {
      "image/png": "[encoded data removed]",
      "text/plain": [
       "<Figure size 432x288 with 1 Axes>"
      ]
     },
     "metadata": {
      "needs_background": "light"
     },
     "output_type": "display_data"
    }
   ],
   "source": [
    "weight = [c for v,c in counters[-1]['set_hash'].most_common()]\n",
    "_, _, patches = plt.hist(range(len(weight)), weights=weight,bins=range(len(weight)))\n",
    "\n",
    "#Applying colors\n",
    "#patches[0].set_facecolor(colormap[-1])\n",
    "#plt.ticklabel_format(axis=\"y\", style=\"sci\", scilimits=(0,0))"
   ]
  },
  {
   "cell_type": "code",
   "execution_count": 25,
   "metadata": {},
   "outputs": [
    {
     "name": "stdout",
     "output_type": "stream",
     "text": [
      "Total: 74 2.511363531402685\n",
      "Group 1: 74 2.511363531402685\n",
      "Group 2: 0 0.0\n"
     ]
    }
   ],
   "source": [
    "print('Total:',\n",
    "    len(combined_act_counter.most_common()),\n",
    "      entropy(list(combined_act_counter.values())))\n",
    "print('Group 1:',\n",
    "      len(act_counter_group1.most_common()),\n",
    "      entropy(list(act_counter_group1.values())))\n",
    "print('Group 2:',\n",
    "      len(act_counter_group2.most_common()),\n",
    "      entropy(list(act_counter_group2.values())))"
   ]
  },
  {
   "cell_type": "code",
   "execution_count": 26,
   "metadata": {},
   "outputs": [
    {
     "name": "stderr",
     "output_type": "stream",
     "text": [
      "/home/matthijs/Software/anaconda3/lib/python3.8/site-packages/scipy/spatial/distance.py:728: RuntimeWarning: invalid value encountered in double_scalars\n",
      "  dist = 1.0 - uv / np.sqrt(uu * vv)\n"
     ]
    },
    {
     "data": {
      "image/png": "[encoded data removed]",
      "text/plain": [
       "<Figure size 1024x768 with 2 Axes>"
      ]
     },
     "metadata": {
      "needs_background": "light"
     },
     "output_type": "display_data"
    }
   ],
   "source": [
    "plt.figure(figsize=[2*6.4, 2*4.8], dpi=80)\n",
    "\n",
    "data = np.random.rand(len(line_disabled_to_consider), len(line_disabled_to_consider))\n",
    "for iy,y in enumerate([counters[i]['unique_set_act'] for i in line_disabled_to_consider]):\n",
    "    for ix,x in enumerate([counters[i]['unique_set_act'] for i in line_disabled_to_consider]):\n",
    "        cosine = distance.cosine([y[a] for a in combined_act_counter.keys()],\n",
    "                                     [x[a] for a in combined_act_counter.keys()])\n",
    "        data[iy,ix] = cosine\n",
    "heatmap = plt.pcolor(data,cmap='viridis_r')\n",
    "\n",
    "for y in range(data.shape[0]):\n",
    "    for x in range(data.shape[1]):\n",
    "        plt.text(x + 0.5, y + 0.5, '%.4f' % data[y, x],\n",
    "                 horizontalalignment='center',\n",
    "                 verticalalignment='center',\n",
    "                 )\n",
    "\n",
    "plt.colorbar(heatmap)\n",
    "plt.xticks(np.arange(0.5,len(line_disabled_to_consider)+0.5),['None']+line_disabled_to_consider[1:])\n",
    "plt.yticks(np.arange(0.5,len(line_disabled_to_consider)+0.5),['None']+line_disabled_to_consider[1:])\n",
    "plt.ylabel('Line disabled')\n",
    "plt.xlabel('Line disabled')\n",
    "plt.title('Cosine distance between the action distributions of the different topologies.')\n",
    "plt.savefig('data_preprocessing_analysis/figures/cosine_distance_actions.png', dpi=300)\n",
    "plt.show()"
   ]
  },
  {
   "cell_type": "code",
   "execution_count": 27,
   "metadata": {},
   "outputs": [
    {
     "data": {
      "text/plain": [
       "(74, 2.511363531402685)"
      ]
     },
     "execution_count": 27,
     "metadata": {},
     "output_type": "execute_result"
    }
   ],
   "source": [
    "(len(combined_act_counter.most_common()),entropy(list(combined_act_counter.values())))"
   ]
  },
  {
   "cell_type": "markdown",
   "metadata": {},
   "source": [
    "### Topology Distribution"
   ]
  },
  {
   "cell_type": "code",
   "execution_count": 28,
   "metadata": {},
   "outputs": [
    {
     "data": {
      "image/png": "[encoded data removed]",
      "text/plain": [
       "<Figure size 921.6x691.2 with 16 Axes>"
      ]
     },
     "metadata": {
      "needs_background": "light"
     },
     "output_type": "display_data"
    }
   ],
   "source": [
    "fig, axs = plt.subplots(4,4,figsize=[2*6.4, 2*4.8])#, sharex=True, sharey=True)\n",
    "axs = axs.reshape(-1)\n",
    "fig.tight_layout()\n",
    "for plt_i, c_i in enumerate(line_disabled_to_consider):\n",
    "    res_counter = counters[c_i]['tv_hash']\n",
    "    if not res_counter:\n",
    "        continue\n",
    "    val, weight = zip(*[(i, v) for i,(k,v) in enumerate(res_counter.most_common())])\n",
    "    axs[plt_i].hist(val[0:100], weights=weight[0:100],bins=val[0:100])\n",
    "    axs[plt_i].title.set_text(f'Line {c_i} removed')\n",
    "\n",
    "for i in range(len(axs)-len(line_disabled_to_consider)):\n",
    "    axs[len(axs)-i-1].axis('off')\n",
    "    \n",
    "_ = fig.suptitle('Topology vector distribution per line outage', fontsize=16, y=1.05)"
   ]
  },
  {
   "cell_type": "code",
   "execution_count": 29,
   "metadata": {},
   "outputs": [
    {
     "data": {
      "image/png": "[encoded data removed]",
      "text/plain": [
       "<Figure size 921.6x691.2 with 16 Axes>"
      ]
     },
     "metadata": {
      "needs_background": "light"
     },
     "output_type": "display_data"
    }
   ],
   "source": [
    "fig, axs = plt.subplots(4,4,figsize=[2*6.4, 2*4.8])#, sharex=True, sharey=True)\n",
    "axs = axs.reshape(-1)\n",
    "fig.tight_layout()\n",
    "for plt_i, c_i in enumerate(line_disabled_to_consider):\n",
    "    res_counter = counters[c_i]['res_hash']\n",
    "    if not res_counter:\n",
    "        continue\n",
    "    val, weight = zip(*[(i, v) for i,(k,v) in enumerate(res_counter.most_common())])\n",
    "    axs[plt_i].hist(val[0:100], weights=weight[0:100],bins=val[0:100])\n",
    "    axs[plt_i].title.set_text(f'Line {c_i} removed')\n",
    "\n",
    "for i in range(len(axs)-len(line_disabled_to_consider)):\n",
    "    axs[len(axs)-i-1].axis('off')\n",
    "    \n",
    "_ = fig.suptitle('Resulting topology distribution per line outage', fontsize=16, y=1.05)"
   ]
  },
  {
   "cell_type": "code",
   "execution_count": 30,
   "metadata": {},
   "outputs": [
    {
     "data": {
      "text/plain": [
       "[(-2371491331546665287, 8138),\n",
       " (5386572753249518364, 5214),\n",
       " (6317564862595498276, 3248),\n",
       " (4904303365689970487, 518),\n",
       " (4855715301638168595, 372),\n",
       " (-9056524000618512985, 306),\n",
       " (-395344662178469635, 290),\n",
       " (-9111461443358445998, 251),\n",
       " (4685955545193298480, 236),\n",
       " (-285387819353293985, 203),\n",
       " (-6839882859416212019, 180),\n",
       " (-4303282635900150433, 177),\n",
       " (3050483041832376145, 176),\n",
       " (4911537273326997673, 155),\n",
       " (-5609535194072049939, 152),\n",
       " (3114593943089378161, 122),\n",
       " (8510601487935428715, 117),\n",
       " (-7514919894228579137, 112),\n",
       " (5236742253121396515, 106),\n",
       " (5238650007882883096, 96),\n",
       " (-2735827949372481379, 93),\n",
       " (-6581822670659128010, 92),\n",
       " (8327128964265188951, 89),\n",
       " (7393666916449921139, 86),\n",
       " (6153670354481608650, 83),\n",
       " (5654471766411172460, 81),\n",
       " (7108348183546709068, 78),\n",
       " (-7215229277839124302, 76),\n",
       " (5056750769011404667, 71),\n",
       " (-9064895108731978531, 70),\n",
       " (-8736683849198326796, 68),\n",
       " (2306950141887893649, 67),\n",
       " (-2644174065410745222, 66),\n",
       " (-1721487459425244455, 62),\n",
       " (-595362996012479941, 57),\n",
       " (1756584598364796276, 53),\n",
       " (3801341455492242798, 52),\n",
       " (6476425950025435617, 51),\n",
       " (-8612796334466555306, 51),\n",
       " (5646834227933702767, 49),\n",
       " (3448436318883482982, 49),\n",
       " (-8302083029547113013, 48),\n",
       " (6529192895155089099, 46),\n",
       " (-1411901068973635777, 45),\n",
       " (-4593268585409225392, 44),\n",
       " (-3683966415010312229, 42),\n",
       " (-4055751667528723420, 41),\n",
       " (-9115053914954855418, 39),\n",
       " (8506002444032086765, 39),\n",
       " (-7010116966277744124, 38),\n",
       " (-6577647601243300085, 37),\n",
       " (-1735125009883091228, 36),\n",
       " (5031747500086463820, 36),\n",
       " (6259233704289489815, 36),\n",
       " (-1639738974649421806, 34),\n",
       " (-3317202474699483497, 33),\n",
       " (1714639787638680597, 33),\n",
       " (-965554692527561951, 32),\n",
       " (-2020976925036190079, 32),\n",
       " (8851290533797061749, 32),\n",
       " (-7653747900524539021, 31),\n",
       " (-2999998560861879492, 30),\n",
       " (8389584226436433303, 30),\n",
       " (-7171869221591296944, 30),\n",
       " (8705128349847026381, 30),\n",
       " (-3967986285388711391, 27),\n",
       " (3281278552885692966, 27),\n",
       " (-5502308532027300687, 27),\n",
       " (-2208636874932381748, 26),\n",
       " (8136095664129456609, 26),\n",
       " (5920799922999690966, 26),\n",
       " (3761721466997135071, 26),\n",
       " (4512743430298715128, 25),\n",
       " (7436517613791483435, 25),\n",
       " (768052118913167677, 25),\n",
       " (-2162056976721867640, 24),\n",
       " (3445620570785646572, 24),\n",
       " (-7432201491615166217, 24),\n",
       " (8963085123630138771, 24),\n",
       " (-7376748135437005337, 24),\n",
       " (-6978454471950141523, 23),\n",
       " (7029180782275971918, 23),\n",
       " (2287254735531776193, 23),\n",
       " (-3992963778614119789, 23),\n",
       " (-1713487813680751456, 23),\n",
       " (8752475071085245214, 22),\n",
       " (-6884748543878342750, 22),\n",
       " (-2952752766259562458, 21),\n",
       " (-1800333579081315114, 21),\n",
       " (530985948526749709, 20),\n",
       " (-2528613122344580714, 20),\n",
       " (9166242224911550509, 20),\n",
       " (1889740506274952974, 20),\n",
       " (2367232361621588925, 20),\n",
       " (6727443408326385090, 19),\n",
       " (-8134830296386980256, 19),\n",
       " (3765744245288814933, 19),\n",
       " (-4815064599839124120, 18),\n",
       " (-5272120722697031192, 18),\n",
       " (-6651705692184553992, 18),\n",
       " (6319027889183518937, 18),\n",
       " (-7409574398152738200, 18),\n",
       " (-6923344980316004014, 18),\n",
       " (8890283921957956968, 17),\n",
       " (-1690375550304651086, 17),\n",
       " (7753760139758589167, 16),\n",
       " (-5424229006884782858, 16),\n",
       " (5370794133424058035, 16),\n",
       " (1931773014960977297, 16),\n",
       " (-6802739150509407046, 16),\n",
       " (-1987106538116420783, 15),\n",
       " (7715451510885011694, 15),\n",
       " (2922529996066047658, 15),\n",
       " (7667939723076495394, 15),\n",
       " (-9056129647401860791, 14),\n",
       " (7181106513234196221, 14),\n",
       " (4476256444480697507, 14),\n",
       " (2778791684452210799, 14),\n",
       " (-7474730745417602899, 14),\n",
       " (4546654197258985122, 14),\n",
       " (5604948965130718981, 14),\n",
       " (5519994446294634856, 13),\n",
       " (1555142074586707649, 13),\n",
       " (5277745001685679027, 13),\n",
       " (-1590657955255919065, 13),\n",
       " (8856722702247781100, 13),\n",
       " (9177328569905419852, 12),\n",
       " (-9027538777655200188, 12),\n",
       " (-3263524637408858435, 12),\n",
       " (-2348761905340401139, 12),\n",
       " (3082676216459981295, 12),\n",
       " (-6339894432089588380, 12),\n",
       " (8406419696934802410, 12),\n",
       " (-739516190274574546, 12),\n",
       " (-6664152331525480461, 12),\n",
       " (4223567783746647639, 12),\n",
       " (8286127602520295783, 11),\n",
       " (-2509070010251648569, 11),\n",
       " (-6302185133967085539, 11),\n",
       " (-3704037568846489972, 11),\n",
       " (332552507002938336, 11),\n",
       " (4859780321337245363, 11),\n",
       " (4685211649789190084, 11),\n",
       " (1230178116082781263, 11),\n",
       " (7606416983689261888, 11),\n",
       " (4364682370016889853, 11),\n",
       " (-191103045947195119, 11),\n",
       " (-5747365142496582816, 11),\n",
       " (527452345721424310, 11),\n",
       " (-4132094404798927614, 10),\n",
       " (-6854032052623695914, 10),\n",
       " (7807617004951700529, 10),\n",
       " (1251668561240276327, 10),\n",
       " (739375368166257942, 10),\n",
       " (5065371869494678706, 10),\n",
       " (2067251833544180899, 10),\n",
       " (-1414692316133339375, 10),\n",
       " (4810849939357743788, 10),\n",
       " (-4681540205214676614, 10),\n",
       " (-6853431098406751272, 10),\n",
       " (998838961840137266, 10),\n",
       " (3210411493641170376, 10),\n",
       " (-7457823406427632895, 9),\n",
       " (-4924560477986131309, 9),\n",
       " (-4052543724688401535, 9),\n",
       " (-5177055306595490231, 9),\n",
       " (5405794530475439078, 9),\n",
       " (5720698707789185955, 9),\n",
       " (-8666288976927080752, 9),\n",
       " (5437054340687983643, 9),\n",
       " (-2191879211765070726, 9),\n",
       " (-9157301576283120070, 9),\n",
       " (-3885925781224574195, 9),\n",
       " (4022271686929801489, 9),\n",
       " (-1996688084818605966, 8),\n",
       " (-9035458551742666544, 8),\n",
       " (-5485494362548991257, 8),\n",
       " (1677105258644598623, 8),\n",
       " (-3391538260495681417, 8),\n",
       " (-5447810986970235813, 8),\n",
       " (-9150334404840102266, 8),\n",
       " (2110917821633053925, 8),\n",
       " (3526499971003113774, 8),\n",
       " (-7343396595906884875, 8),\n",
       " (-5137504895008437153, 8),\n",
       " (6279878307442799374, 8),\n",
       " (5989758592165895378, 8),\n",
       " (-8114081175855020891, 8),\n",
       " (-1709013903785962175, 7),\n",
       " (2013414668083692714, 7),\n",
       " (-3528235953453554776, 7),\n",
       " (-6630087594909168770, 7),\n",
       " (-4904871632940498399, 7),\n",
       " (5422669028229593185, 7),\n",
       " (9201677071525803096, 7),\n",
       " (-8738754169447010614, 7),\n",
       " (5174313806529259404, 7),\n",
       " (660111707012318125, 7),\n",
       " (1886749481325870418, 7),\n",
       " (5821075420677192865, 7),\n",
       " (-1585776626781894194, 7),\n",
       " (227653224091930391, 7),\n",
       " (-8373486918801829070, 7),\n",
       " (-412021634703949105, 7),\n",
       " (-500547726656914631, 7),\n",
       " (-5309194346218772965, 7),\n",
       " (-4443874986185819056, 7),\n",
       " (4407593428402750837, 7),\n",
       " (-2798620652025329089, 7),\n",
       " (3216832070880593940, 7),\n",
       " (-4996770498586566839, 7),\n",
       " (-1342120349553847458, 6),\n",
       " (1923038811145885467, 6),\n",
       " (-1700638948441609546, 6),\n",
       " (6836389910894985064, 6),\n",
       " (8166469454736152032, 6),\n",
       " (7718934376813623067, 6),\n",
       " (6770192849085655319, 6),\n",
       " (4663781366715726934, 6),\n",
       " (3279205605750442600, 6),\n",
       " (-4566746953076078443, 6),\n",
       " (-6582489511419720549, 6),\n",
       " (8687986114351207864, 6),\n",
       " (2133759060987542155, 6),\n",
       " (1244355552110230498, 6),\n",
       " (4065168932402407366, 6),\n",
       " (-268300018026992118, 6),\n",
       " (-8300509465403733691, 6),\n",
       " (-6142447222812367268, 6),\n",
       " (8873923264289039737, 6),\n",
       " (-2598305078443504682, 6),\n",
       " (-5125346937691769714, 6),\n",
       " (4587245388963538512, 6),\n",
       " (391507183872888723, 6),\n",
       " (-1535191227773175294, 5),\n",
       " (8084420244503165835, 5),\n",
       " (-4396774308091470754, 5),\n",
       " (-7390447150726012163, 5),\n",
       " (4102057504593082551, 5),\n",
       " (902685887899855584, 5),\n",
       " (4942304123446436355, 5),\n",
       " (6842546704253269153, 5),\n",
       " (-5965048761928062146, 5),\n",
       " (5240515056576776145, 5),\n",
       " (4670998078194884524, 5),\n",
       " (712965584648631401, 5),\n",
       " (-4903076216464836173, 5),\n",
       " (8669919634974268820, 5),\n",
       " (2422773511964551104, 5),\n",
       " (-4373667159161583237, 5),\n",
       " (4774787532643804070, 5),\n",
       " (-3191136291557291841, 5),\n",
       " (4207115475731085533, 5),\n",
       " (-6514161640283859741, 5),\n",
       " (-3837437204466269741, 5),\n",
       " (5501768971798762433, 5),\n",
       " (8354138016452471844, 5),\n",
       " (1202732957141506628, 5),\n",
       " (-2719325624743473756, 5),\n",
       " (5587884570072139981, 5),\n",
       " (3312530650317515892, 5),\n",
       " (-3627660489801540025, 5),\n",
       " (-8699768824504631370, 5),\n",
       " (-4001005031876716628, 5),\n",
       " (7507865839838133244, 5),\n",
       " (-5794825507899999904, 5),\n",
       " (-7908358172931243480, 5),\n",
       " (4918924733865058861, 5),\n",
       " (1173677713697981685, 5),\n",
       " (9048950138802491104, 5),\n",
       " (-103450664472281380, 4),\n",
       " (-3621772538972890455, 4),\n",
       " (6545581449196469590, 4),\n",
       " (-699214834879240136, 4),\n",
       " (-247832682673797726, 4),\n",
       " (4423895157188001344, 4),\n",
       " (5526490613185524, 4),\n",
       " (1084735275471486579, 4),\n",
       " (6060318018394635800, 4),\n",
       " (5507297161358511376, 4),\n",
       " (3008850788859564760, 4),\n",
       " (-295205221968146542, 4),\n",
       " (8805164650350044309, 4),\n",
       " (-5513540297336382411, 4),\n",
       " (-532096494955017402, 4),\n",
       " (4553551184221365286, 4),\n",
       " (-9006353499465028921, 4),\n",
       " (-6773417753748597678, 4),\n",
       " (-6991634431449191233, 4),\n",
       " (8014960900159996053, 4),\n",
       " (5898216087912037404, 4),\n",
       " (-8075631423354560938, 4),\n",
       " (6160972208029419685, 4),\n",
       " (354562654851746893, 4),\n",
       " (-1805082183773562618, 4),\n",
       " (8350997288072353599, 4),\n",
       " (-1867318691414181472, 4),\n",
       " (2297894050252411439, 4),\n",
       " (4876348183078089883, 4),\n",
       " (1264959689591639730, 4),\n",
       " (2500353209574879476, 4),\n",
       " (-3158831027442330128, 4),\n",
       " (2702207182321589632, 4),\n",
       " (6970112166765398380, 4),\n",
       " (3454820313326935806, 4),\n",
       " (-8122190533493710623, 4),\n",
       " (1905138263697960620, 4),\n",
       " (7145306127541516114, 4),\n",
       " (1988332002986567820, 4),\n",
       " (-8263130659079583082, 4),\n",
       " (3701468067280481446, 4),\n",
       " (3850898856597437919, 4),\n",
       " (403739722909501362, 4),\n",
       " (-1269382354302220501, 4),\n",
       " (5727316950089200618, 4),\n",
       " (-1160105999600751014, 4),\n",
       " (-9116181314659177352, 4),\n",
       " (3035771608493976603, 3),\n",
       " (-2219107362696877427, 3),\n",
       " (-8595744453458720070, 3),\n",
       " (-5133050977184414355, 3),\n",
       " (-2176785780782085820, 3),\n",
       " (-5595621262351715162, 3),\n",
       " (6318477797198804532, 3),\n",
       " (-4630419599795661592, 3),\n",
       " (-5904693283172902666, 3),\n",
       " (-3719980566556971244, 3),\n",
       " (-756375531732557963, 3),\n",
       " (-1753468960453418974, 3),\n",
       " (-8114575045822473427, 3),\n",
       " (-2463950181287559714, 3),\n",
       " (-9033945284744652354, 3),\n",
       " (-7289390243333580921, 3),\n",
       " (5512916336311416760, 3),\n",
       " (-5117079169805972347, 3),\n",
       " (-2218252332880208291, 3),\n",
       " (3737419159059621626, 3),\n",
       " (2137966165934288255, 3),\n",
       " (-604458514386817197, 3),\n",
       " (640351740238125576, 3),\n",
       " (8455069397340361195, 3),\n",
       " (3555161427340385745, 3),\n",
       " (-378482186523918693, 3),\n",
       " (-3567677874091269046, 3),\n",
       " (8076269687691535827, 3),\n",
       " (-853380619160217468, 3),\n",
       " (2409911186513964726, 3),\n",
       " (-5270127656198219218, 3),\n",
       " (-5962505980757173634, 3),\n",
       " (-2982056999339661425, 3),\n",
       " (6285788635600282317, 3),\n",
       " (5344024303150620994, 3),\n",
       " (6007341777866150099, 3),\n",
       " (8014341550121738716, 3),\n",
       " (64396358544838184, 3),\n",
       " (-951475065386505648, 3),\n",
       " (3949067182055400225, 3),\n",
       " (6140482133625839967, 3),\n",
       " (5664227270189683367, 3),\n",
       " (5395789787531421357, 3),\n",
       " (-3541438669941150053, 3),\n",
       " (3523696848314704164, 3),\n",
       " (7171387825041191866, 3),\n",
       " (6656540372569341986, 3),\n",
       " (3824465726587221099, 3),\n",
       " (1339756718250823709, 3),\n",
       " (9100584723857395252, 3),\n",
       " (6164340185734131197, 3),\n",
       " (-2655562085871402551, 3),\n",
       " (-6762578416761424882, 3),\n",
       " (6049103644055646323, 3),\n",
       " (-8252501757500911119, 3),\n",
       " (-1541307376459765752, 3),\n",
       " (173740173089667680, 3),\n",
       " (7541824754894517489, 3),\n",
       " (488230177286751973, 3),\n",
       " (6239489722738831099, 3),\n",
       " (-9125974807482181625, 3),\n",
       " (7839399600114411349, 3),\n",
       " (3064020504710329198, 3),\n",
       " (-6805777034732191025, 3),\n",
       " (-5246466027275397284, 3),\n",
       " (-5098491346773366568, 3),\n",
       " (-8162719282224742038, 3),\n",
       " (3700723242674672651, 3),\n",
       " (3942527008230819059, 3),\n",
       " (1774294774792104640, 3),\n",
       " (5137544852718041308, 3),\n",
       " (-1594148833276818011, 3),\n",
       " (-4656492381372047799, 3),\n",
       " (-9088255197566871244, 3),\n",
       " (1148431768315145077, 3),\n",
       " (-8356414171951097640, 3),\n",
       " (663157350616494981, 3),\n",
       " (-1340862939582496439, 3),\n",
       " (8191128836362666130, 3),\n",
       " (-9188929790404509836, 3),\n",
       " (5352304111323155462, 3),\n",
       " (7115786635225555067, 3),\n",
       " (-5142158473018379112, 3),\n",
       " (3050729934951489843, 3),\n",
       " (1086108158828391919, 3),\n",
       " (-3746440883315643867, 2),\n",
       " (-6144491562673093986, 2),\n",
       " (-840382750259989588, 2),\n",
       " (-9110765643934459280, 2),\n",
       " (-7354905098686258874, 2),\n",
       " (6881421107248787450, 2),\n",
       " (1064541578493880141, 2),\n",
       " (-5350352370858150449, 2),\n",
       " (-5650343283419476940, 2),\n",
       " (4909095607766347000, 2),\n",
       " (2821392962338697013, 2),\n",
       " (573882942599758191, 2),\n",
       " (-5197795637129686340, 2),\n",
       " (-1183850252682401448, 2),\n",
       " (3995821834882703583, 2),\n",
       " (3369772482638324835, 2),\n",
       " (-4205978617168941049, 2),\n",
       " (-5267051985795647405, 2),\n",
       " (-6982875670099023030, 2),\n",
       " (-2794162606379948151, 2),\n",
       " (-1721606215878724715, 2),\n",
       " (8019149081564655807, 2),\n",
       " (-5238830854263675238, 2),\n",
       " (1218497187890131348, 2),\n",
       " (1790272711473265183, 2),\n",
       " (5644725188804751382, 2),\n",
       " (8142697638043482721, 2),\n",
       " (-6610762170005019885, 2),\n",
       " (4116812929164235539, 2),\n",
       " (1559596598530747549, 2),\n",
       " (726227021326348877, 2),\n",
       " (-2408089855227399566, 2),\n",
       " (-4750289686270003321, 2),\n",
       " (7511566527385352451, 2),\n",
       " (5826768452626719681, 2),\n",
       " (-1402439287522224510, 2),\n",
       " (-138259124305856469, 2),\n",
       " (-1783585023828799930, 2),\n",
       " (-5098173287226496532, 2),\n",
       " (-4042854311929390402, 2),\n",
       " (8658069275830202895, 2),\n",
       " (-320449058862016188, 2),\n",
       " (-4667465065140318551, 2),\n",
       " (-4575649275532063079, 2),\n",
       " (-2351563868177441399, 2),\n",
       " (8336703993577515787, 2),\n",
       " (4109361471650513749, 2),\n",
       " (1058835320921734820, 2),\n",
       " (-1720157079517173989, 2),\n",
       " (-4659432060006567598, 2),\n",
       " (-9005105430164556737, 2),\n",
       " (1342568778657628625, 2),\n",
       " (-7353843947445953248, 2),\n",
       " (724334370894621261, 2),\n",
       " (2906238515604096372, 2),\n",
       " (6691782924444210755, 2),\n",
       " (6404057454037392676, 2),\n",
       " (-7216680401360231976, 2),\n",
       " (4094065630679538979, 2),\n",
       " (6263542430798466975, 2),\n",
       " (2338908933276485407, 2),\n",
       " (-4410164580940302076, 2),\n",
       " (-805429648041758955, 2),\n",
       " (2333868445091134363, 2),\n",
       " (-7886341689712176649, 2),\n",
       " (-5969041694597413734, 2),\n",
       " (3014014572322162916, 2),\n",
       " (3874914821257102565, 2),\n",
       " (6965378633136194644, 2),\n",
       " (1341193274774501556, 2),\n",
       " (104779496072879759, 2),\n",
       " (-8489176660534302002, 2),\n",
       " (-5355061072827726492, 2),\n",
       " (-1746823652544436596, 2),\n",
       " (6391883815341628303, 2),\n",
       " (-6053928404744816965, 2),\n",
       " (-8970261762378474264, 2),\n",
       " (-4998158331191793499, 2),\n",
       " (-7276236682415746204, 2),\n",
       " (-1076114450333881757, 2),\n",
       " (7803225983014050068, 2),\n",
       " (7047526347403918238, 2),\n",
       " (-8938096551572430289, 2),\n",
       " (-6867895686962080772, 2),\n",
       " (3218248403229007791, 2),\n",
       " (340341315985048042, 2),\n",
       " (-7116961306646053887, 2),\n",
       " (-6907732712839858890, 2),\n",
       " (-5344380183479380896, 2),\n",
       " (7291517569661428598, 2),\n",
       " (2736769964214731866, 2),\n",
       " (-5951978883368499266, 2),\n",
       " (1747402623421940129, 2),\n",
       " (2499173422949487477, 2),\n",
       " (6587934182552315100, 2),\n",
       " (-1023575055696675979, 2),\n",
       " (3806715434352838797, 2),\n",
       " (-8716105925274738905, 2),\n",
       " (-9090622929058784209, 2),\n",
       " (-8881722847777298355, 2),\n",
       " (-8253349308015656274, 2),\n",
       " (-4351919983484257073, 2),\n",
       " (-8373452355655037016, 2),\n",
       " (-313843910255461059, 2),\n",
       " (7460267748979997927, 2),\n",
       " (-9121274534545283139, 2),\n",
       " (-1580249084069634202, 2),\n",
       " (3168748432248976368, 2),\n",
       " (7436492204450215356, 2),\n",
       " (5872217589507869156, 2),\n",
       " (-8778941695390891644, 2),\n",
       " (-6899806992723358661, 2),\n",
       " (-90038553100401492, 2),\n",
       " (4371525567386357295, 2),\n",
       " (-8299453168985591559, 2),\n",
       " (-7435254097008056893, 2),\n",
       " (-50214212576171430, 2),\n",
       " (3044469197102307965, 2),\n",
       " (-6640018435351212085, 2),\n",
       " (-778487967097044226, 2),\n",
       " (6401199400491015682, 2),\n",
       " (-7395919518338635876, 2),\n",
       " (7643457325288333180, 2),\n",
       " (6195561067405322072, 2),\n",
       " (5220684258380259480, 2),\n",
       " (-8712751057046364119, 2),\n",
       " (-8112488752891075957, 2),\n",
       " (6933350988092123815, 2),\n",
       " (-2564643064246130120, 2),\n",
       " (-1253149785761400208, 2),\n",
       " (-7368780097827870114, 2),\n",
       " (1469175661802574718, 2),\n",
       " (3809994812880794698, 2),\n",
       " (1326489219856684670, 2),\n",
       " (-8900684738226383989, 2),\n",
       " (-1149831957006460679, 2),\n",
       " (-3727989209904525018, 2),\n",
       " (940530483822692085, 2),\n",
       " (-1044522318388638085, 2),\n",
       " (-3733690288035556088, 2),\n",
       " (2117965215996486298, 2),\n",
       " (2728960154176537694, 2),\n",
       " (8213091148817427400, 2),\n",
       " (-2520750545798429379, 2),\n",
       " (747482573269924469, 2),\n",
       " (3727569042701399351, 2),\n",
       " (-1184609950165760395, 2),\n",
       " (6580560166284707405, 2),\n",
       " (3920410527640728827, 2),\n",
       " (3013866625095591743, 2),\n",
       " (-5516863682297399108, 2),\n",
       " (4198168646290586099, 2),\n",
       " (-8549682919312707259, 1),\n",
       " (-2941190857239414940, 1),\n",
       " (823138629997747105, 1),\n",
       " (-7519903828529876709, 1),\n",
       " (-2112086234391014669, 1),\n",
       " (-1067774280301299544, 1),\n",
       " (-118598029176756810, 1),\n",
       " (-3931539465472380661, 1),\n",
       " (-878141027868409626, 1),\n",
       " (-8183374057293445210, 1),\n",
       " (3287011462204187640, 1),\n",
       " (8601431009482502064, 1),\n",
       " (4470477461609094710, 1),\n",
       " (-6024936962970214992, 1),\n",
       " (-3220566144583520079, 1),\n",
       " (3794097932818382371, 1),\n",
       " (7304313644276667163, 1),\n",
       " (-178776652164986193, 1),\n",
       " (7831366353530077587, 1),\n",
       " (-5334424391047774532, 1),\n",
       " (-2607880268593248686, 1),\n",
       " (-8470091029503758317, 1),\n",
       " (-1371642947103164689, 1),\n",
       " (2222117188405817008, 1),\n",
       " (4416832430148671000, 1),\n",
       " (-160166471566046243, 1),\n",
       " (4036321935705957256, 1),\n",
       " (7292278622506984683, 1),\n",
       " (-5455765425048907531, 1),\n",
       " (-4757280228707170271, 1),\n",
       " (-3829289106920634696, 1),\n",
       " (6431802420763511858, 1),\n",
       " (6099066526073403342, 1),\n",
       " (1583305531643823555, 1),\n",
       " (-4797678776970907642, 1),\n",
       " (-3211766163998818141, 1),\n",
       " (4368635304838725109, 1),\n",
       " (6063529420817015228, 1),\n",
       " (351385141166541125, 1),\n",
       " (8364836298574417194, 1),\n",
       " (1035254568453635364, 1),\n",
       " (6796964379710444497, 1),\n",
       " (8107652112336183014, 1),\n",
       " (-8231151062302724964, 1),\n",
       " (1308440381292771773, 1),\n",
       " (-8310322599962875641, 1),\n",
       " (-4528289727385799384, 1),\n",
       " (-3633168983477221604, 1),\n",
       " (-2031179872538832594, 1),\n",
       " (6027955883322344331, 1),\n",
       " (8067310515680559759, 1),\n",
       " (-2979330621359949761, 1),\n",
       " (-1452037435558503206, 1),\n",
       " (-3812660225009504978, 1),\n",
       " (3244554937764018133, 1),\n",
       " (-1002428135089275195, 1),\n",
       " (-1764206148597735178, 1),\n",
       " (1232795075279070368, 1),\n",
       " (-33794892899202183, 1),\n",
       " (-2880876436504255, 1),\n",
       " (-2943415280681893044, 1),\n",
       " (6811466934492377231, 1),\n",
       " (-6184264978259807883, 1),\n",
       " (-1975466082801247855, 1),\n",
       " (5584560971511642703, 1),\n",
       " (-5006484762881499124, 1),\n",
       " (-3113533416762064784, 1),\n",
       " (2629629735390660065, 1),\n",
       " (-4865370481859498100, 1),\n",
       " (-2945915885383189283, 1),\n",
       " (8609687024772252516, 1),\n",
       " (-4461393457328036145, 1),\n",
       " (-2882481282351325411, 1),\n",
       " (4443867330482452155, 1),\n",
       " (-6531806643335432434, 1),\n",
       " (2219466204492264759, 1),\n",
       " (-1380820016397468945, 1),\n",
       " (-3862929729857695874, 1),\n",
       " (2967074967594963706, 1),\n",
       " (-6668426633256639088, 1),\n",
       " (-7220630385165409962, 1),\n",
       " (-8271830515922369388, 1),\n",
       " (-3309363417755234394, 1),\n",
       " (-7591899416783820947, 1),\n",
       " (-3046251188132461316, 1),\n",
       " (416535911920522761, 1),\n",
       " (-1910702475449887921, 1),\n",
       " (5324023134235372940, 1),\n",
       " (-4705078859045776325, 1),\n",
       " (5133111091050918253, 1),\n",
       " (809780716138828577, 1),\n",
       " (-830836986850591887, 1),\n",
       " (9064693381101706967, 1),\n",
       " (2327843404348621570, 1),\n",
       " (824990590511612447, 1),\n",
       " (-7907731033141591057, 1),\n",
       " (-422220625165322152, 1),\n",
       " (5982972765069975650, 1),\n",
       " (-6707254917413191542, 1),\n",
       " (-6287094006071103591, 1),\n",
       " (-4434498591200945214, 1),\n",
       " (6066595987818647825, 1),\n",
       " (18365246776043180, 1),\n",
       " (-5324621489515424675, 1),\n",
       " (750670463025449680, 1),\n",
       " (8815013709361520208, 1),\n",
       " (-780920209169500282, 1),\n",
       " (6705924839706389301, 1),\n",
       " (3605394153520169233, 1),\n",
       " (-5464129621852110895, 1),\n",
       " (-3449262416974087705, 1),\n",
       " (-7126250011339835074, 1),\n",
       " (4763035626401678617, 1),\n",
       " (6866375388126795548, 1),\n",
       " (5274540566039175704, 1),\n",
       " (-5608654923287169105, 1),\n",
       " (-8444336650779075230, 1),\n",
       " (1276203307368478356, 1),\n",
       " (-7485260892304258447, 1),\n",
       " (-2957698916933601859, 1),\n",
       " (-529071940352962264, 1),\n",
       " (-2062736052765811978, 1),\n",
       " (-2138166648103087369, 1),\n",
       " (-6444760184294657897, 1),\n",
       " (3711136019343113709, 1),\n",
       " (2435774776403897866, 1),\n",
       " (-6132705719619869931, 1),\n",
       " (7936493310385496022, 1),\n",
       " (-8445471117360780299, 1),\n",
       " (4090994901022288487, 1),\n",
       " (-4784849761701368194, 1),\n",
       " (7400302372604107730, 1),\n",
       " (4812514644878959711, 1),\n",
       " (-533884732061575798, 1),\n",
       " (-3085432698580426471, 1),\n",
       " (7901633186738216758, 1),\n",
       " (1533034028826967992, 1),\n",
       " (4976644128175319904, 1),\n",
       " (-1569819645937703326, 1),\n",
       " (-5043263841756438815, 1),\n",
       " (-5180663063065393093, 1),\n",
       " (2796653728170246915, 1),\n",
       " (-3662979869347271029, 1),\n",
       " (5816302774851195109, 1),\n",
       " (-47732379146074077, 1),\n",
       " (-9072207499876902350, 1),\n",
       " (4083292097737992015, 1),\n",
       " (2938163297535203919, 1),\n",
       " (-4847039607796491604, 1),\n",
       " (2457244342511156024, 1),\n",
       " (-8907085537207336512, 1),\n",
       " (-8690576273619329690, 1),\n",
       " (-8163880572309301750, 1),\n",
       " (6214156719284975030, 1),\n",
       " (8550242324731429226, 1),\n",
       " (5312779687008566012, 1),\n",
       " (-5253383535888973500, 1),\n",
       " (2128551279889644488, 1),\n",
       " (-3641908895979885418, 1),\n",
       " (4818201423832489228, 1),\n",
       " (3619719173311665420, 1),\n",
       " (484155495593732050, 1),\n",
       " (-2135619859898822613, 1),\n",
       " (3815659729269121341, 1),\n",
       " (-5527883263578301642, 1),\n",
       " (-1867434255658113725, 1),\n",
       " (-2095950478432452791, 1),\n",
       " (3258596018680786969, 1),\n",
       " (2966638493768049089, 1),\n",
       " (7416103134118212220, 1),\n",
       " (-928732129877921499, 1),\n",
       " (-5881564497018666491, 1),\n",
       " (-6366979942881243201, 1),\n",
       " (1795219879427735094, 1),\n",
       " (1660195977095639255, 1),\n",
       " (6614607481659493161, 1),\n",
       " (2816174641257982416, 1),\n",
       " (8017376701627302714, 1),\n",
       " (-5475288993733437216, 1),\n",
       " (1282380871999968718, 1),\n",
       " (1531026469494054642, 1),\n",
       " (7875001959837431321, 1),\n",
       " (-4811963252179210810, 1),\n",
       " (3108209319852447404, 1),\n",
       " (-27000497843050290, 1),\n",
       " (-5163109837671286576, 1),\n",
       " (-9198873399569774949, 1),\n",
       " (8923995648290386102, 1),\n",
       " (5648807367594708866, 1),\n",
       " (-731237012445363444, 1),\n",
       " (-4962278482907076407, 1),\n",
       " (-2301510781742265013, 1),\n",
       " (8617404022080204996, 1),\n",
       " (404135865554703401, 1),\n",
       " (7918075872982887748, 1),\n",
       " (159447342169337714, 1),\n",
       " (-7447232472230426728, 1),\n",
       " (-3320115800942702376, 1),\n",
       " (3726597165517277345, 1),\n",
       " (6722494533483513603, 1),\n",
       " (3664947027959440726, 1),\n",
       " (-3456323754924722662, 1),\n",
       " (-8991578515473920891, 1),\n",
       " (-1826214402694058955, 1),\n",
       " (1856131451355849284, 1),\n",
       " (-8895102498111328488, 1),\n",
       " (2157882599232030825, 1),\n",
       " (3819683912749139667, 1),\n",
       " (-3123945552811561143, 1),\n",
       " (452866080397773293, 1),\n",
       " (-198309063993691756, 1),\n",
       " (-4124546662745729602, 1),\n",
       " (1912772956871453415, 1),\n",
       " (-8846877312734781020, 1),\n",
       " (4615469132869686480, 1),\n",
       " (-5019098704699172414, 1),\n",
       " (-5927895460878452566, 1),\n",
       " (-4519256910060300036, 1),\n",
       " (6712884941316485161, 1),\n",
       " (2955061623469961096, 1),\n",
       " (535914111499733956, 1),\n",
       " (-6476768082614677625, 1),\n",
       " (-2616570493224866069, 1),\n",
       " (3949359012298694203, 1),\n",
       " (-6250294365318193228, 1),\n",
       " (-1884587529631218124, 1),\n",
       " (-6305764403167533935, 1),\n",
       " (6277176509800454277, 1),\n",
       " (5445305963940736340, 1),\n",
       " (-5310901046436461683, 1),\n",
       " (-5490633811755880560, 1),\n",
       " (8753060885798318554, 1),\n",
       " (4877306302002913769, 1),\n",
       " (-329364982173967087, 1),\n",
       " (-3456422897396252023, 1),\n",
       " (8196899020427036161, 1),\n",
       " (1549622861183817354, 1),\n",
       " (-4698421704794435333, 1),\n",
       " (-27943443199084718, 1),\n",
       " (8836843134647902142, 1),\n",
       " (8887954791483367919, 1),\n",
       " (3061529786075716709, 1),\n",
       " (5862224334528586958, 1),\n",
       " (-1496354944080770553, 1),\n",
       " (-7859475638323948971, 1),\n",
       " (921942831671518858, 1),\n",
       " (-5862808417401009791, 1),\n",
       " (6046482485148670613, 1),\n",
       " (-4112334756050106687, 1),\n",
       " (4778702410858989181, 1),\n",
       " (-6661565978137628926, 1),\n",
       " (6973239914982839051, 1),\n",
       " (1903761004370470182, 1),\n",
       " (2993698456221210408, 1),\n",
       " (-8060529751687106829, 1),\n",
       " (611605966467970789, 1),\n",
       " (4880946745999489495, 1),\n",
       " (-6710767470992647174, 1),\n",
       " (3863039811446440261, 1),\n",
       " (-768454750696895131, 1),\n",
       " (4177384329548480814, 1),\n",
       " (-972361731418068175, 1),\n",
       " (-58226689514382727, 1),\n",
       " (-4230064564844118212, 1),\n",
       " (-8413505689300602040, 1),\n",
       " (5731194084476931470, 1),\n",
       " (-3948595535927118687, 1),\n",
       " (-6219877491121418024, 1),\n",
       " (3985184222973119246, 1),\n",
       " (-7866688912046307222, 1),\n",
       " (6152702112812752554, 1),\n",
       " (-7178131428012854481, 1),\n",
       " (5337840930960024630, 1),\n",
       " (-2513665178686969423, 1),\n",
       " (4120535648150665559, 1),\n",
       " (624539028143601536, 1),\n",
       " (200301495598188944, 1),\n",
       " (-4798708446378601512, 1),\n",
       " (-5478525268284742863, 1),\n",
       " (6491227474256636907, 1),\n",
       " (2244608950648262811, 1),\n",
       " (-8857595625502841058, 1),\n",
       " (1988644518871778087, 1),\n",
       " (-5085281843644063977, 1),\n",
       " (4226892293180356337, 1),\n",
       " (7710741902501096451, 1),\n",
       " (3712466606359434560, 1),\n",
       " (-2062852368314633923, 1),\n",
       " (-70912102002660132, 1),\n",
       " (844636703169895645, 1),\n",
       " (-83181354235649842, 1),\n",
       " (6484610763747560541, 1),\n",
       " (-1023267211999638857, 1),\n",
       " (136066218017079953, 1),\n",
       " (100189726245203092, 1),\n",
       " (1108120746387920756, 1),\n",
       " (637563039382292944, 1),\n",
       " (-6551406159666589475, 1),\n",
       " (2054924494964805731, 1),\n",
       " (-1535796645059700238, 1),\n",
       " (3776304331437741598, 1),\n",
       " (-4823865737686470658, 1),\n",
       " (7500447822901095619, 1),\n",
       " (3760979747763976372, 1),\n",
       " (-8119787059280834959, 1),\n",
       " (3832864259304151799, 1),\n",
       " (-7359089984304525270, 1),\n",
       " (3486001352214463468, 1),\n",
       " (-5653651815996630873, 1),\n",
       " (72765921876242200, 1),\n",
       " (-8997223865733699742, 1),\n",
       " (-4313969666172423231, 1),\n",
       " (6658229118498413527, 1),\n",
       " (715512665064658717, 1),\n",
       " (-8133302277550571900, 1),\n",
       " (53990288738030576, 1),\n",
       " (-5023872254293642182, 1),\n",
       " (3927155047054399125, 1),\n",
       " (4422841864204187860, 1),\n",
       " (7761882277144607947, 1),\n",
       " (-7491611711295009730, 1),\n",
       " (-4647113257368243538, 1),\n",
       " (3367453581671332817, 1),\n",
       " (2847741894096094580, 1),\n",
       " (1594980151577965699, 1),\n",
       " (7536817988192418072, 1),\n",
       " (7767918737189906391, 1),\n",
       " (-6308186520203857035, 1),\n",
       " (5463804748799591243, 1),\n",
       " (3726179388293529963, 1),\n",
       " (6542872233327874066, 1),\n",
       " (-4821931902086414545, 1),\n",
       " (-2296441510341699651, 1),\n",
       " (-1415726284599023918, 1),\n",
       " (-991586194320793192, 1),\n",
       " (1556188654194449008, 1),\n",
       " (7986142195236114672, 1),\n",
       " (5315067407920153526, 1),\n",
       " (-87631953863024916, 1),\n",
       " (2292332604721290299, 1),\n",
       " (-5863732565315731969, 1),\n",
       " (-7567472626620413941, 1),\n",
       " (8362625220480236869, 1),\n",
       " (7149582463536944062, 1),\n",
       " (7829593838106766529, 1),\n",
       " (-1993826452946922268, 1),\n",
       " (-7629082113486734150, 1),\n",
       " (7524830602848737291, 1),\n",
       " (-1508174663599513184, 1),\n",
       " (-8375755876170428443, 1),\n",
       " (486652360312809873, 1),\n",
       " (-3288411653079832491, 1),\n",
       " (-4085649575062057656, 1),\n",
       " (-7065484533218866577, 1),\n",
       " (-8424551566006381059, 1),\n",
       " (-2982494631849971372, 1),\n",
       " (-6694543829852892731, 1),\n",
       " (4163814540752060459, 1),\n",
       " (8429976892622982098, 1),\n",
       " (-7509292716497875843, 1),\n",
       " (7258760287417691352, 1),\n",
       " (1130653511743360451, 1),\n",
       " (51677225917265881, 1),\n",
       " (6383194081461751460, 1),\n",
       " (-1037979199492224416, 1),\n",
       " (-4095763077522496274, 1),\n",
       " (-4163449522526773145, 1),\n",
       " (-8136800263644108671, 1),\n",
       " (7265236830004032154, 1),\n",
       " (-6701780927026977030, 1),\n",
       " (-2771151431301680759, 1),\n",
       " (7805652412217603070, 1),\n",
       " (-8342166635089208869, 1),\n",
       " (-3958474859734713030, 1),\n",
       " (-2745554850105876776, 1),\n",
       " (-3136213162314756831, 1),\n",
       " (2682227489010612826, 1),\n",
       " (-4143354978471620070, 1),\n",
       " (5792008331289421550, 1),\n",
       " (4402352576388719630, 1),\n",
       " (-50088362825062941, 1),\n",
       " (696752579687585474, 1),\n",
       " (7397240572832542500, 1),\n",
       " (3446522501010814154, 1),\n",
       " (-5478007243246868377, 1),\n",
       " (5770529065289652758, 1),\n",
       " (2729763021872957649, 1),\n",
       " (-2804178877073101663, 1),\n",
       " (-3514660521617464518, 1),\n",
       " (4891616199014804033, 1),\n",
       " (-6203732964658752490, 1),\n",
       " (6020655363934056113, 1),\n",
       " (2287604364210317571, 1),\n",
       " (8791572348203212137, 1),\n",
       " (-2068422782433896764, 1),\n",
       " (3432356475805536461, 1),\n",
       " (8094441297351047209, 1),\n",
       " (-1566123947815929432, 1),\n",
       " (-1197956780910540354, 1),\n",
       " (1719294682299858991, 1),\n",
       " (-5143455621031299967, 1),\n",
       " (7426482348286646973, 1),\n",
       " (-4827163888040696235, 1),\n",
       " (-1385147634441607278, 1),\n",
       " (1537902374776783639, 1),\n",
       " (-4018735572451392787, 1),\n",
       " (1381758508356458099, 1),\n",
       " (5572166429698777148, 1),\n",
       " (-5475608713628962601, 1),\n",
       " (355893370966971927, 1),\n",
       " (-7853248343257315480, 1),\n",
       " (-1882161706217393875, 1),\n",
       " (5824836725882572033, 1),\n",
       " (6752998046797648266, 1),\n",
       " (6062543733810468303, 1),\n",
       " (-1883202090482954468, 1),\n",
       " (-5589330974826079038, 1),\n",
       " (7721237036938935023, 1),\n",
       " (-4276799026652015102, 1),\n",
       " (-1364550897179190478, 1),\n",
       " (6734664847554337088, 1),\n",
       " (7750686222018789760, 1),\n",
       " (4497585931325048203, 1),\n",
       " (1921660768575324061, 1),\n",
       " (-3498766045496708816, 1),\n",
       " (3566699331379840256, 1),\n",
       " (2650531365238087322, 1),\n",
       " (4179419987356333228, 1),\n",
       " (-9033475880554653191, 1),\n",
       " (-3072739576134733167, 1),\n",
       " (7796572959802838833, 1),\n",
       " (6211151606869584351, 1),\n",
       " (-9069667062081871941, 1),\n",
       " (-9093655464838134885, 1),\n",
       " (5031794441039335295, 1),\n",
       " (-6982456209942960035, 1),\n",
       " (5158141592214845114, 1),\n",
       " (-2737010266432010037, 1),\n",
       " (-2959935116440923654, 1),\n",
       " (4371404021593247769, 1),\n",
       " (2430717752502337378, 1),\n",
       " (8733354391568217010, 1),\n",
       " (2304364152337909172, 1),\n",
       " (-1048949586097408864, 1),\n",
       " (-6473700158687857190, 1),\n",
       " (3430226523477977071, 1),\n",
       " ...]"
      ]
     },
     "execution_count": 30,
     "metadata": {},
     "output_type": "execute_result"
    }
   ],
   "source": [
    "counters[-1]['res_hash'].most_common()"
   ]
  },
  {
   "cell_type": "markdown",
   "metadata": {},
   "source": [
    "### Substations acted on"
   ]
  },
  {
   "cell_type": "code",
   "execution_count": 31,
   "metadata": {},
   "outputs": [],
   "source": [
    "substations_with_actions = [1,2,3,4,5,8,12,-1]"
   ]
  },
  {
   "cell_type": "code",
   "execution_count": 32,
   "metadata": {},
   "outputs": [
    {
     "data": {
      "text/plain": [
       "array([0, 0, 0, 0, 0, 0, 0, 0])"
      ]
     },
     "execution_count": 32,
     "metadata": {},
     "output_type": "execute_result"
    }
   ],
   "source": [
    "np.array(counters[c_i]['sub_changed'])[substations_with_actions]"
   ]
  },
  {
   "cell_type": "code",
   "execution_count": 33,
   "metadata": {},
   "outputs": [
    {
     "data": {
      "image/png": "[encoded data removed]",
      "text/plain": [
       "<Figure size 921.6x691.2 with 16 Axes>"
      ]
     },
     "metadata": {
      "needs_background": "light"
     },
     "output_type": "display_data"
    }
   ],
   "source": [
    "fig, axs = plt.subplots(4,4,figsize=[2*6.4, 2*4.8])#, sharex=True, sharey=True)\n",
    "axs = axs.reshape(-1)\n",
    "fig.tight_layout()\n",
    "for plt_i, c_i in enumerate(line_disabled_to_consider):\n",
    "    axs[plt_i].bar([str(b) for b in substations_with_actions],\n",
    "                   np.array(counters[c_i]['sub_changed'])[substations_with_actions])\n",
    "    axs[plt_i].title.set_text(f'Line {c_i} removed')\n",
    "\n",
    "for i in range(len(axs)-len(line_disabled_to_consider)):\n",
    "    axs[len(axs)-i-1].axis('off')\n",
    "    \n",
    "_ = fig.suptitle('Substations acted on per line outage', fontsize=16, y=1.05)"
   ]
  },
  {
   "cell_type": "code",
   "execution_count": 34,
   "metadata": {},
   "outputs": [
    {
     "data": {
      "image/png": "[encoded data removed]",
      "text/plain": [
       "<Figure size 1382.4x345.6 with 3 Axes>"
      ]
     },
     "metadata": {
      "needs_background": "light"
     },
     "output_type": "display_data"
    }
   ],
   "source": [
    "fig, axs = plt.subplots(1,3,figsize=[3*6.4, 1*4.8])\n",
    "\n",
    "axs[0].bar([str(l) for l in substations_with_actions[:-1]] + ['No action'],\n",
    "        np.sum(np.array([counters[c_i]['sub_changed'] \\\n",
    "                                                   for c_i in line_group1]),axis=0)[substations_with_actions])\n",
    "axs[0].ticklabel_format(axis=\"y\", style=\"sci\", scilimits=(0,0))\n",
    "axs[0].set_title('Cluster 1')\n",
    "\n",
    "axs[1].bar([str(l) for l in substations_with_actions[:-1]] + ['No action'],\n",
    "        np.sum(np.array([counters[c_i]['sub_changed'] \\\n",
    "                                                   for c_i in line_group2]),axis=0)[substations_with_actions])\n",
    "axs[1].ticklabel_format(axis=\"y\", style=\"sci\", scilimits=(0,0))\n",
    "axs[1].set_title('Cluster 2')\n",
    "\n",
    "axs[2].bar([str(l) for l in substations_with_actions[:-1]] + ['No action'],\n",
    "        np.sum(np.array([counters[c_i]['sub_changed'] \\\n",
    "                                                   for c_i in line_disabled_to_consider]),axis=0)[substations_with_actions])\n",
    "axs[2].ticklabel_format(axis=\"y\", style=\"sci\", scilimits=(0,0))\n",
    "axs[2].set_title('Total')\n",
    "\n",
    "fig.suptitle('Distribution of Substations Acted On', fontsize=16, y=1)\n",
    "fig.savefig('data_preprocessing_analysis/figures/distribution_substations.png', dpi=300)"
   ]
  },
  {
   "cell_type": "markdown",
   "metadata": {},
   "source": [
    "### Topological Depth"
   ]
  },
  {
   "cell_type": "code",
   "execution_count": 35,
   "metadata": {},
   "outputs": [
    {
     "name": "stderr",
     "output_type": "stream",
     "text": [
      "<ipython-input-35-a35de823d72d>:3: RuntimeWarning: invalid value encountered in long_scalars\n",
      "  return np.sum(np.array([i*v for i,v in enumerate(lst)]))/sum(lst)\n"
     ]
    },
    {
     "data": {
      "text/plain": [
       "[(-1, 1.4628938560381641),\n",
       " (0, nan),\n",
       " (1, nan),\n",
       " (2, nan),\n",
       " (3, nan),\n",
       " (4, nan),\n",
       " (5, nan),\n",
       " (6, nan),\n",
       " (10, nan),\n",
       " (12, nan),\n",
       " (13, nan),\n",
       " (15, nan),\n",
       " (16, nan),\n",
       " (19, nan)]"
      ]
     },
     "execution_count": 35,
     "metadata": {},
     "output_type": "execute_result"
    }
   ],
   "source": [
    "do_nothing_action_hashes = [h for h,t in hash_to_act.items() if sum(t)==0]\n",
    "def mean_index(lst):\n",
    "    return np.sum(np.array([i*v for i,v in enumerate(lst)]))/sum(lst)\n",
    "[(k,mean_index(v['changed_subs_n']))\n",
    " for k,v in counters.items() if k in line_disabled_to_consider]"
   ]
  },
  {
   "cell_type": "markdown",
   "metadata": {},
   "source": [
    "mean topological depth"
   ]
  },
  {
   "cell_type": "code",
   "execution_count": 36,
   "metadata": {},
   "outputs": [
    {
     "name": "stdout",
     "output_type": "stream",
     "text": [
      "Total: 1.4628938560381641\n",
      "Group 1: 1.4628938560381641\n",
      "Group 2: nan\n"
     ]
    },
    {
     "name": "stderr",
     "output_type": "stream",
     "text": [
      "<ipython-input-35-a35de823d72d>:3: RuntimeWarning: invalid value encountered in long_scalars\n",
      "  return np.sum(np.array([i*v for i,v in enumerate(lst)]))/sum(lst)\n"
     ]
    }
   ],
   "source": [
    "print('Total:',\n",
    "    mean_index(np.sum(np.array([v['changed_subs_n'] for k,v in counters.items() \n",
    "                            if k in line_disabled_to_consider ]),axis=0)))\n",
    "print('Group 1:',\n",
    "      mean_index(np.sum(np.array([v['changed_subs_n'] for k,v in counters.items() \n",
    "                            if k in line_group1 ]),axis=0)))\n",
    "print('Group 2:',\n",
    "    mean_index(np.sum(np.array([v['changed_subs_n'] for k,v in counters.items() \n",
    "                            if k in line_group2 ]),axis=0)))"
   ]
  },
  {
   "cell_type": "code",
   "execution_count": 37,
   "metadata": {},
   "outputs": [
    {
     "data": {
      "image/png": "[encoded data removed]",
      "text/plain": [
       "<Figure size 921.6x691.2 with 16 Axes>"
      ]
     },
     "metadata": {
      "needs_background": "light"
     },
     "output_type": "display_data"
    }
   ],
   "source": [
    "fig, axs = plt.subplots(4,4,figsize=[2*6.4, 2*4.8])#, sharex=True, sharey=True)\n",
    "axs = axs.reshape(-1)\n",
    "fig.tight_layout()\n",
    "for plt_i, c_i in enumerate(line_disabled_to_consider):\n",
    "    axs[plt_i].bar([str(n) for n in range(len(substations_with_actions))],\n",
    "                   counters[c_i]['changed_subs_n'][0:len(substations_with_actions)])\n",
    "    axs[plt_i].title.set_text(f'Line {c_i} removed')\n",
    "\n",
    "for i in range(len(axs)-len(line_disabled_to_consider)):\n",
    "    axs[len(axs)-i-1].axis('off')\n",
    "    \n",
    "_ = fig.suptitle('Topological depth of resulting topologies per line outage', fontsize=16, y=1.05)"
   ]
  },
  {
   "cell_type": "code",
   "execution_count": 38,
   "metadata": {},
   "outputs": [
    {
     "data": {
      "text/plain": [
       "Text(0.5, 1.0, '')"
      ]
     },
     "execution_count": 38,
     "metadata": {},
     "output_type": "execute_result"
    },
    {
     "data": {
      "image/png": "[encoded data removed]",
      "text/plain": [
       "<Figure size 432x288 with 1 Axes>"
      ]
     },
     "metadata": {
      "needs_background": "light"
     },
     "output_type": "display_data"
    }
   ],
   "source": [
    "plt.bar([str(n) for n in range(n_sub)],np.sum(np.array([counters[c_i]['changed_subs_n'] \\\n",
    "                                                        for c_i in np.arange(-1,20)]),axis=0))\n",
    "plt.title('')"
   ]
  },
  {
   "cell_type": "code",
   "execution_count": null,
   "metadata": {},
   "outputs": [],
   "source": [
    "fig, axs = plt.subplots(1,3,figsize=[3*6.4, 1*4.8])\n",
    "\n",
    "axs[0].bar(range(len(substations_with_actions)),\n",
    "        np.sum(np.array([counters[c_i]['changed_subs_n'] \\\n",
    "                                                   for c_i in line_group1]),axis=0)[0:8])\n",
    "axs[0].ticklabel_format(axis=\"y\", style=\"sci\", scilimits=(0,0))\n",
    "axs[0].set_title('Cluster 1')\n",
    "\n",
    "axs[1].bar(range(len(substations_with_actions)),\n",
    "        np.sum(np.array([counters[c_i]['changed_subs_n'] \\\n",
    "                                                   for c_i in line_group2]),axis=0)[0:8])\n",
    "axs[1].ticklabel_format(axis=\"y\", style=\"sci\", scilimits=(0,0))\n",
    "axs[1].set_title('Cluster 2')\n",
    "\n",
    "axs[2].bar(range(len(substations_with_actions)),\n",
    "        np.sum(np.array([counters[c_i]['changed_subs_n'] \\\n",
    "                                                   for c_i in line_disabled_to_consider]),axis=0)[0:8])\n",
    "axs[2].ticklabel_format(axis=\"y\", style=\"sci\", scilimits=(0,0))\n",
    "axs[2].set_title('Total')\n",
    "\n",
    "\n",
    "fig.suptitle('Distribution of Topological Depth of Actions', fontsize=16, y=1)\n",
    "fig.savefig('data_preprocessing_analysis/figures/distribution_topological_depth.png', dpi=300)\n",
    "#TODO: remove susbtations that never have any actions"
   ]
  },
  {
   "cell_type": "markdown",
   "metadata": {},
   "source": [
    "# Sequence data analysis on unprocessed data"
   ]
  },
  {
   "cell_type": "code",
   "execution_count": 137,
   "metadata": {},
   "outputs": [],
   "source": [
    "util.set_wd_to_package_root()\n",
    "config = util.load_config()\n",
    "tutor_data_path = config['paths']['tutor_imitation']\n",
    "ts_in_day = config['rte_case14_realistic']['ts_in_day']\n",
    "\n",
    "line_disabled_to_consider = [-1,0,1,2,3,4,5,6,10,12,13,15,16,19]\n",
    "line_group1 = [-1,0,1,2,3,4,5,6,12]\n",
    "line_group2 = [13,15,16,19]"
   ]
  },
  {
   "cell_type": "code",
   "execution_count": 182,
   "metadata": {},
   "outputs": [
    {
     "name": "stderr",
     "output_type": "stream",
     "text": [
      "100%|██████████| 997/997 [00:05<00:00, 195.88it/s]\n"
     ]
    }
   ],
   "source": [
    "unitary_action_counter = Counter()\n",
    "sequence_length_counter = Counter()\n",
    "sequence_counter = Counter()\n",
    "action_ider = action_identificator()\n",
    "\n",
    "for fp in tqdm(idp.get_filepaths(tutor_data_path)):\n",
    "    line_disabled, _, _, _ = idp.extract_data_from_filepath(fp.relative_to(tutor_data_path))\n",
    "    \n",
    "    if line_disabled not in line_disabled_to_consider:\n",
    "        continue\n",
    "    \n",
    "    \n",
    "    \n",
    "    # Load a single file with raw datapoints\n",
    "    chr_ldis_raw_dps = np.load(fp)\n",
    "    \n",
    "    # Define a sequence data object\n",
    "    sequence = []\n",
    "    subs_already_acted_on_in_sequence = []\n",
    "    # Loop over datapoints\n",
    "    for action_idx, timestep in chr_ldis_raw_dps[:,(0,4)]:\n",
    "\n",
    "        \n",
    "        action_idx = int(action_idx)\n",
    "        timestep  = int(timestep)\n",
    "        set_action = action_ider.get_set_topo_vect(action_idx)\n",
    "        action_subid = util.argmax_f(g2o_util.tv_groupby_subst(set_action,\n",
    "                                                               [3, 6, 4, 6, 5, 6, 3, 2, 5, 3, 3, 3, 4, 3]),\n",
    "                                     sum)\n",
    "        \n",
    "        unitary_action_counter[action_idx] += 1\n",
    "        \n",
    "        # If, terminiation condition for a sequence: \n",
    "        #     The action is a do-nothing action OR \n",
    "        #     two timesteps are not consecutive OR\n",
    "        #     two timesteps are not in the same day\n",
    "        # then save the sequence (if it is not empty), and reset the sequence\n",
    "        if (action_idx == -1 or\n",
    "           (sequence and (sequence[-1][1] != timestep-1 or\n",
    "                          g2o_util.ts_to_day(sequence[-1][1], ts_in_day) != g2o_util.ts_to_day(timestep, ts_in_day)) or\n",
    "           action_subid in subs_already_acted_on_in_sequence)):\n",
    "            \n",
    "            # Save the sequence if not empty\n",
    "            if sequence:\n",
    "                sequence_length_counter[len(sequence)] += 1\n",
    "                \n",
    "            \n",
    "            if len(sequence)>-1:\n",
    "                sequence_actions = [a for a,ts in sequence]\n",
    "                sequence_counter[tuple(sequence_actions)] += 1\n",
    "                \n",
    "            # Reset the sequence\n",
    "            if action_idx == -1:\n",
    "                sequence = []\n",
    "                subs_already_acted_on_in_sequence = []\n",
    "            else:\n",
    "                sequence = [(action_idx, timestep)]\n",
    "                subs_already_acted_on_in_sequence = [action_subid]\n",
    "                \n",
    "        # Else, if the action is not do-nothing, add it to the sequence\n",
    "        elif action_idx != -1:\n",
    "            sequence.append((action_idx, timestep))\n",
    "            subs_already_acted_on_in_sequence.append(action_subid)\n",
    "        else:\n",
    "            assert False, 'Either of above conditions should be true: this statement should not be reached'"
   ]
  },
  {
   "cell_type": "code",
   "execution_count": 183,
   "metadata": {},
   "outputs": [
    {
     "data": {
      "text/plain": [
       "Counter({(96,): 11977,\n",
       "         (28,): 5036,\n",
       "         (31,): 3476,\n",
       "         (96, 33): 710,\n",
       "         (38,): 5790,\n",
       "         (96, 38): 1323,\n",
       "         (44,): 1389,\n",
       "         (33,): 3924,\n",
       "         (37,): 1154,\n",
       "         (28, 61): 181,\n",
       "         (64,): 975,\n",
       "         (61,): 888,\n",
       "         (64, 31, 6): 10,\n",
       "         (24, 52): 67,\n",
       "         (0,): 21,\n",
       "         (5,): 19,\n",
       "         (49,): 768,\n",
       "         (53,): 284,\n",
       "         (11,): 66,\n",
       "         (1,): 35,\n",
       "         (33, 9): 1,\n",
       "         (54,): 154,\n",
       "         (6,): 2275,\n",
       "         (24,): 2107,\n",
       "         (13,): 504,\n",
       "         (31, 6): 137,\n",
       "         (24, 28): 184,\n",
       "         (63,): 43,\n",
       "         (47, 57): 1,\n",
       "         (2,): 205,\n",
       "         (6, 52): 122,\n",
       "         (42, 9): 21,\n",
       "         (9,): 49,\n",
       "         (24, 31): 10,\n",
       "         (6, 28): 75,\n",
       "         (52,): 493,\n",
       "         (46,): 226,\n",
       "         (40,): 211,\n",
       "         (47,): 161,\n",
       "         (61, 96): 38,\n",
       "         (30,): 70,\n",
       "         (): 527,\n",
       "         (14, 61): 5,\n",
       "         (64, 29): 3,\n",
       "         (57,): 2,\n",
       "         (55,): 218,\n",
       "         (10,): 26,\n",
       "         (64, 42, 24): 3,\n",
       "         (49, 26): 2,\n",
       "         (33, 58): 2,\n",
       "         (52, 54): 3,\n",
       "         (6, 52, 54): 4,\n",
       "         (54, 8): 1,\n",
       "         (8,): 2,\n",
       "         (59, 24): 1,\n",
       "         (58,): 106,\n",
       "         (59,): 13,\n",
       "         (29,): 60,\n",
       "         (42,): 63,\n",
       "         (52, 13): 1,\n",
       "         (14,): 49,\n",
       "         (11, 55): 16,\n",
       "         (13, 100): 1,\n",
       "         (96, 38, 11): 1,\n",
       "         (33, 60): 1,\n",
       "         (64, 13): 3,\n",
       "         (62,): 18,\n",
       "         (28, 11): 1,\n",
       "         (19,): 30,\n",
       "         (21,): 35,\n",
       "         (23,): 10,\n",
       "         (42, 55): 13,\n",
       "         (100,): 35,\n",
       "         (28, 55): 11,\n",
       "         (52, 14): 8,\n",
       "         (64, 42): 11,\n",
       "         (10, 61): 1,\n",
       "         (52, 97): 6,\n",
       "         (12,): 19,\n",
       "         (18,): 32,\n",
       "         (53, 17): 1,\n",
       "         (28, 61, 96): 26,\n",
       "         (24, 28, 61): 18,\n",
       "         (64, 31): 65,\n",
       "         (28, 102): 2,\n",
       "         (64, 52): 9,\n",
       "         (42, 24): 16,\n",
       "         (52, 61): 12,\n",
       "         (10, 28): 2,\n",
       "         (20,): 5,\n",
       "         (9, 47): 2,\n",
       "         (18, 46): 2,\n",
       "         (53, 1): 6,\n",
       "         (49, 17): 1,\n",
       "         (21, 33): 1,\n",
       "         (2, 56, 46): 1,\n",
       "         (41,): 16,\n",
       "         (13, 39): 1,\n",
       "         (39,): 4,\n",
       "         (41, 62): 1,\n",
       "         (29, 11): 1,\n",
       "         (61, 31): 23,\n",
       "         (55, 9): 3,\n",
       "         (53, 8): 1,\n",
       "         (38, 11): 5,\n",
       "         (38, 0): 1,\n",
       "         (38, 18): 1,\n",
       "         (64, 14): 2,\n",
       "         (33, 55): 2,\n",
       "         (64, 38): 1,\n",
       "         (64, 47, 18): 3,\n",
       "         (47, 18): 5,\n",
       "         (17,): 13,\n",
       "         (3,): 8,\n",
       "         (16,): 2,\n",
       "         (15,): 2,\n",
       "         (11, 42): 1,\n",
       "         (18, 102): 1,\n",
       "         (38, 1): 2,\n",
       "         (0, 55): 1,\n",
       "         (49, 6): 4,\n",
       "         (6, 46): 1,\n",
       "         (53, 12, 26, 55, 96): 1,\n",
       "         (9, 42): 3,\n",
       "         (58, 9): 1,\n",
       "         (24, 55): 3,\n",
       "         (6, 52, 55): 2,\n",
       "         (44, 21): 2,\n",
       "         (63, 24, 37): 1,\n",
       "         (49, 13): 4,\n",
       "         (20, 58): 1,\n",
       "         (64, 8): 1,\n",
       "         (64, 20): 2,\n",
       "         (40, 6): 4,\n",
       "         (31, 60): 2,\n",
       "         (53, 5): 1,\n",
       "         (64, 49): 3,\n",
       "         (49, 26, 54): 1,\n",
       "         (48,): 9,\n",
       "         (7,): 4,\n",
       "         (49, 2): 1,\n",
       "         (21, 57, 96): 1,\n",
       "         (49, 21): 1,\n",
       "         (35, 62, 97): 1,\n",
       "         (9, 40): 1,\n",
       "         (64, 21): 1,\n",
       "         (53, 15): 1,\n",
       "         (34,): 6,\n",
       "         (64, 41): 1,\n",
       "         (97,): 3,\n",
       "         (42, 97): 2,\n",
       "         (2, 31, 97): 1,\n",
       "         (52, 1): 1,\n",
       "         (26,): 1,\n",
       "         (45,): 1,\n",
       "         (40, 54): 1,\n",
       "         (96, 20): 2,\n",
       "         (24, 52, 61): 5,\n",
       "         (52, 55): 1,\n",
       "         (37, 24, 54): 1,\n",
       "         (54, 11, 48): 1,\n",
       "         (24, 52, 54): 2,\n",
       "         (55, 13, 48): 1,\n",
       "         (38, 2): 1,\n",
       "         (42, 10): 1,\n",
       "         (24, 97): 3,\n",
       "         (17, 54): 1,\n",
       "         (42, 102): 1,\n",
       "         (31, 24): 1,\n",
       "         (24, 49): 3,\n",
       "         (64, 28): 4,\n",
       "         (6, 52, 62): 3,\n",
       "         (47, 0): 1,\n",
       "         (18, 46, 62): 1,\n",
       "         (38, 62): 1,\n",
       "         (104, 37): 1,\n",
       "         (64, 24, 31): 2,\n",
       "         (37, 12): 1,\n",
       "         (33, 1): 1,\n",
       "         (2, 31): 3,\n",
       "         (57, 96): 3,\n",
       "         (61, 42): 1,\n",
       "         (31, 61, 13): 1,\n",
       "         (64, 1): 1,\n",
       "         (21, 57): 1,\n",
       "         (28, 12): 1,\n",
       "         (8, 59): 1,\n",
       "         (9, 58): 1,\n",
       "         (38, 23): 1,\n",
       "         (17, 31): 1,\n",
       "         (9, 54): 1,\n",
       "         (58, 1): 1,\n",
       "         (28, 1): 3,\n",
       "         (53, 18): 1,\n",
       "         (1, 28): 1,\n",
       "         (29, 97): 1,\n",
       "         (35,): 1,\n",
       "         (41, 24): 1,\n",
       "         (33, 61): 2,\n",
       "         (54, 9): 1,\n",
       "         (59, 53): 1,\n",
       "         (21, 93): 1,\n",
       "         (14, 55): 1,\n",
       "         (53, 19): 1,\n",
       "         (100, 31): 1,\n",
       "         (52, 10): 1,\n",
       "         (58, 97): 1,\n",
       "         (52, 62): 1,\n",
       "         (89, 92, 17): 1,\n",
       "         (96, 23): 1,\n",
       "         (38, 3): 1,\n",
       "         (24, 54): 1,\n",
       "         (42, 58): 1,\n",
       "         (64, 37): 1,\n",
       "         (38, 19): 3,\n",
       "         (24, 42): 1,\n",
       "         (31, 13): 1,\n",
       "         (55, 24, 49): 1,\n",
       "         (64, 24): 1,\n",
       "         (31, 55): 2,\n",
       "         (31, 60, 20): 1,\n",
       "         (60,): 2,\n",
       "         (52, 5): 2,\n",
       "         (6, 54): 1,\n",
       "         (10, 48): 1,\n",
       "         (12, 31): 1,\n",
       "         (85,): 2,\n",
       "         (61, 6): 1,\n",
       "         (6, 96): 2,\n",
       "         (6, 52, 85): 1,\n",
       "         (13, 93): 1,\n",
       "         (24, 31, 96): 1,\n",
       "         (64, 42, 10): 1,\n",
       "         (47, 2): 1,\n",
       "         (37, 97): 1,\n",
       "         (24, 52, 62): 1,\n",
       "         (42, 21): 1,\n",
       "         (42, 54): 1,\n",
       "         (42, 55, 24): 1,\n",
       "         (24, 102): 1,\n",
       "         (6, 102): 1,\n",
       "         (46, 62): 1,\n",
       "         (42, 6): 1,\n",
       "         (53, 21): 1,\n",
       "         (100, 28): 1,\n",
       "         (6, 52, 97): 1,\n",
       "         (42, 10, 97): 1})"
      ]
     },
     "execution_count": 183,
     "metadata": {},
     "output_type": "execute_result"
    }
   ],
   "source": [
    "sequence_counter"
   ]
  },
  {
   "cell_type": "markdown",
   "metadata": {},
   "source": [
    "Sequence length distribution"
   ]
  },
  {
   "cell_type": "code",
   "execution_count": 184,
   "metadata": {},
   "outputs": [
    {
     "data": {
      "text/plain": [
       "Text(0.5, 1.0, 'Sequence length distribution')"
      ]
     },
     "execution_count": 184,
     "metadata": {},
     "output_type": "execute_result"
    },
    {
     "data": {
      "image/png": "[encoded data removed]",
      "text/plain": [
       "<Figure size 432x288 with 1 Axes>"
      ]
     },
     "metadata": {
      "needs_background": "light"
     },
     "output_type": "display_data"
    }
   ],
   "source": [
    "max_sequence_length = max(sequence_length_counter.keys())\n",
    "rnge = np.arange(1,max_sequence_length)\n",
    "plt.bar([str(i) for i in rnge], \n",
    "        [sequence_length_counter[i] for i in rnge])\n",
    "plt.title(\"Sequence length distribution\")"
   ]
  },
  {
   "cell_type": "code",
   "execution_count": 185,
   "metadata": {},
   "outputs": [
    {
     "data": {
      "text/plain": [
       "[(2, 0.07568972318258811), (3, 0.030656039239730228), (4, 0.0)]"
      ]
     },
     "execution_count": 185,
     "metadata": {},
     "output_type": "execute_result"
    }
   ],
   "source": [
    "[(i,sequence_length_counter[i]/sequence_length_counter[i-1]) for i in np.arange(2,max_sequence_length) \n",
    " if sequence_length_counter[i-1] != 0]"
   ]
  },
  {
   "cell_type": "code",
   "execution_count": 186,
   "metadata": {},
   "outputs": [
    {
     "data": {
      "text/plain": [
       "[((96,), 11977),\n",
       " ((38,), 5790),\n",
       " ((28,), 5036),\n",
       " ((33,), 3924),\n",
       " ((31,), 3476),\n",
       " ((6,), 2275),\n",
       " ((24,), 2107),\n",
       " ((44,), 1389),\n",
       " ((96, 38), 1323),\n",
       " ((37,), 1154),\n",
       " ((64,), 975),\n",
       " ((61,), 888),\n",
       " ((49,), 768),\n",
       " ((96, 33), 710),\n",
       " ((), 527),\n",
       " ((13,), 504),\n",
       " ((52,), 493),\n",
       " ((53,), 284),\n",
       " ((46,), 226),\n",
       " ((55,), 218),\n",
       " ((40,), 211),\n",
       " ((2,), 205),\n",
       " ((24, 28), 184),\n",
       " ((28, 61), 181),\n",
       " ((47,), 161),\n",
       " ((54,), 154),\n",
       " ((31, 6), 137),\n",
       " ((6, 52), 122),\n",
       " ((58,), 106),\n",
       " ((6, 28), 75),\n",
       " ((30,), 70),\n",
       " ((24, 52), 67),\n",
       " ((11,), 66),\n",
       " ((64, 31), 65),\n",
       " ((42,), 63),\n",
       " ((29,), 60),\n",
       " ((9,), 49),\n",
       " ((14,), 49),\n",
       " ((63,), 43),\n",
       " ((61, 96), 38),\n",
       " ((1,), 35),\n",
       " ((21,), 35),\n",
       " ((100,), 35),\n",
       " ((18,), 32),\n",
       " ((19,), 30),\n",
       " ((10,), 26),\n",
       " ((28, 61, 96), 26),\n",
       " ((61, 31), 23),\n",
       " ((0,), 21),\n",
       " ((42, 9), 21),\n",
       " ((5,), 19),\n",
       " ((12,), 19),\n",
       " ((62,), 18),\n",
       " ((24, 28, 61), 18),\n",
       " ((11, 55), 16),\n",
       " ((42, 24), 16),\n",
       " ((41,), 16),\n",
       " ((59,), 13),\n",
       " ((42, 55), 13),\n",
       " ((17,), 13),\n",
       " ((52, 61), 12),\n",
       " ((28, 55), 11),\n",
       " ((64, 42), 11),\n",
       " ((64, 31, 6), 10),\n",
       " ((24, 31), 10),\n",
       " ((23,), 10),\n",
       " ((64, 52), 9),\n",
       " ((48,), 9),\n",
       " ((52, 14), 8),\n",
       " ((3,), 8),\n",
       " ((52, 97), 6),\n",
       " ((53, 1), 6),\n",
       " ((34,), 6),\n",
       " ((14, 61), 5),\n",
       " ((20,), 5),\n",
       " ((38, 11), 5),\n",
       " ((47, 18), 5),\n",
       " ((24, 52, 61), 5),\n",
       " ((6, 52, 54), 4),\n",
       " ((39,), 4),\n",
       " ((49, 6), 4),\n",
       " ((49, 13), 4),\n",
       " ((40, 6), 4),\n",
       " ((7,), 4),\n",
       " ((64, 28), 4),\n",
       " ((64, 29), 3),\n",
       " ((64, 42, 24), 3),\n",
       " ((52, 54), 3),\n",
       " ((64, 13), 3),\n",
       " ((55, 9), 3),\n",
       " ((64, 47, 18), 3),\n",
       " ((9, 42), 3),\n",
       " ((24, 55), 3),\n",
       " ((64, 49), 3),\n",
       " ((97,), 3),\n",
       " ((24, 97), 3),\n",
       " ((24, 49), 3),\n",
       " ((6, 52, 62), 3),\n",
       " ((2, 31), 3),\n",
       " ((57, 96), 3),\n",
       " ((28, 1), 3),\n",
       " ((38, 19), 3),\n",
       " ((57,), 2),\n",
       " ((49, 26), 2),\n",
       " ((33, 58), 2),\n",
       " ((8,), 2),\n",
       " ((28, 102), 2),\n",
       " ((10, 28), 2),\n",
       " ((9, 47), 2),\n",
       " ((18, 46), 2),\n",
       " ((64, 14), 2),\n",
       " ((33, 55), 2),\n",
       " ((16,), 2),\n",
       " ((15,), 2),\n",
       " ((38, 1), 2),\n",
       " ((6, 52, 55), 2),\n",
       " ((44, 21), 2),\n",
       " ((64, 20), 2),\n",
       " ((31, 60), 2),\n",
       " ((42, 97), 2),\n",
       " ((96, 20), 2),\n",
       " ((24, 52, 54), 2),\n",
       " ((64, 24, 31), 2),\n",
       " ((33, 61), 2),\n",
       " ((31, 55), 2),\n",
       " ((60,), 2),\n",
       " ((52, 5), 2),\n",
       " ((85,), 2),\n",
       " ((6, 96), 2),\n",
       " ((33, 9), 1),\n",
       " ((47, 57), 1),\n",
       " ((54, 8), 1),\n",
       " ((59, 24), 1),\n",
       " ((52, 13), 1),\n",
       " ((13, 100), 1),\n",
       " ((96, 38, 11), 1),\n",
       " ((33, 60), 1),\n",
       " ((28, 11), 1),\n",
       " ((10, 61), 1),\n",
       " ((53, 17), 1),\n",
       " ((49, 17), 1),\n",
       " ((21, 33), 1),\n",
       " ((2, 56, 46), 1),\n",
       " ((13, 39), 1),\n",
       " ((41, 62), 1),\n",
       " ((29, 11), 1),\n",
       " ((53, 8), 1),\n",
       " ((38, 0), 1),\n",
       " ((38, 18), 1),\n",
       " ((64, 38), 1),\n",
       " ((11, 42), 1),\n",
       " ((18, 102), 1),\n",
       " ((0, 55), 1),\n",
       " ((6, 46), 1),\n",
       " ((53, 12, 26, 55, 96), 1),\n",
       " ((58, 9), 1),\n",
       " ((63, 24, 37), 1),\n",
       " ((20, 58), 1),\n",
       " ((64, 8), 1),\n",
       " ((53, 5), 1),\n",
       " ((49, 26, 54), 1),\n",
       " ((49, 2), 1),\n",
       " ((21, 57, 96), 1),\n",
       " ((49, 21), 1),\n",
       " ((35, 62, 97), 1),\n",
       " ((9, 40), 1),\n",
       " ((64, 21), 1),\n",
       " ((53, 15), 1),\n",
       " ((64, 41), 1),\n",
       " ((2, 31, 97), 1),\n",
       " ((52, 1), 1),\n",
       " ((26,), 1),\n",
       " ((45,), 1),\n",
       " ((40, 54), 1),\n",
       " ((52, 55), 1),\n",
       " ((37, 24, 54), 1),\n",
       " ((54, 11, 48), 1),\n",
       " ((55, 13, 48), 1),\n",
       " ((38, 2), 1),\n",
       " ((42, 10), 1),\n",
       " ((17, 54), 1),\n",
       " ((42, 102), 1),\n",
       " ((31, 24), 1),\n",
       " ((47, 0), 1),\n",
       " ((18, 46, 62), 1),\n",
       " ((38, 62), 1),\n",
       " ((104, 37), 1),\n",
       " ((37, 12), 1),\n",
       " ((33, 1), 1),\n",
       " ((61, 42), 1),\n",
       " ((31, 61, 13), 1),\n",
       " ((64, 1), 1),\n",
       " ((21, 57), 1),\n",
       " ((28, 12), 1),\n",
       " ((8, 59), 1),\n",
       " ((9, 58), 1),\n",
       " ((38, 23), 1),\n",
       " ((17, 31), 1),\n",
       " ((9, 54), 1),\n",
       " ((58, 1), 1),\n",
       " ((53, 18), 1),\n",
       " ((1, 28), 1),\n",
       " ((29, 97), 1),\n",
       " ((35,), 1),\n",
       " ((41, 24), 1),\n",
       " ((54, 9), 1),\n",
       " ((59, 53), 1),\n",
       " ((21, 93), 1),\n",
       " ((14, 55), 1),\n",
       " ((53, 19), 1),\n",
       " ((100, 31), 1),\n",
       " ((52, 10), 1),\n",
       " ((58, 97), 1),\n",
       " ((52, 62), 1),\n",
       " ((89, 92, 17), 1),\n",
       " ((96, 23), 1),\n",
       " ((38, 3), 1),\n",
       " ((24, 54), 1),\n",
       " ((42, 58), 1),\n",
       " ((64, 37), 1),\n",
       " ((24, 42), 1),\n",
       " ((31, 13), 1),\n",
       " ((55, 24, 49), 1),\n",
       " ((64, 24), 1),\n",
       " ((31, 60, 20), 1),\n",
       " ((6, 54), 1),\n",
       " ((10, 48), 1),\n",
       " ((12, 31), 1),\n",
       " ((61, 6), 1),\n",
       " ((6, 52, 85), 1),\n",
       " ((13, 93), 1),\n",
       " ((24, 31, 96), 1),\n",
       " ((64, 42, 10), 1),\n",
       " ((47, 2), 1),\n",
       " ((37, 97), 1),\n",
       " ((24, 52, 62), 1),\n",
       " ((42, 21), 1),\n",
       " ((42, 54), 1),\n",
       " ((42, 55, 24), 1),\n",
       " ((24, 102), 1),\n",
       " ((6, 102), 1),\n",
       " ((46, 62), 1),\n",
       " ((42, 6), 1),\n",
       " ((53, 21), 1),\n",
       " ((100, 28), 1),\n",
       " ((6, 52, 97), 1),\n",
       " ((42, 10, 97), 1)]"
      ]
     },
     "execution_count": 186,
     "metadata": {},
     "output_type": "execute_result"
    }
   ],
   "source": [
    "sequence_counter.most_common()"
   ]
  },
  {
   "cell_type": "markdown",
   "metadata": {},
   "source": [
    "Inspecting sequence distributions for sequences larger than one"
   ]
  },
  {
   "cell_type": "code",
   "execution_count": 178,
   "metadata": {},
   "outputs": [
    {
     "data": {
      "text/plain": [
       "Text(0.5, 1.0, 'Distribution of sequence frequency for frequencies longer than one')"
      ]
     },
     "execution_count": 178,
     "metadata": {},
     "output_type": "execute_result"
    },
    {
     "data": {
      "image/png": "[encoded data removed]",
      "text/plain": [
       "<Figure size 432x288 with 1 Axes>"
      ]
     },
     "metadata": {
      "needs_background": "light"
     },
     "output_type": "display_data"
    }
   ],
   "source": [
    "weight = [n for _,n in sequence_counter.most_common()][0:100]\n",
    "plt.hist(range(len(weight)), weights=weight,bins=range(len(weight)))\n",
    "plt.title(\"Distribution of sequence frequency for frequencies longer than one\")"
   ]
  },
  {
   "cell_type": "code",
   "execution_count": 179,
   "metadata": {},
   "outputs": [
    {
     "data": {
      "text/plain": [
       "[((96, 38), 1323),\n",
       " ((96, 33), 710),\n",
       " ((24, 28), 184),\n",
       " ((28, 61), 181),\n",
       " ((6, 31), 137),\n",
       " ((52, 6), 122),\n",
       " ((28, 6), 75),\n",
       " ((24, 52), 67),\n",
       " ((64, 31), 65),\n",
       " ((96, 61), 38),\n",
       " ((96, 28, 61), 26),\n",
       " ((9, 42), 24),\n",
       " ((61, 31), 23),\n",
       " ((24, 28, 61), 18),\n",
       " ((24, 42), 17),\n",
       " ((11, 55), 16),\n",
       " ((42, 55), 13),\n",
       " ((52, 61), 12),\n",
       " ((28, 55), 11),\n",
       " ((64, 42), 11),\n",
       " ((24, 31), 11),\n",
       " ((64, 6, 31), 10),\n",
       " ((64, 52), 9),\n",
       " ((52, 14), 8),\n",
       " ((97, 52), 6),\n",
       " ((1, 53), 6),\n",
       " ((61, 14), 5),\n",
       " ((11, 38), 5),\n",
       " ((18, 47), 5),\n",
       " ((24, 52, 61), 5),\n",
       " ((54, 52, 6), 4),\n",
       " ((49, 6), 4),\n",
       " ((49, 13), 4),\n",
       " ((40, 6), 4),\n",
       " ((64, 28), 4),\n",
       " ((1, 28), 4),\n",
       " ((64, 29), 3),\n",
       " ((64, 24, 42), 3),\n",
       " ((52, 54), 3),\n",
       " ((64, 13), 3),\n",
       " ((9, 55), 3),\n",
       " ((64, 18, 47), 3),\n",
       " ((24, 55), 3),\n",
       " ((64, 49), 3),\n",
       " ((24, 97), 3),\n",
       " ((24, 49), 3),\n",
       " ((62, 52, 6), 3),\n",
       " ((2, 31), 3),\n",
       " ((96, 57), 3),\n",
       " ((19, 38), 3),\n",
       " ((49, 26), 2),\n",
       " ((33, 58), 2),\n",
       " ((28, 102), 2),\n",
       " ((10, 28), 2),\n",
       " ((9, 47), 2),\n",
       " ((18, 46), 2),\n",
       " ((64, 14), 2),\n",
       " ((33, 55), 2),\n",
       " ((1, 38), 2),\n",
       " ((52, 6, 55), 2),\n",
       " ((44, 21), 2),\n",
       " ((64, 20), 2),\n",
       " ((60, 31), 2),\n",
       " ((97, 42), 2),\n",
       " ((96, 20), 2),\n",
       " ((24, 52, 54), 2),\n",
       " ((64, 24, 31), 2),\n",
       " ((33, 61), 2),\n",
       " ((55, 31), 2),\n",
       " ((52, 5), 2),\n",
       " ((96, 6), 2),\n",
       " ((9, 58), 2),\n",
       " ((9, 54), 2),\n",
       " ((33, 9), 1),\n",
       " ((57, 47), 1),\n",
       " ((8, 54), 1),\n",
       " ((24, 59), 1),\n",
       " ((52, 13), 1),\n",
       " ((100, 13), 1),\n",
       " ((96, 11, 38), 1),\n",
       " ((33, 60), 1),\n",
       " ((11, 28), 1),\n",
       " ((10, 61), 1),\n",
       " ((17, 53), 1),\n",
       " ((49, 17), 1),\n",
       " ((33, 21), 1),\n",
       " ((56, 2, 46), 1),\n",
       " ((13, 39), 1),\n",
       " ((41, 62), 1),\n",
       " ((11, 29), 1),\n",
       " ((8, 53), 1),\n",
       " ((0, 38), 1),\n",
       " ((18, 38), 1),\n",
       " ((64, 38), 1),\n",
       " ((42, 11), 1),\n",
       " ((18, 102), 1),\n",
       " ((0, 55), 1),\n",
       " ((46, 6), 1),\n",
       " ((96, 12, 53, 55, 26), 1),\n",
       " ((24, 37, 63), 1),\n",
       " ((58, 20), 1),\n",
       " ((64, 8), 1),\n",
       " ((5, 53), 1),\n",
       " ((49, 26, 54), 1),\n",
       " ((49, 2), 1),\n",
       " ((96, 57, 21), 1),\n",
       " ((49, 21), 1),\n",
       " ((97, 35, 62), 1),\n",
       " ((40, 9), 1),\n",
       " ((64, 21), 1),\n",
       " ((53, 15), 1),\n",
       " ((64, 41), 1),\n",
       " ((97, 2, 31), 1),\n",
       " ((1, 52), 1),\n",
       " ((40, 54), 1),\n",
       " ((52, 55), 1),\n",
       " ((24, 37, 54), 1),\n",
       " ((48, 11, 54), 1),\n",
       " ((48, 13, 55), 1),\n",
       " ((2, 38), 1),\n",
       " ((42, 10), 1),\n",
       " ((17, 54), 1),\n",
       " ((42, 102), 1),\n",
       " ((0, 47), 1),\n",
       " ((62, 18, 46), 1),\n",
       " ((62, 38), 1),\n",
       " ((104, 37), 1),\n",
       " ((12, 37), 1),\n",
       " ((33, 1), 1),\n",
       " ((42, 61), 1),\n",
       " ((13, 61, 31), 1),\n",
       " ((64, 1), 1),\n",
       " ((57, 21), 1),\n",
       " ((28, 12), 1),\n",
       " ((8, 59), 1),\n",
       " ((38, 23), 1),\n",
       " ((17, 31), 1),\n",
       " ((1, 58), 1),\n",
       " ((18, 53), 1),\n",
       " ((97, 29), 1),\n",
       " ((24, 41), 1),\n",
       " ((59, 53), 1),\n",
       " ((93, 21), 1),\n",
       " ((14, 55), 1),\n",
       " ((19, 53), 1),\n",
       " ((100, 31), 1),\n",
       " ((10, 52), 1),\n",
       " ((97, 58), 1),\n",
       " ((52, 62), 1),\n",
       " ((89, 92, 17), 1),\n",
       " ((96, 23), 1),\n",
       " ((3, 38), 1),\n",
       " ((24, 54), 1),\n",
       " ((42, 58), 1),\n",
       " ((64, 37), 1),\n",
       " ((13, 31), 1),\n",
       " ((24, 49, 55), 1),\n",
       " ((64, 24), 1),\n",
       " ((60, 20, 31), 1),\n",
       " ((54, 6), 1),\n",
       " ((48, 10), 1),\n",
       " ((12, 31), 1),\n",
       " ((61, 6), 1),\n",
       " ((52, 85, 6), 1),\n",
       " ((93, 13), 1),\n",
       " ((24, 96, 31), 1),\n",
       " ((64, 42, 10), 1),\n",
       " ((2, 47), 1),\n",
       " ((97, 37), 1),\n",
       " ((24, 52, 62), 1),\n",
       " ((42, 21), 1),\n",
       " ((42, 54), 1),\n",
       " ((24, 42, 55), 1),\n",
       " ((24, 102), 1),\n",
       " ((102, 6), 1),\n",
       " ((62, 46), 1),\n",
       " ((42, 6), 1),\n",
       " ((21, 53), 1),\n",
       " ((100, 28), 1),\n",
       " ((97, 52, 6), 1),\n",
       " ((97, 42, 10), 1)]"
      ]
     },
     "execution_count": 179,
     "metadata": {},
     "output_type": "execute_result"
    }
   ],
   "source": [
    "set_seq_counter.most_common()"
   ]
  },
  {
   "cell_type": "markdown",
   "metadata": {},
   "source": [
    "Inspecting sequences including permutations"
   ]
  },
  {
   "cell_type": "code",
   "execution_count": 180,
   "metadata": {},
   "outputs": [
    {
     "data": {
      "text/plain": [
       "Text(0.5, 1.0, 'Distribution of sequence frequency for frequencies longer than one')"
      ]
     },
     "execution_count": 180,
     "metadata": {},
     "output_type": "execute_result"
    },
    {
     "data": {
      "image/png": "[encoded data removed]",
      "text/plain": [
       "<Figure size 432x288 with 1 Axes>"
      ]
     },
     "metadata": {
      "needs_background": "light"
     },
     "output_type": "display_data"
    }
   ],
   "source": [
    "set_seq_counter = Counter()\n",
    "for seq,n in sequence_counter.most_common():\n",
    "    set_seq_counter[tuple(set(seq))] += n\n",
    "weight = [n for _,n in set_seq_counter.most_common()][0:60]\n",
    "plt.hist(range(len(weight)), weights=weight,bins=range(len(weight)))\n",
    "plt.title(\"Distribution of sequence frequency for frequencies longer than one\")"
   ]
  },
  {
   "cell_type": "markdown",
   "metadata": {},
   "source": [
    "Inspecting sequences including permutations of all sizes\n"
   ]
  },
  {
   "cell_type": "code",
   "execution_count": 181,
   "metadata": {},
   "outputs": [
    {
     "data": {
      "text/plain": [
       "Text(0.5, 1.0, 'Distribution of sequence frequency for frequencies longer than one')"
      ]
     },
     "execution_count": 181,
     "metadata": {},
     "output_type": "execute_result"
    },
    {
     "data": {
      "image/png": "[encoded data removed]",
      "text/plain": [
       "<Figure size 432x288 with 1 Axes>"
      ]
     },
     "metadata": {
      "needs_background": "light"
     },
     "output_type": "display_data"
    }
   ],
   "source": [
    "set_seq_counter = Counter()\n",
    "for seq,n in sequence_counter.most_common():\n",
    "    set_seq_counter[tuple(set(seq))] += n\n",
    "weight = [n for _,n in set_seq_counter.most_common()][0:60]\n",
    "plt.hist(range(len(weight)), weights=weight,bins=range(len(weight)))\n",
    "plt.title(\"Distribution of sequence frequency for frequencies longer than one\")"
   ]
  },
  {
   "cell_type": "markdown",
   "metadata": {},
   "source": [
    "Frequent action analysis"
   ]
  },
  {
   "cell_type": "code",
   "execution_count": 153,
   "metadata": {},
   "outputs": [
    {
     "data": {
      "text/plain": [
       "[96, 38, 28, 33, 31, 6, 24, 44, 61, 37, 64]"
      ]
     },
     "execution_count": 153,
     "metadata": {},
     "output_type": "execute_result"
    }
   ],
   "source": [
    "frequent_actions = [a for a,c in unitary_action_counter.most_common() if c>1000]\n",
    "frequent_actions"
   ]
  },
  {
   "cell_type": "code",
   "execution_count": 154,
   "metadata": {},
   "outputs": [],
   "source": [
    "n_freq_action_by_sequence_length_counter = Counter()\n",
    "for seq, n in sequence_counter.items():\n",
    "    for act in seq:\n",
    "        n_freq_action_by_sequence_length_counter[len(seq)] += n if act in frequent_actions else 0"
   ]
  },
  {
   "cell_type": "code",
   "execution_count": 155,
   "metadata": {},
   "outputs": [
    {
     "name": "stderr",
     "output_type": "stream",
     "text": [
      "<ipython-input-155-0fe958cd4b49>:2: RuntimeWarning: invalid value encountered in true_divide\n",
      "  perc_freq_act_per_seq_len = np.array([n_freq_action_by_sequence_length_counter[i] for i in rng])/np.array([sequence_length_counter[i]*i for i in rng])\n"
     ]
    },
    {
     "data": {
      "text/plain": [
       "Text(0, 0.5, 'Percentage of frequent actions')"
      ]
     },
     "execution_count": 155,
     "metadata": {},
     "output_type": "execute_result"
    },
    {
     "data": {
      "image/png": "[encoded data removed]",
      "text/plain": [
       "<Figure size 432x288 with 1 Axes>"
      ]
     },
     "metadata": {
      "needs_background": "light"
     },
     "output_type": "display_data"
    }
   ],
   "source": [
    "rng = np.arange(2,6)\n",
    "perc_freq_act_per_seq_len = np.array([n_freq_action_by_sequence_length_counter[i] for i in rng])/np.array([sequence_length_counter[i]*i for i in rng])\n",
    "plt.bar([str(i) for i in rng],perc_freq_act_per_seq_len)\n",
    "plt.title('Percentage of frequent actions (>1000) in sequences per sequence length')\n",
    "plt.xlabel('Sequence length')\n",
    "plt.ylabel('Percentage of frequent actions')"
   ]
  },
  {
   "cell_type": "code",
   "execution_count": 156,
   "metadata": {},
   "outputs": [],
   "source": [
    "rng = np.arange(2,6)"
   ]
  },
  {
   "cell_type": "code",
   "execution_count": 157,
   "metadata": {},
   "outputs": [
    {
     "data": {
      "text/plain": [
       "array([2, 3, 4, 5])"
      ]
     },
     "execution_count": 157,
     "metadata": {},
     "output_type": "execute_result"
    }
   ],
   "source": [
    "rng"
   ]
  },
  {
   "cell_type": "code",
   "execution_count": 158,
   "metadata": {},
   "outputs": [
    {
     "data": {
      "text/plain": [
       "Counter({1: 43097, 2: 3262, 3: 100, 5: 1})"
      ]
     },
     "execution_count": 158,
     "metadata": {},
     "output_type": "execute_result"
    }
   ],
   "source": [
    "sequence_length_counter"
   ]
  },
  {
   "cell_type": "code",
   "execution_count": null,
   "metadata": {},
   "outputs": [],
   "source": []
  }
 ],
 "metadata": {
  "kernelspec": {
   "display_name": "Python 3",
   "language": "python",
   "name": "python3"
  },
  "language_info": {
   "codemirror_mode": {
    "name": "ipython",
    "version": 3
   },
   "file_extension": ".py",
   "mimetype": "text/x-python",
   "name": "python",
   "nbconvert_exporter": "python",
   "pygments_lexer": "ipython3",
   "version": "3.8.5"
  }
 },
 "nbformat": 4,
 "nbformat_minor": 4
}
