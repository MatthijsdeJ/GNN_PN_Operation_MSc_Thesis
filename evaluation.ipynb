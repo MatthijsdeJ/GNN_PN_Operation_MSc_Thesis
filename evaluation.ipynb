{
 "cells": [
  {
   "cell_type": "code",
   "execution_count": 1,
   "id": "7f6a0104-218a-4561-bf79-13a2c7847039",
   "metadata": {},
   "outputs": [
    {
     "name": "stderr",
     "output_type": "stream",
     "text": [
      "/Library/Frameworks/Python.framework/Versions/3.12/lib/python3.12/site-packages/grid2op/Backend/PandaPowerBackend.py:30: UserWarning: Numba cannot be loaded. You will gain possibly massive speed if installing it by \n",
      "\t/Library/Frameworks/Python.framework/Versions/3.12/bin/python3.12 -m pip install numba\n",
      "\n",
      "  warnings.warn(\"Numba cannot be loaded. You will gain possibly massive speed if installing it by \"\n"
     ]
    }
   ],
   "source": [
    "%load_ext autoreload\n",
    "%autoreload 2\n",
    "\n",
    "#pyplot\n",
    "import matplotlib.pyplot as plt\n",
    "\n",
    "# model\n",
    "import torch\n",
    "import torch_geometric\n",
    "\n",
    "\n",
    "from auxiliary.config import get_config, ModelType, NetworkType\n",
    "from training.models import GCN, FCNN\n",
    "from training.dataloader import DataLoader\n",
    "from training.training import Run, evaluate_dataset, process_datapoint\n",
    "import training.evaluation as metrics\n",
    "from training.postprocessing import ActSpaceCache"
   ]
  },
  {
   "cell_type": "code",
   "execution_count": 2,
   "id": "bb5ac958-2287-4b00-a502-ff0489499e68",
   "metadata": {},
   "outputs": [],
   "source": [
    "config = get_config()\n",
    "train_config = config['training']"
   ]
  },
  {
   "cell_type": "code",
   "execution_count": 3,
   "id": "5c32f12c6805894",
   "metadata": {
    "collapsed": false
   },
   "outputs": [
    {
     "data": {
      "text/plain": [
       "{'settings': {'train_log_freq': 2000,\n",
       "  'val_log_freq': 5000,\n",
       "  'dp_per_val_log': 25000,\n",
       "  'advanced_val_analysis': True,\n",
       "  'line_outages_considered': [-1, 0, 1, 2, 3, 4, 5, 6, 12]},\n",
       " 'hyperparams': {'model_type': <ModelType.FCNN: 'FCNN'>,\n",
       "  'n_epoch': 100,\n",
       "  'lr': 0.0005,\n",
       "  'N_node_hidden': 230,\n",
       "  'LReLu_neg_slope': 0.1,\n",
       "  'batch_size': 64,\n",
       "  'label_smoothing_alpha': 0,\n",
       "  'weight_init_std': 3,\n",
       "  'weight_decay': 0,\n",
       "  'early_stopping_patience': 50,\n",
       "  'very_early_filter_step': 300000,\n",
       "  'very_early_filter_threshold': 0.4,\n",
       "  'label_weights': {'type': <LabelWeightsType.Y_AND_P: 'Y_AND_P'>,\n",
       "   'non_masked_weight': 0.1}},\n",
       " 'constants': {'estimated_train_size': 36497},\n",
       " 'GCN': {'hyperparams': {'network_type': <NetworkType.HETERO: 'heterogeneous'>,\n",
       "   'N_GCN_layers': 8,\n",
       "   'aggr': <AggrType.ADD: 'add'>,\n",
       "   'layer_type': <LayerType.SAGECONV: 'SAGEConv'>,\n",
       "   'GINConv_nn_depth': 2},\n",
       "  'constants': {'N_f_gen': 3, 'N_f_load': 3, 'N_f_endpoint': 6}},\n",
       " 'FCNN': {'hyperparams': {'N_layers': 5},\n",
       "  'constants': {'size_in': 344, 'size_out': 56}},\n",
       " 'wandb': {'model_name': 'test',\n",
       "  'model_tags': ['test'],\n",
       "  'group': None,\n",
       "  'project': 'msc_thesis_gnn_power',\n",
       "  'entity': 'mattholomew',\n",
       "  'mode': 'online'}}"
      ]
     },
     "execution_count": 3,
     "metadata": {},
     "output_type": "execute_result"
    }
   ],
   "source": [
    "train_config"
   ]
  },
  {
   "cell_type": "markdown",
   "id": "12279754e6314436",
   "metadata": {
    "collapsed": false
   },
   "source": [
    "# Loading model\n",
    "Note: config must contain the hyperparameters used by the model"
   ]
  },
  {
   "cell_type": "code",
   "execution_count": 11,
   "id": "66d76ce5-e450-49f2-9dd3-feb2cfb5b049",
   "metadata": {},
   "outputs": [],
   "source": [
    "model_type = config['training']['hyperparams']['model_type']\n",
    "\n",
    "if model_type == ModelType.GCN:\n",
    "    model = GCN(train_config['hyperparams']['LReLu_neg_slope'],\n",
    "                train_config['hyperparams']['weight_init_std'],\n",
    "                train_config['GCN']['constants']['N_f_gen'],\n",
    "                train_config['GCN']['constants']['N_f_load'],\n",
    "                train_config['GCN']['constants']['N_f_endpoint'],\n",
    "                train_config['GCN']['hyperparams']['N_GCN_layers'],\n",
    "                train_config['hyperparams']['N_node_hidden'],\n",
    "                train_config['GCN']['hyperparams']['aggr'],\n",
    "                train_config['GCN']['hyperparams']['network_type'],\n",
    "                train_config['GCN']['hyperparams']['layer_type'],\n",
    "                train_config['GCN']['hyperparams']['GINConv_nn_depth'])\n",
    "elif model_type == ModelType.FCNN:\n",
    "    model = FCNN(train_config['hyperparams']['LReLu_neg_slope'],\n",
    "                 train_config['hyperparams']['weight_init_std'],\n",
    "                 train_config['FCNN']['constants']['size_in'],\n",
    "                 train_config['FCNN']['constants']['size_out'],\n",
    "                 train_config['FCNN']['hyperparams']['N_layers'],\n",
    "                 train_config['hyperparams']['N_node_hidden'])"
   ]
  },
  {
   "cell_type": "code",
   "execution_count": 12,
   "id": "5cc8d82b6db1c26f",
   "metadata": {
    "collapsed": false
   },
   "outputs": [
    {
     "data": {
      "text/plain": [
       "<All keys matched successfully>"
      ]
     },
     "execution_count": 12,
     "metadata": {},
     "output_type": "execute_result"
    }
   ],
   "source": [
    "model_path = config['paths']['model']\n",
    "state_dict = torch.load(model_path)\n",
    "model.load_state_dict(state_dict)"
   ]
  },
  {
   "cell_type": "markdown",
   "id": "dd64d043e8f43bb6",
   "metadata": {
    "collapsed": false
   },
   "source": [
    "# Analysing seen data"
   ]
  },
  {
   "cell_type": "code",
   "execution_count": 8,
   "id": "79855ff4-99e8-4275-b15a-adaf482d15c0",
   "metadata": {},
   "outputs": [],
   "source": [
    "seen_processed_data_path = config['paths']['data']['processed']\n",
    "seen_matrix_cache_path = seen_processed_data_path + 'auxiliary_data_objects/con_matrix_cache.json'\n",
    "\n",
    "unseen_processed_data_path = 'data/processed/greedy_unseen/'\n",
    "unseen_matrix_cache_path = unseen_processed_data_path + 'auxiliary_data_objects/con_matrix_cache.json'\n",
    "\n",
    "feature_statistics_path = seen_processed_data_path + 'auxiliary_data_objects/feature_stats.json'\n",
    "model_type = config['training']['hyperparams']['model_type']\n",
    "network_type = train_config['GCN']['hyperparams']['network_type']\n",
    "\n",
    "dataloaders = {'seen': {}, 'unseen': {}}\n",
    "for data, processed_data_path, matrix_cache_path in [('seen', seen_processed_data_path, seen_matrix_cache_path)]:#: , #('unseen', unseen_processed_data_path, unseen_matrix_cache_path)):\n",
    "    for partition in ('train', 'val', 'test'):\n",
    "        dataloaders[data][partition] = DataLoader(processed_data_path + '/' + partition, matrix_cache_path, feature_statistics_path, 'cpu',  model_type, network_type)"
   ]
  },
  {
   "cell_type": "code",
   "execution_count": null,
   "id": "16b2468179dcf853",
   "metadata": {
    "collapsed": false
   },
   "outputs": [],
   "source": [
    "%%capture\n",
    "\n",
    "# Initialize metrics objects\n",
    "IA = metrics.IncrementalAverage\n",
    "metrics_dict = {\n",
    "    'macro_accuracy': (metrics.macro_accuracy, IA()),\n",
    "    'micro_accuracy': (metrics.micro_accuracy, IA()),\n",
    "    'n_predicted_changes': (metrics.n_predicted_changes, IA()),\n",
    "    'any_predicted_changes': (metrics.any_predicted_changes, IA()),\n",
    "    'macro_accuracy_one_sub': (metrics.macro_accuracy_one_sub, IA()),\n",
    "    'micro_accuracy_one_sub': (metrics.micro_accuracy_one_sub, IA()),\n",
    "    'train_loss': (lambda **kwargs: kwargs['l'], IA()),\n",
    "    'accuracy_predicted_substation':\n",
    "        (metrics.accuracy_predicted_substation, IA())\n",
    "}\n",
    "val_metrics_dict = dict([('val_' + k, v) for k, v in metrics_dict.items()])\n",
    "val_metrics_dict['val_macro_accuracy_valid'] = (metrics.macro_accuracy_valid, IA())\n",
    "val_metrics_dict['val_micro_accuracy_valid'] = (metrics.micro_accuracy_valid, IA())\n",
    "IAM = metrics.IncrementalAverageMetrics\n",
    "eval_metrics = IAM(val_metrics_dict)\n",
    "\n",
    "# Initialize action space cache used for\n",
    "as_cache = ActSpaceCache(line_outages_considered=train_config['settings']['line_outages_considered'])"
   ]
  },
  {
   "cell_type": "markdown",
   "id": "5133f046e2fa674",
   "metadata": {
    "collapsed": false
   },
   "source": [
    "# Analyzing seen topologies"
   ]
  },
  {
   "cell_type": "code",
   "execution_count": null,
   "id": "0d37910a-9e0d-4f30-bfd9-23e982113c44",
   "metadata": {},
   "outputs": [],
   "source": [
    "%%capture\n",
    "%tb\n",
    "plt.ioff()\n",
    "results = {}\n",
    "\n",
    "for partition, dataloader in dataloaders['seen'].items():\n",
    "        \n",
    "    eval_metrics.reset()\n",
    "    _ = evaluate_dataset(model, dataloader, as_cache, eval_metrics)\n",
    "\n",
    "    results[partition] = {\n",
    "        'val_macro_accuracy_valid':  eval_metrics.metrics_dict['val_macro_accuracy_valid'][1].get(),\n",
    "        'loss':  eval_metrics.metrics_dict['val_train_loss'][1].get()\n",
    "    }\n"
   ]
  },
  {
   "cell_type": "code",
   "execution_count": null,
   "id": "9fd4f8c883b111b8",
   "metadata": {
    "collapsed": false
   },
   "outputs": [],
   "source": [
    "results"
   ]
  },
  {
   "cell_type": "markdown",
   "id": "53d6f42f8b089f5",
   "metadata": {
    "collapsed": false
   },
   "source": [
    "# Analyzing unseen topologies"
   ]
  },
  {
   "cell_type": "code",
   "execution_count": 15,
   "id": "6f34c19101594080",
   "metadata": {
    "collapsed": false
   },
   "outputs": [],
   "source": [
    "%%capture\n",
    "for data, processed_data_path, matrix_cache_path in [('unseen', unseen_processed_data_path, unseen_matrix_cache_path)]:\n",
    "    for partition in ('train', 'val', 'test'):\n",
    "        dataloaders[data][partition] = DataLoader(processed_data_path + '/' + partition, matrix_cache_path, feature_statistics_path, 'cpu',  model_type, network_type)\n",
    "\n",
    "# Initialize metrics objects\n",
    "IA = metrics.IncrementalAverage\n",
    "metrics_dict = {\n",
    "    'macro_accuracy': (metrics.macro_accuracy, IA()),\n",
    "    'micro_accuracy': (metrics.micro_accuracy, IA()),\n",
    "    'n_predicted_changes': (metrics.n_predicted_changes, IA()),\n",
    "    'any_predicted_changes': (metrics.any_predicted_changes, IA()),\n",
    "    'macro_accuracy_one_sub': (metrics.macro_accuracy_one_sub, IA()),\n",
    "    'micro_accuracy_one_sub': (metrics.micro_accuracy_one_sub, IA()),\n",
    "    'train_loss': (lambda **kwargs: kwargs['l'], IA()),\n",
    "    'accuracy_predicted_substation':\n",
    "        (metrics.accuracy_predicted_substation, IA())\n",
    "}\n",
    "val_metrics_dict = dict([('val_' + k, v) for k, v in metrics_dict.items()])\n",
    "val_metrics_dict['val_macro_accuracy_valid'] = (metrics.macro_accuracy_valid, IA())\n",
    "val_metrics_dict['val_micro_accuracy_valid'] = (metrics.micro_accuracy_valid, IA())\n",
    "IAM = metrics.IncrementalAverageMetrics\n",
    "eval_metrics = IAM(val_metrics_dict)\n",
    "\n",
    "# Initialize action space cache used for\n",
    "as_cache = ActSpaceCache(line_outages_considered=train_config['settings']['line_outages_considered'])\n",
    "#_ = evaluate_dataset(model, dataloader, as_cache, eval_metrics)"
   ]
  },
  {
   "cell_type": "code",
   "execution_count": 16,
   "id": "6c46bb3715fea10f",
   "metadata": {
    "collapsed": false
   },
   "outputs": [
    {
     "ename": "NameError",
     "evalue": "name 'model' is not defined",
     "output_type": "error",
     "traceback": [
      "\u001B[0;31m---------------------------------------------------------------------------\u001B[0m",
      "\u001B[0;31mNameError\u001B[0m                                 Traceback (most recent call last)",
      "Cell \u001B[0;32mIn[16], line 8\u001B[0m\n\u001B[1;32m      5\u001B[0m \u001B[38;5;28;01mfor\u001B[39;00m partition, dataloader \u001B[38;5;129;01min\u001B[39;00m dataloaders[\u001B[38;5;124m'\u001B[39m\u001B[38;5;124munseen\u001B[39m\u001B[38;5;124m'\u001B[39m]\u001B[38;5;241m.\u001B[39mitems():\n\u001B[1;32m      7\u001B[0m     eval_metrics\u001B[38;5;241m.\u001B[39mreset()\n\u001B[0;32m----> 8\u001B[0m     figures \u001B[38;5;241m=\u001B[39m evaluate_dataset(\u001B[43mmodel\u001B[49m, dataloader, as_cache, eval_metrics)\n\u001B[1;32m     10\u001B[0m     results[partition] \u001B[38;5;241m=\u001B[39m {\n\u001B[1;32m     11\u001B[0m         \u001B[38;5;124m'\u001B[39m\u001B[38;5;124mval_macro_accuracy_valid\u001B[39m\u001B[38;5;124m'\u001B[39m:  eval_metrics\u001B[38;5;241m.\u001B[39mmetrics_dict[\u001B[38;5;124m'\u001B[39m\u001B[38;5;124mval_macro_accuracy_valid\u001B[39m\u001B[38;5;124m'\u001B[39m][\u001B[38;5;241m1\u001B[39m]\u001B[38;5;241m.\u001B[39mget(),\n\u001B[1;32m     12\u001B[0m         \u001B[38;5;124m'\u001B[39m\u001B[38;5;124mloss\u001B[39m\u001B[38;5;124m'\u001B[39m:  eval_metrics\u001B[38;5;241m.\u001B[39mmetrics_dict[\u001B[38;5;124m'\u001B[39m\u001B[38;5;124mval_train_loss\u001B[39m\u001B[38;5;124m'\u001B[39m][\u001B[38;5;241m1\u001B[39m]\u001B[38;5;241m.\u001B[39mget()\n\u001B[1;32m     13\u001B[0m     }\n",
      "\u001B[0;31mNameError\u001B[0m: name 'model' is not defined"
     ]
    }
   ],
   "source": [
    "%%capture\n",
    "%tb\n",
    "plt.ioff()\n",
    "results = {}\n",
    "\n",
    "for partition, dataloader in dataloaders['unseen'].items():\n",
    "        \n",
    "    eval_metrics.reset()\n",
    "    figures = evaluate_dataset(model, dataloader, as_cache, eval_metrics)\n",
    "\n",
    "    results[partition] = {\n",
    "        'val_macro_accuracy_valid':  eval_metrics.metrics_dict['val_macro_accuracy_valid'][1].get(),\n",
    "        'loss':  eval_metrics.metrics_dict['val_train_loss'][1].get()\n",
    "    }\n"
   ]
  },
  {
   "cell_type": "code",
   "execution_count": 17,
   "id": "a732fd9e41318676",
   "metadata": {
    "collapsed": false
   },
   "outputs": [
    {
     "data": {
      "text/plain": [
       "{'train': {'val_macro_accuracy_valid': 0.34170633174673015,\n",
       "  'loss': tensor(0.2687)},\n",
       " 'val': {'val_macro_accuracy_valid': 0.3724077328646749,\n",
       "  'loss': tensor(0.2623)},\n",
       " 'test': {'val_macro_accuracy_valid': 0.3449386985224772,\n",
       "  'loss': tensor(0.2617)}}"
      ]
     },
     "execution_count": 17,
     "metadata": {},
     "output_type": "execute_result"
    }
   ],
   "source": [
    "results"
   ]
  },
  {
   "cell_type": "code",
   "execution_count": 18,
   "id": "518665f58bfe4aa6",
   "metadata": {
    "collapsed": false
   },
   "outputs": [
    {
     "data": {
      "image/png": "[encoded data removed]",
      "text/plain": [
       "<Figure size 1200x1200 with 2 Axes>"
      ]
     },
     "execution_count": 18,
     "metadata": {},
     "output_type": "execute_result"
    }
   ],
   "source": [
    "figures['substation_confusion_matrix']"
   ]
  },
  {
   "cell_type": "code",
   "execution_count": 19,
   "id": "f5049a30546c7291",
   "metadata": {
    "collapsed": false
   },
   "outputs": [
    {
     "data": {
      "image/png": "[encoded data removed]",
      "text/plain": [
       "<Figure size 640x480 with 3 Axes>"
      ]
     },
     "execution_count": 19,
     "metadata": {},
     "output_type": "execute_result"
    }
   ],
   "source": [
    "figures['affected_objects']"
   ]
  },
  {
   "cell_type": "code",
   "execution_count": 20,
   "id": "3efe3de8ffe3145b",
   "metadata": {
    "collapsed": false
   },
   "outputs": [
    {
     "data": {
      "image/png": "[encoded data removed]",
      "text/plain": [
       "<Figure size 640x480 with 1 Axes>"
      ]
     },
     "execution_count": 20,
     "metadata": {},
     "output_type": "execute_result"
    }
   ],
   "source": [
    "figures['accuracy_per_lineout']"
   ]
  },
  {
   "cell_type": "code",
   "execution_count": 21,
   "id": "e6a0471b6381345f",
   "metadata": {
    "collapsed": false
   },
   "outputs": [
    {
     "data": {
      "image/png": "[encoded data removed]",
      "text/plain": [
       "<Figure size 640x480 with 1 Axes>"
      ]
     },
     "execution_count": 21,
     "metadata": {},
     "output_type": "execute_result"
    }
   ],
   "source": [
    "figures['accuracy_per_label']"
   ]
  },
  {
   "cell_type": "markdown",
   "id": "286a3f9d94553011",
   "metadata": {
    "collapsed": false
   },
   "source": [
    "# Computing results for multiple models"
   ]
  },
  {
   "cell_type": "code",
   "execution_count": null,
   "id": "455c8946c12d37d",
   "metadata": {
    "collapsed": false
   },
   "outputs": [],
   "source": [
    "import numpy as np\n",
    "import tqdm\n",
    "\n",
    "model_numbers = np.arange(1,6)\n",
    "results = {}\n",
    "\n",
    "# Data\n",
    "seen_processed_data_path = config['paths']['data']['processed']\n",
    "seen_matrix_cache_path = seen_processed_data_path + 'auxiliary_data_objects/con_matrix_cache.json'\n",
    "feature_statistics_path = seen_processed_data_path + 'auxiliary_data_objects/feature_stats.json'\n",
    "model_type = config['training']['hyperparams']['model_type']\n",
    "network_type = train_config['GCN']['hyperparams']['network_type']\n",
    "\n",
    "# Metrics\n",
    "# Initialize metrics objects\n",
    "IA = metrics.IncrementalAverage\n",
    "metrics_dict = {\n",
    "    'macro_accuracy': (metrics.macro_accuracy, IA()),\n",
    "    'micro_accuracy': (metrics.micro_accuracy, IA()),\n",
    "    'n_predicted_changes': (metrics.n_predicted_changes, IA()),\n",
    "    'any_predicted_changes': (metrics.any_predicted_changes, IA()),\n",
    "    'macro_accuracy_one_sub': (metrics.macro_accuracy_one_sub, IA()),\n",
    "    'micro_accuracy_one_sub': (metrics.micro_accuracy_one_sub, IA()),\n",
    "    'train_loss': (lambda **kwargs: kwargs['l'], IA()),\n",
    "    'accuracy_predicted_substation':\n",
    "        (metrics.accuracy_predicted_substation, IA())\n",
    "}\n",
    "val_metrics_dict = dict([('val_' + k, v) for k, v in metrics_dict.items()])\n",
    "val_metrics_dict['val_macro_accuracy_valid'] = (metrics.macro_accuracy_valid, IA())\n",
    "val_metrics_dict['val_micro_accuracy_valid'] = (metrics.micro_accuracy_valid, IA())\n",
    "IAM = metrics.IncrementalAverageMetrics\n",
    "eval_metrics = IAM(val_metrics_dict)\n",
    "\n",
    "# Action space cache\n",
    "as_cache = ActSpaceCache(line_outages_considered=train_config['settings']['line_outages_considered'])\n",
    "\n",
    "for i in tqdm.tqdm(model_numbers):\n",
    "    \n",
    "    # Model\n",
    "    model = GCN(train_config['hyperparams']['LReLu_neg_slope'],\n",
    "                train_config['hyperparams']['weight_init_std'],\n",
    "                train_config['GCN']['constants']['N_f_gen'],\n",
    "                train_config['GCN']['constants']['N_f_load'],\n",
    "                train_config['GCN']['constants']['N_f_endpoint'],\n",
    "                train_config['GCN']['hyperparams']['N_GCN_layers'],\n",
    "                train_config['hyperparams']['N_node_hidden'],\n",
    "                train_config['GCN']['hyperparams']['aggr'],\n",
    "                train_config['GCN']['hyperparams']['network_type'],\n",
    "                train_config['GCN']['hyperparams']['layer_type'],\n",
    "                train_config['GCN']['hyperparams']['GINConv_nn_depth'])\n",
    "\n",
    "    model_path = f'models/Hetero_unseen_{i}'\n",
    "    state_dict = torch.load(model_path)\n",
    "    model.load_state_dict(state_dict)\n",
    "\n",
    "    # Dataloader\n",
    "    dataloader = DataLoader(seen_processed_data_path + '/test', seen_matrix_cache_path, feature_statistics_path, 'cpu',  model_type, network_type)\n",
    "\n",
    "    # Evaluate\n",
    "    eval_metrics.reset()\n",
    "    figures = evaluate_dataset(model, dataloader, as_cache, eval_metrics)\n",
    "\n",
    "    results[i] = {\n",
    "        'val_macro_accuracy_valid':  eval_metrics.metrics_dict['val_macro_accuracy_valid'][1].get(),\n",
    "        'loss':  eval_metrics.metrics_dict['val_train_loss'][1].get()\n",
    "    }"
   ]
  },
  {
   "cell_type": "code",
   "execution_count": null,
   "id": "d46b08658f218db3",
   "metadata": {
    "collapsed": false
   },
   "outputs": [],
   "source": [
    "results"
   ]
  },
  {
   "cell_type": "code",
   "execution_count": null,
   "id": "3ec4e80073b1c97f",
   "metadata": {
    "collapsed": false
   },
   "outputs": [],
   "source": [
    "mean_accuracy = np.mean([v['val_macro_accuracy_valid'] for v in results.values()])\n",
    "std_accuracy = np.std([v['val_macro_accuracy_valid'] for v in results.values()])\n",
    "print(mean_accuracy)\n",
    "print(std_accuracy)"
   ]
  },
  {
   "cell_type": "code",
   "execution_count": null,
   "id": "ea645dbf002df690",
   "metadata": {
    "collapsed": false
   },
   "outputs": [],
   "source": [
    "import numpy as np\n",
    "import tqdm\n",
    "\n",
    "model_numbers = np.arange(1,6)\n",
    "results = {}\n",
    "\n",
    "# Data\n",
    "unseen_processed_data_path = 'data/processed/greedy_unseen/'\n",
    "unseen_matrix_cache_path = unseen_processed_data_path + 'auxiliary_data_objects/con_matrix_cache.json'\n",
    "\n",
    "feature_statistics_path = seen_processed_data_path + 'auxiliary_data_objects/feature_stats.json'\n",
    "model_type = config['training']['hyperparams']['model_type']\n",
    "network_type = train_config['GCN']['hyperparams']['network_type']\n",
    "\n",
    "# Metrics\n",
    "# Initialize metrics objects\n",
    "IA = metrics.IncrementalAverage\n",
    "metrics_dict = {\n",
    "    'macro_accuracy': (metrics.macro_accuracy, IA()),\n",
    "    'micro_accuracy': (metrics.micro_accuracy, IA()),\n",
    "    'n_predicted_changes': (metrics.n_predicted_changes, IA()),\n",
    "    'any_predicted_changes': (metrics.any_predicted_changes, IA()),\n",
    "    'macro_accuracy_one_sub': (metrics.macro_accuracy_one_sub, IA()),\n",
    "    'micro_accuracy_one_sub': (metrics.micro_accuracy_one_sub, IA()),\n",
    "    'train_loss': (lambda **kwargs: kwargs['l'], IA()),\n",
    "    'accuracy_predicted_substation':\n",
    "        (metrics.accuracy_predicted_substation, IA())\n",
    "}\n",
    "val_metrics_dict = dict([('val_' + k, v) for k, v in metrics_dict.items()])\n",
    "val_metrics_dict['val_macro_accuracy_valid'] = (metrics.macro_accuracy_valid, IA())\n",
    "val_metrics_dict['val_micro_accuracy_valid'] = (metrics.micro_accuracy_valid, IA())\n",
    "IAM = metrics.IncrementalAverageMetrics\n",
    "eval_metrics = IAM(val_metrics_dict)\n",
    "\n",
    "# Action space cache\n",
    "as_cache = ActSpaceCache(line_outages_considered=train_config['settings']['line_outages_considered'])\n",
    "\n",
    "for i in tqdm.tqdm(model_numbers):\n",
    "    \n",
    "  # Model\n",
    "    model = GCN(train_config['hyperparams']['LReLu_neg_slope'],\n",
    "                train_config['hyperparams']['weight_init_std'],\n",
    "                train_config['GCN']['constants']['N_f_gen'],\n",
    "                train_config['GCN']['constants']['N_f_load'],\n",
    "                train_config['GCN']['constants']['N_f_endpoint'],\n",
    "                train_config['GCN']['hyperparams']['N_GCN_layers'],\n",
    "                train_config['hyperparams']['N_node_hidden'],\n",
    "                train_config['GCN']['hyperparams']['aggr'],\n",
    "                train_config['GCN']['hyperparams']['network_type'],\n",
    "                train_config['GCN']['hyperparams']['layer_type'],\n",
    "                train_config['GCN']['hyperparams']['GINConv_nn_depth'])\n",
    "\n",
    "    model_path = f'models/Hetero_unseen_{i}'\n",
    "    state_dict = torch.load(model_path)\n",
    "    model.load_state_dict(state_dict)\n",
    "\n",
    "\n",
    "    # Dataloader\n",
    "    dataloader = DataLoader(unseen_processed_data_path + '/test', unseen_matrix_cache_path, feature_statistics_path, 'cpu',  model_type, network_type)\n",
    "\n",
    "    # Evaluate\n",
    "    eval_metrics.reset()\n",
    "    figures = evaluate_dataset(model, dataloader, as_cache, eval_metrics)\n",
    "\n",
    "    results[i] = {\n",
    "        'val_macro_accuracy_valid':  eval_metrics.metrics_dict['val_macro_accuracy_valid'][1].get(),\n",
    "        'loss':  eval_metrics.metrics_dict['val_train_loss'][1].get()\n",
    "    }"
   ]
  },
  {
   "cell_type": "code",
   "execution_count": null,
   "id": "5253bbaf05aace30",
   "metadata": {
    "collapsed": false
   },
   "outputs": [],
   "source": [
    "results"
   ]
  },
  {
   "cell_type": "code",
   "execution_count": null,
   "id": "e954c027157627c3",
   "metadata": {
    "collapsed": false
   },
   "outputs": [],
   "source": [
    "mean_accuracy = np.mean([v['val_macro_accuracy_valid'] for v in results.values()])\n",
    "std_accuracy = np.std([v['val_macro_accuracy_valid'] for v in results.values()])\n",
    "print(mean_accuracy)\n",
    "print(std_accuracy)"
   ]
  },
  {
   "cell_type": "markdown",
   "id": "357b9417b13e3966",
   "metadata": {
    "collapsed": false
   },
   "source": [
    "## Boxplots"
   ]
  },
  {
   "cell_type": "code",
   "execution_count": 48,
   "id": "fa7a6ef0199a4f1",
   "metadata": {
    "collapsed": false
   },
   "outputs": [
    {
     "data": {
      "text/plain": [
       "Text(0.5, 1.0, 'Accuracies on the Test Set of Seen Networks')"
      ]
     },
     "execution_count": 48,
     "metadata": {},
     "output_type": "execute_result"
    },
    {
     "data": {
      "image/png": "[encoded data removed]",
      "text/plain": [
       "<Figure size 640x480 with 1 Axes>"
      ]
     },
     "metadata": {},
     "output_type": "display_data"
    }
   ],
   "source": [
    "import matplotlib.pyplot as plt\n",
    "import numpy as np\n",
    "\n",
    "seen_fcnn_accs = [0.7748490060397584, 0.7578896844126235, 0.7677292908283668, 0.7593296268149274, 0.7609695612175513]\n",
    "#unseen_fcnn_accs = [0.3449386985224772, 0.3489468720528136, 0.34855391386356493,0.3362150267211569, 0.35853505187048096]\n",
    "seen_homo_accs = [0.7254509819607216, 0.7299708011679533, 0.7242510299588016, 0.7251709931602736,0.7394504219831207]\n",
    "seen_hetero_accs = [0.7959681612735491, 0.7900483980640775, 0.7868085276588936, 0.7786488540458382, 0.7777688892444302]\n",
    "\n",
    "plt.violinplot([seen_fcnn_accs, seen_homo_accs, seen_hetero_accs],\n",
    "              showmeans=True)\n",
    "plt.gca().set_xticks([1, 2, 3])\n",
    "plt.gca().set_xticklabels(['FCNN', 'Homogeneous', 'Heterogeneous'])\n",
    "plt.ylabel('Accuracy')\n",
    "plt.title('Accuracies on the Test Set of Seen Networks')\n",
    "           #labels=≈)"
   ]
  },
  {
   "cell_type": "code",
   "execution_count": 49,
   "id": "e0f143be81de562f",
   "metadata": {
    "collapsed": false
   },
   "outputs": [
    {
     "data": {
      "text/plain": [
       "Text(0.5, 1.0, 'Accuracies on the Test Set of Unseen Networks')"
      ]
     },
     "execution_count": 49,
     "metadata": {},
     "output_type": "execute_result"
    },
    {
     "data": {
      "image/png": "[encoded data removed]",
      "text/plain": [
       "<Figure size 640x480 with 1 Axes>"
      ]
     },
     "metadata": {},
     "output_type": "display_data"
    }
   ],
   "source": [
    "unseen_fcnn_accs = [0.3449386985224772, 0.3489468720528136, 0.34855391386356493, 0.3362150267211569, 0.35853505187048096]\n",
    "unseen_homo_accs = [0.6087708267840302, 0.6119930839358693, 0.5985539138635649, 0.6211097139264382, 0.6128575919522162]\n",
    "unseen_hetero_accs = [0.655297076391072, 0.6583621502672116, 0.657340458975165, 0.6452373467463062, 0.6411505815781201]\n",
    "exposed_hetero_accs = [0.8025778057214712, 0.8088651367494498, 0.8142879597610814, 0.8068217541653568, 0.803520905375668]\n",
    "\n",
    "plt.violinplot([unseen_fcnn_accs, unseen_homo_accs, unseen_hetero_accs, exposed_hetero_accs],\n",
    "              showmeans=True)\n",
    "plt.gca().set_xticks([1, 2, 3, 4])\n",
    "plt.gca().set_xticklabels(['FCNN', 'Homogeneous', 'Heterogeneous', 'Exposed \\n Heterogeneous'])\n",
    "plt.ylabel('Accuracy')\n",
    "plt.title('Accuracies on the Test Set of Unseen Networks')"
   ]
  },
  {
   "cell_type": "markdown",
   "id": "762c095fcea21a76",
   "metadata": {
    "collapsed": false
   },
   "source": [
    "# Error Analysis"
   ]
  },
  {
   "cell_type": "code",
   "execution_count": 50,
   "id": "93abe33e076d60a6",
   "metadata": {
    "collapsed": false
   },
   "outputs": [],
   "source": [
    "processed_data_path = config['paths']['data']['processed']\n",
    "matrix_cache_path = processed_data_path + 'auxiliary_data_objects/con_matrix_cache.json'\n",
    "\n",
    "feature_statistics_path = processed_data_path + 'auxiliary_data_objects/feature_stats.json'\n",
    "model_type = config['training']['hyperparams']['model_type']\n",
    "network_type = train_config['GCN']['hyperparams']['network_type']"
   ]
  },
  {
   "cell_type": "code",
   "execution_count": 51,
   "id": "282ff333f01c0272",
   "metadata": {
    "collapsed": false
   },
   "outputs": [],
   "source": [
    "model = FCNN(train_config['hyperparams']['LReLu_neg_slope'],\n",
    "                 train_config['hyperparams']['weight_init_std'],\n",
    "                 train_config['FCNN']['constants']['size_in'],\n",
    "                 train_config['FCNN']['constants']['size_out'],\n",
    "                 train_config['FCNN']['hyperparams']['N_layers'],\n",
    "                 train_config['hyperparams']['N_node_hidden'])"
   ]
  },
  {
   "cell_type": "code",
   "execution_count": 52,
   "id": "17e2aa6865efea4f",
   "metadata": {
    "collapsed": false
   },
   "outputs": [
    {
     "ename": "AttributeError",
     "evalue": "module 'sklearn.metrics' has no attribute 'IncrementalAverage'",
     "output_type": "error",
     "traceback": [
      "\u001B[0;31m---------------------------------------------------------------------------\u001B[0m",
      "\u001B[0;31mAttributeError\u001B[0m                            Traceback (most recent call last)",
      "Cell \u001B[0;32mIn[52], line 9\u001B[0m\n\u001B[1;32m      5\u001B[0m dataloader \u001B[38;5;241m=\u001B[39m DataLoader(processed_data_path \u001B[38;5;241m+\u001B[39m \u001B[38;5;124m'\u001B[39m\u001B[38;5;124m/val\u001B[39m\u001B[38;5;124m'\u001B[39m, matrix_cache_path, feature_statistics_path, \u001B[38;5;124m'\u001B[39m\u001B[38;5;124mcpu\u001B[39m\u001B[38;5;124m'\u001B[39m,  model_type, network_type)\n\u001B[1;32m      7\u001B[0m \u001B[38;5;66;03m# Metrics\u001B[39;00m\n\u001B[1;32m      8\u001B[0m \u001B[38;5;66;03m# Initialize metrics objects\u001B[39;00m\n\u001B[0;32m----> 9\u001B[0m IA \u001B[38;5;241m=\u001B[39m \u001B[43mmetrics\u001B[49m\u001B[38;5;241;43m.\u001B[39;49m\u001B[43mIncrementalAverage\u001B[49m\n\u001B[1;32m     10\u001B[0m metrics_dict \u001B[38;5;241m=\u001B[39m {\n\u001B[1;32m     11\u001B[0m     \u001B[38;5;124m'\u001B[39m\u001B[38;5;124mmacro_accuracy\u001B[39m\u001B[38;5;124m'\u001B[39m: (metrics\u001B[38;5;241m.\u001B[39mmacro_accuracy, IA()),\n\u001B[1;32m     12\u001B[0m     \u001B[38;5;124m'\u001B[39m\u001B[38;5;124mmicro_accuracy\u001B[39m\u001B[38;5;124m'\u001B[39m: (metrics\u001B[38;5;241m.\u001B[39mmicro_accuracy, IA()),\n\u001B[0;32m   (...)\u001B[0m\n\u001B[1;32m     19\u001B[0m         (metrics\u001B[38;5;241m.\u001B[39maccuracy_predicted_substation, IA())\n\u001B[1;32m     20\u001B[0m }\n\u001B[1;32m     21\u001B[0m val_metrics_dict \u001B[38;5;241m=\u001B[39m \u001B[38;5;28mdict\u001B[39m([(\u001B[38;5;124m'\u001B[39m\u001B[38;5;124mval_\u001B[39m\u001B[38;5;124m'\u001B[39m \u001B[38;5;241m+\u001B[39m k, v) \u001B[38;5;28;01mfor\u001B[39;00m k, v \u001B[38;5;129;01min\u001B[39;00m metrics_dict\u001B[38;5;241m.\u001B[39mitems()])\n",
      "\u001B[0;31mAttributeError\u001B[0m: module 'sklearn.metrics' has no attribute 'IncrementalAverage'"
     ]
    }
   ],
   "source": [
    "model_path = config['paths']['model']\n",
    "state_dict = torch.load(model_path)\n",
    "model.load_state_dict(state_dict)\n",
    "\n",
    "dataloader = DataLoader(processed_data_path + '/val', matrix_cache_path, feature_statistics_path, 'cpu',  model_type, network_type)\n",
    "\n",
    "# Metrics\n",
    "# Initialize metrics objects\n",
    "IA = metrics.IncrementalAverage\n",
    "metrics_dict = {\n",
    "    'macro_accuracy': (metrics.macro_accuracy, IA()),\n",
    "    'micro_accuracy': (metrics.micro_accuracy, IA()),\n",
    "    'n_predicted_changes': (metrics.n_predicted_changes, IA()),\n",
    "    'any_predicted_changes': (metrics.any_predicted_changes, IA()),\n",
    "    'macro_accuracy_one_sub': (metrics.macro_accuracy_one_sub, IA()),\n",
    "    'micro_accuracy_one_sub': (metrics.micro_accuracy_one_sub, IA()),\n",
    "    'train_loss': (lambda **kwargs: kwargs['l'], IA()),\n",
    "    'accuracy_predicted_substation':\n",
    "        (metrics.accuracy_predicted_substation, IA())\n",
    "}\n",
    "val_metrics_dict = dict([('val_' + k, v) for k, v in metrics_dict.items()])\n",
    "val_metrics_dict['val_macro_accuracy_valid'] = (metrics.macro_accuracy_valid, IA())\n",
    "val_metrics_dict['val_micro_accuracy_valid'] = (metrics.micro_accuracy_valid, IA())\n",
    "IAM = metrics.IncrementalAverageMetrics\n",
    "eval_metrics = IAM(val_metrics_dict)\n",
    "\n",
    "# Action space cache\n",
    "as_cache = ActSpaceCache(line_outages_considered=train_config['settings']['line_outages_considered'])"
   ]
  },
  {
   "cell_type": "code",
   "execution_count": 53,
   "id": "e85a7bc274680196",
   "metadata": {
    "collapsed": false
   },
   "outputs": [
    {
     "name": "stderr",
     "output_type": "stream",
     "text": [
      "16991it [00:16, 1027.92it/s]\n"
     ]
    },
    {
     "ename": "KeyboardInterrupt",
     "evalue": "",
     "output_type": "error",
     "traceback": [
      "\u001B[0;31m---------------------------------------------------------------------------\u001B[0m",
      "\u001B[0;31mKeyboardInterrupt\u001B[0m                         Traceback (most recent call last)",
      "Cell \u001B[0;32mIn[53], line 8\u001B[0m\n\u001B[1;32m      4\u001B[0m datapoints \u001B[38;5;241m=\u001B[39m []\n\u001B[1;32m      6\u001B[0m \u001B[38;5;28;01mfor\u001B[39;00m dp \u001B[38;5;129;01min\u001B[39;00m tqdm\u001B[38;5;241m.\u001B[39mtqdm(dataloader):\n\u001B[1;32m      7\u001B[0m     l, Y, P, nearest_valid_P, Y_sub_idx, Y_sub_mask, P_subchanged_idx, \\\n\u001B[0;32m----> 8\u001B[0m                 nearest_valid_actions \u001B[38;5;241m=\u001B[39m \u001B[43mprocess_datapoint\u001B[49m\u001B[43m(\u001B[49m\u001B[43mdp\u001B[49m\u001B[43m,\u001B[49m\u001B[43m \u001B[49m\u001B[43mmodel\u001B[49m\u001B[43m,\u001B[49m\u001B[43m \u001B[49m\u001B[43mas_cache\u001B[49m\u001B[43m,\u001B[49m\u001B[43m \u001B[49m\u001B[43meval_metrics\u001B[49m\u001B[43m)\u001B[49m\n\u001B[1;32m     10\u001B[0m     Y_string \u001B[38;5;241m=\u001B[39m \u001B[38;5;124m'\u001B[39m\u001B[38;5;124m'\u001B[39m\u001B[38;5;241m.\u001B[39mjoin([\u001B[38;5;28mstr\u001B[39m(\u001B[38;5;28mint\u001B[39m(i)) \u001B[38;5;28;01mfor\u001B[39;00m i \u001B[38;5;129;01min\u001B[39;00m dp[\u001B[38;5;124m'\u001B[39m\u001B[38;5;124mfull_change_topo_vect\u001B[39m\u001B[38;5;124m'\u001B[39m]\u001B[38;5;241m.\u001B[39mtolist()])\n\u001B[1;32m     11\u001B[0m     P_string \u001B[38;5;241m=\u001B[39m \u001B[38;5;124m'\u001B[39m\u001B[38;5;124m'\u001B[39m\u001B[38;5;241m.\u001B[39mjoin([\u001B[38;5;28mstr\u001B[39m(\u001B[38;5;28mint\u001B[39m(i)) \u001B[38;5;28;01mfor\u001B[39;00m i \u001B[38;5;129;01min\u001B[39;00m nearest_valid_P\u001B[38;5;241m.\u001B[39mtolist()])\n",
      "File \u001B[0;32m~/Projects/MSc_Thesis/GNN_PN_Operation_MSc_Thesis/training/training.py:399\u001B[0m, in \u001B[0;36mprocess_datapoint\u001B[0;34m(dp, model, as_cache, running_metrics, device)\u001B[0m\n\u001B[1;32m    396\u001B[0m weights \u001B[38;5;241m=\u001B[39m get_label_weights(Y_sub_mask, P_sub_mask)\n\u001B[1;32m    398\u001B[0m \u001B[38;5;66;03m# Compute the loss\u001B[39;00m\n\u001B[0;32m--> 399\u001B[0m loss \u001B[38;5;241m=\u001B[39m \u001B[43mBCELoss_labels_weighted\u001B[49m\u001B[43m(\u001B[49m\u001B[43mP\u001B[49m\u001B[43m,\u001B[49m\u001B[43m \u001B[49m\u001B[43mY_smth\u001B[49m\u001B[43m,\u001B[49m\u001B[43m \u001B[49m\u001B[43mweights\u001B[49m\u001B[43m)\u001B[49m\n\u001B[1;32m    401\u001B[0m \u001B[38;5;66;03m# Calculate statistics for metrics\u001B[39;00m\n\u001B[1;32m    402\u001B[0m one_sub_P \u001B[38;5;241m=\u001B[39m torch\u001B[38;5;241m.\u001B[39mzeros_like(P)\n",
      "File \u001B[0;32m~/Projects/MSc_Thesis/GNN_PN_Operation_MSc_Thesis/training/training.py:28\u001B[0m, in \u001B[0;36mBCELoss_labels_weighted\u001B[0;34m(P, Y, W)\u001B[0m\n\u001B[1;32m     25\u001B[0m \u001B[38;5;28;01mfrom\u001B[39;00m \u001B[38;5;21;01mauxiliary\u001B[39;00m\u001B[38;5;21;01m.\u001B[39;00m\u001B[38;5;21;01mconfig\u001B[39;00m \u001B[38;5;28;01mimport\u001B[39;00m get_config\n\u001B[1;32m     26\u001B[0m \u001B[38;5;28;01mfrom\u001B[39;00m \u001B[38;5;21;01mtyping\u001B[39;00m \u001B[38;5;28;01mimport\u001B[39;00m Optional\n\u001B[0;32m---> 28\u001B[0m \u001B[38;5;28;01mdef\u001B[39;00m \u001B[38;5;21mBCELoss_labels_weighted\u001B[39m(P: torch\u001B[38;5;241m.\u001B[39mTensor, Y: torch\u001B[38;5;241m.\u001B[39mTensor, W: torch\u001B[38;5;241m.\u001B[39mTensor) \\\n\u001B[1;32m     29\u001B[0m         \u001B[38;5;241m-\u001B[39m\u001B[38;5;241m>\u001B[39m torch\u001B[38;5;241m.\u001B[39mTensor:\n\u001B[1;32m     30\u001B[0m \u001B[38;5;250m    \u001B[39m\u001B[38;5;124;03m\"\"\"\u001B[39;00m\n\u001B[1;32m     31\u001B[0m \u001B[38;5;124;03m    Binary cross entropy loss which allows for different weights for different labels.\u001B[39;00m\n\u001B[1;32m     32\u001B[0m \n\u001B[0;32m   (...)\u001B[0m\n\u001B[1;32m     45\u001B[0m \u001B[38;5;124;03m        Tensor object of size (1,1) containing the loss value.\u001B[39;00m\n\u001B[1;32m     46\u001B[0m \u001B[38;5;124;03m    \"\"\"\u001B[39;00m\n\u001B[1;32m     47\u001B[0m     P \u001B[38;5;241m=\u001B[39m torch\u001B[38;5;241m.\u001B[39mclamp(P, \u001B[38;5;28mmin\u001B[39m\u001B[38;5;241m=\u001B[39m\u001B[38;5;241m1e-7\u001B[39m, \u001B[38;5;28mmax\u001B[39m\u001B[38;5;241m=\u001B[39m\u001B[38;5;241m1\u001B[39m \u001B[38;5;241m-\u001B[39m \u001B[38;5;241m1e-7\u001B[39m)\n",
      "\u001B[0;31mKeyboardInterrupt\u001B[0m: "
     ]
    }
   ],
   "source": [
    "import numpy as np\n",
    "import tqdm\n",
    "\n",
    "datapoints = []\n",
    "\n",
    "for dp in tqdm.tqdm(dataloader):\n",
    "    l, Y, P, nearest_valid_P, Y_sub_idx, Y_sub_mask, P_subchanged_idx, \\\n",
    "                nearest_valid_actions = process_datapoint(dp, model, as_cache, eval_metrics)\n",
    "\n",
    "    Y_string = ''.join([str(int(i)) for i in dp['full_change_topo_vect'].tolist()])\n",
    "    P_string = ''.join([str(int(i)) for i in nearest_valid_P.tolist()])\n",
    "    \n",
    "    datapoints.append([dp['features'].numpy(), Y_string, P_string])"
   ]
  },
  {
   "cell_type": "code",
   "execution_count": 12,
   "id": "e6c1270d4c9d57d7",
   "metadata": {
    "collapsed": false
   },
   "outputs": [],
   "source": [
    "#from sklearn import metrics \n",
    "\n",
    "confusion_matrix = metrics.confusion_matrix([dp[1] for dp in datapoints], [dp[2] for dp in datapoints]) "
   ]
  },
  {
   "cell_type": "code",
   "execution_count": 13,
   "id": "dd681b0d092f9087",
   "metadata": {
    "collapsed": false
   },
   "outputs": [],
   "source": [
    "from collections import Counter\n",
    "\n",
    "confusions = Counter()\n",
    "\n",
    "for dp in datapoints:\n",
    "    Y = dp[1]\n",
    "    P = dp[2]\n",
    "\n",
    "    if Y==P:\n",
    "        continue\n",
    "        \n",
    "    if int(Y, 2) < int(P, 2):\n",
    "        confusions[(Y, P)] += 1\n",
    "    else:\n",
    "        confusions[(P, Y)] += 1"
   ]
  },
  {
   "cell_type": "code",
   "execution_count": 14,
   "id": "3351c564995b6b75",
   "metadata": {
    "collapsed": false
   },
   "outputs": [],
   "source": [
    "most_common_confusions = confusions.most_common()"
   ]
  },
  {
   "cell_type": "code",
   "execution_count": 15,
   "id": "df1debc59b5b5791",
   "metadata": {
    "collapsed": false
   },
   "outputs": [
    {
     "data": {
      "text/html": [
       "<style>#sk-container-id-1 {\n",
       "  /* Definition of color scheme common for light and dark mode */\n",
       "  --sklearn-color-text: black;\n",
       "  --sklearn-color-line: gray;\n",
       "  /* Definition of color scheme for unfitted estimators */\n",
       "  --sklearn-color-unfitted-level-0: #fff5e6;\n",
       "  --sklearn-color-unfitted-level-1: #f6e4d2;\n",
       "  --sklearn-color-unfitted-level-2: #ffe0b3;\n",
       "  --sklearn-color-unfitted-level-3: chocolate;\n",
       "  /* Definition of color scheme for fitted estimators */\n",
       "  --sklearn-color-fitted-level-0: #f0f8ff;\n",
       "  --sklearn-color-fitted-level-1: #d4ebff;\n",
       "  --sklearn-color-fitted-level-2: #b3dbfd;\n",
       "  --sklearn-color-fitted-level-3: cornflowerblue;\n",
       "\n",
       "  /* Specific color for light theme */\n",
       "  --sklearn-color-text-on-default-background: var(--sg-text-color, var(--theme-code-foreground, var(--jp-content-font-color1, black)));\n",
       "  --sklearn-color-background: var(--sg-background-color, var(--theme-background, var(--jp-layout-color0, white)));\n",
       "  --sklearn-color-border-box: var(--sg-text-color, var(--theme-code-foreground, var(--jp-content-font-color1, black)));\n",
       "  --sklearn-color-icon: #696969;\n",
       "\n",
       "  @media (prefers-color-scheme: dark) {\n",
       "    /* Redefinition of color scheme for dark theme */\n",
       "    --sklearn-color-text-on-default-background: var(--sg-text-color, var(--theme-code-foreground, var(--jp-content-font-color1, white)));\n",
       "    --sklearn-color-background: var(--sg-background-color, var(--theme-background, var(--jp-layout-color0, #111)));\n",
       "    --sklearn-color-border-box: var(--sg-text-color, var(--theme-code-foreground, var(--jp-content-font-color1, white)));\n",
       "    --sklearn-color-icon: #878787;\n",
       "  }\n",
       "}\n",
       "\n",
       "#sk-container-id-1 {\n",
       "  color: var(--sklearn-color-text);\n",
       "}\n",
       "\n",
       "#sk-container-id-1 pre {\n",
       "  padding: 0;\n",
       "}\n",
       "\n",
       "#sk-container-id-1 input.sk-hidden--visually {\n",
       "  border: 0;\n",
       "  clip: rect(1px 1px 1px 1px);\n",
       "  clip: rect(1px, 1px, 1px, 1px);\n",
       "  height: 1px;\n",
       "  margin: -1px;\n",
       "  overflow: hidden;\n",
       "  padding: 0;\n",
       "  position: absolute;\n",
       "  width: 1px;\n",
       "}\n",
       "\n",
       "#sk-container-id-1 div.sk-dashed-wrapped {\n",
       "  border: 1px dashed var(--sklearn-color-line);\n",
       "  margin: 0 0.4em 0.5em 0.4em;\n",
       "  box-sizing: border-box;\n",
       "  padding-bottom: 0.4em;\n",
       "  background-color: var(--sklearn-color-background);\n",
       "}\n",
       "\n",
       "#sk-container-id-1 div.sk-container {\n",
       "  /* jupyter's `normalize.less` sets `[hidden] { display: none; }`\n",
       "     but bootstrap.min.css set `[hidden] { display: none !important; }`\n",
       "     so we also need the `!important` here to be able to override the\n",
       "     default hidden behavior on the sphinx rendered scikit-learn.org.\n",
       "     See: https://github.com/scikit-learn/scikit-learn/issues/21755 */\n",
       "  display: inline-block !important;\n",
       "  position: relative;\n",
       "}\n",
       "\n",
       "#sk-container-id-1 div.sk-text-repr-fallback {\n",
       "  display: none;\n",
       "}\n",
       "\n",
       "div.sk-parallel-item,\n",
       "div.sk-serial,\n",
       "div.sk-item {\n",
       "  /* draw centered vertical line to link estimators */\n",
       "  background-image: linear-gradient(var(--sklearn-color-text-on-default-background), var(--sklearn-color-text-on-default-background));\n",
       "  background-size: 2px 100%;\n",
       "  background-repeat: no-repeat;\n",
       "  background-position: center center;\n",
       "}\n",
       "\n",
       "/* Parallel-specific style estimator block */\n",
       "\n",
       "#sk-container-id-1 div.sk-parallel-item::after {\n",
       "  content: \"\";\n",
       "  width: 100%;\n",
       "  border-bottom: 2px solid var(--sklearn-color-text-on-default-background);\n",
       "  flex-grow: 1;\n",
       "}\n",
       "\n",
       "#sk-container-id-1 div.sk-parallel {\n",
       "  display: flex;\n",
       "  align-items: stretch;\n",
       "  justify-content: center;\n",
       "  background-color: var(--sklearn-color-background);\n",
       "  position: relative;\n",
       "}\n",
       "\n",
       "#sk-container-id-1 div.sk-parallel-item {\n",
       "  display: flex;\n",
       "  flex-direction: column;\n",
       "}\n",
       "\n",
       "#sk-container-id-1 div.sk-parallel-item:first-child::after {\n",
       "  align-self: flex-end;\n",
       "  width: 50%;\n",
       "}\n",
       "\n",
       "#sk-container-id-1 div.sk-parallel-item:last-child::after {\n",
       "  align-self: flex-start;\n",
       "  width: 50%;\n",
       "}\n",
       "\n",
       "#sk-container-id-1 div.sk-parallel-item:only-child::after {\n",
       "  width: 0;\n",
       "}\n",
       "\n",
       "/* Serial-specific style estimator block */\n",
       "\n",
       "#sk-container-id-1 div.sk-serial {\n",
       "  display: flex;\n",
       "  flex-direction: column;\n",
       "  align-items: center;\n",
       "  background-color: var(--sklearn-color-background);\n",
       "  padding-right: 1em;\n",
       "  padding-left: 1em;\n",
       "}\n",
       "\n",
       "\n",
       "/* Toggleable style: style used for estimator/Pipeline/ColumnTransformer box that is\n",
       "clickable and can be expanded/collapsed.\n",
       "- Pipeline and ColumnTransformer use this feature and define the default style\n",
       "- Estimators will overwrite some part of the style using the `sk-estimator` class\n",
       "*/\n",
       "\n",
       "/* Pipeline and ColumnTransformer style (default) */\n",
       "\n",
       "#sk-container-id-1 div.sk-toggleable {\n",
       "  /* Default theme specific background. It is overwritten whether we have a\n",
       "  specific estimator or a Pipeline/ColumnTransformer */\n",
       "  background-color: var(--sklearn-color-background);\n",
       "}\n",
       "\n",
       "/* Toggleable label */\n",
       "#sk-container-id-1 label.sk-toggleable__label {\n",
       "  cursor: pointer;\n",
       "  display: block;\n",
       "  width: 100%;\n",
       "  margin-bottom: 0;\n",
       "  padding: 0.5em;\n",
       "  box-sizing: border-box;\n",
       "  text-align: center;\n",
       "}\n",
       "\n",
       "#sk-container-id-1 label.sk-toggleable__label-arrow:before {\n",
       "  /* Arrow on the left of the label */\n",
       "  content: \"▸\";\n",
       "  float: left;\n",
       "  margin-right: 0.25em;\n",
       "  color: var(--sklearn-color-icon);\n",
       "}\n",
       "\n",
       "#sk-container-id-1 label.sk-toggleable__label-arrow:hover:before {\n",
       "  color: var(--sklearn-color-text);\n",
       "}\n",
       "\n",
       "/* Toggleable content - dropdown */\n",
       "\n",
       "#sk-container-id-1 div.sk-toggleable__content {\n",
       "  max-height: 0;\n",
       "  max-width: 0;\n",
       "  overflow: hidden;\n",
       "  text-align: left;\n",
       "  /* unfitted */\n",
       "  background-color: var(--sklearn-color-unfitted-level-0);\n",
       "}\n",
       "\n",
       "#sk-container-id-1 div.sk-toggleable__content.fitted {\n",
       "  /* fitted */\n",
       "  background-color: var(--sklearn-color-fitted-level-0);\n",
       "}\n",
       "\n",
       "#sk-container-id-1 div.sk-toggleable__content pre {\n",
       "  margin: 0.2em;\n",
       "  border-radius: 0.25em;\n",
       "  color: var(--sklearn-color-text);\n",
       "  /* unfitted */\n",
       "  background-color: var(--sklearn-color-unfitted-level-0);\n",
       "}\n",
       "\n",
       "#sk-container-id-1 div.sk-toggleable__content.fitted pre {\n",
       "  /* unfitted */\n",
       "  background-color: var(--sklearn-color-fitted-level-0);\n",
       "}\n",
       "\n",
       "#sk-container-id-1 input.sk-toggleable__control:checked~div.sk-toggleable__content {\n",
       "  /* Expand drop-down */\n",
       "  max-height: 200px;\n",
       "  max-width: 100%;\n",
       "  overflow: auto;\n",
       "}\n",
       "\n",
       "#sk-container-id-1 input.sk-toggleable__control:checked~label.sk-toggleable__label-arrow:before {\n",
       "  content: \"▾\";\n",
       "}\n",
       "\n",
       "/* Pipeline/ColumnTransformer-specific style */\n",
       "\n",
       "#sk-container-id-1 div.sk-label input.sk-toggleable__control:checked~label.sk-toggleable__label {\n",
       "  color: var(--sklearn-color-text);\n",
       "  background-color: var(--sklearn-color-unfitted-level-2);\n",
       "}\n",
       "\n",
       "#sk-container-id-1 div.sk-label.fitted input.sk-toggleable__control:checked~label.sk-toggleable__label {\n",
       "  background-color: var(--sklearn-color-fitted-level-2);\n",
       "}\n",
       "\n",
       "/* Estimator-specific style */\n",
       "\n",
       "/* Colorize estimator box */\n",
       "#sk-container-id-1 div.sk-estimator input.sk-toggleable__control:checked~label.sk-toggleable__label {\n",
       "  /* unfitted */\n",
       "  background-color: var(--sklearn-color-unfitted-level-2);\n",
       "}\n",
       "\n",
       "#sk-container-id-1 div.sk-estimator.fitted input.sk-toggleable__control:checked~label.sk-toggleable__label {\n",
       "  /* fitted */\n",
       "  background-color: var(--sklearn-color-fitted-level-2);\n",
       "}\n",
       "\n",
       "#sk-container-id-1 div.sk-label label.sk-toggleable__label,\n",
       "#sk-container-id-1 div.sk-label label {\n",
       "  /* The background is the default theme color */\n",
       "  color: var(--sklearn-color-text-on-default-background);\n",
       "}\n",
       "\n",
       "/* On hover, darken the color of the background */\n",
       "#sk-container-id-1 div.sk-label:hover label.sk-toggleable__label {\n",
       "  color: var(--sklearn-color-text);\n",
       "  background-color: var(--sklearn-color-unfitted-level-2);\n",
       "}\n",
       "\n",
       "/* Label box, darken color on hover, fitted */\n",
       "#sk-container-id-1 div.sk-label.fitted:hover label.sk-toggleable__label.fitted {\n",
       "  color: var(--sklearn-color-text);\n",
       "  background-color: var(--sklearn-color-fitted-level-2);\n",
       "}\n",
       "\n",
       "/* Estimator label */\n",
       "\n",
       "#sk-container-id-1 div.sk-label label {\n",
       "  font-family: monospace;\n",
       "  font-weight: bold;\n",
       "  display: inline-block;\n",
       "  line-height: 1.2em;\n",
       "}\n",
       "\n",
       "#sk-container-id-1 div.sk-label-container {\n",
       "  text-align: center;\n",
       "}\n",
       "\n",
       "/* Estimator-specific */\n",
       "#sk-container-id-1 div.sk-estimator {\n",
       "  font-family: monospace;\n",
       "  border: 1px dotted var(--sklearn-color-border-box);\n",
       "  border-radius: 0.25em;\n",
       "  box-sizing: border-box;\n",
       "  margin-bottom: 0.5em;\n",
       "  /* unfitted */\n",
       "  background-color: var(--sklearn-color-unfitted-level-0);\n",
       "}\n",
       "\n",
       "#sk-container-id-1 div.sk-estimator.fitted {\n",
       "  /* fitted */\n",
       "  background-color: var(--sklearn-color-fitted-level-0);\n",
       "}\n",
       "\n",
       "/* on hover */\n",
       "#sk-container-id-1 div.sk-estimator:hover {\n",
       "  /* unfitted */\n",
       "  background-color: var(--sklearn-color-unfitted-level-2);\n",
       "}\n",
       "\n",
       "#sk-container-id-1 div.sk-estimator.fitted:hover {\n",
       "  /* fitted */\n",
       "  background-color: var(--sklearn-color-fitted-level-2);\n",
       "}\n",
       "\n",
       "/* Specification for estimator info (e.g. \"i\" and \"?\") */\n",
       "\n",
       "/* Common style for \"i\" and \"?\" */\n",
       "\n",
       ".sk-estimator-doc-link,\n",
       "a:link.sk-estimator-doc-link,\n",
       "a:visited.sk-estimator-doc-link {\n",
       "  float: right;\n",
       "  font-size: smaller;\n",
       "  line-height: 1em;\n",
       "  font-family: monospace;\n",
       "  background-color: var(--sklearn-color-background);\n",
       "  border-radius: 1em;\n",
       "  height: 1em;\n",
       "  width: 1em;\n",
       "  text-decoration: none !important;\n",
       "  margin-left: 1ex;\n",
       "  /* unfitted */\n",
       "  border: var(--sklearn-color-unfitted-level-1) 1pt solid;\n",
       "  color: var(--sklearn-color-unfitted-level-1);\n",
       "}\n",
       "\n",
       ".sk-estimator-doc-link.fitted,\n",
       "a:link.sk-estimator-doc-link.fitted,\n",
       "a:visited.sk-estimator-doc-link.fitted {\n",
       "  /* fitted */\n",
       "  border: var(--sklearn-color-fitted-level-1) 1pt solid;\n",
       "  color: var(--sklearn-color-fitted-level-1);\n",
       "}\n",
       "\n",
       "/* On hover */\n",
       "div.sk-estimator:hover .sk-estimator-doc-link:hover,\n",
       ".sk-estimator-doc-link:hover,\n",
       "div.sk-label-container:hover .sk-estimator-doc-link:hover,\n",
       ".sk-estimator-doc-link:hover {\n",
       "  /* unfitted */\n",
       "  background-color: var(--sklearn-color-unfitted-level-3);\n",
       "  color: var(--sklearn-color-background);\n",
       "  text-decoration: none;\n",
       "}\n",
       "\n",
       "div.sk-estimator.fitted:hover .sk-estimator-doc-link.fitted:hover,\n",
       ".sk-estimator-doc-link.fitted:hover,\n",
       "div.sk-label-container:hover .sk-estimator-doc-link.fitted:hover,\n",
       ".sk-estimator-doc-link.fitted:hover {\n",
       "  /* fitted */\n",
       "  background-color: var(--sklearn-color-fitted-level-3);\n",
       "  color: var(--sklearn-color-background);\n",
       "  text-decoration: none;\n",
       "}\n",
       "\n",
       "/* Span, style for the box shown on hovering the info icon */\n",
       ".sk-estimator-doc-link span {\n",
       "  display: none;\n",
       "  z-index: 9999;\n",
       "  position: relative;\n",
       "  font-weight: normal;\n",
       "  right: .2ex;\n",
       "  padding: .5ex;\n",
       "  margin: .5ex;\n",
       "  width: min-content;\n",
       "  min-width: 20ex;\n",
       "  max-width: 50ex;\n",
       "  color: var(--sklearn-color-text);\n",
       "  box-shadow: 2pt 2pt 4pt #999;\n",
       "  /* unfitted */\n",
       "  background: var(--sklearn-color-unfitted-level-0);\n",
       "  border: .5pt solid var(--sklearn-color-unfitted-level-3);\n",
       "}\n",
       "\n",
       ".sk-estimator-doc-link.fitted span {\n",
       "  /* fitted */\n",
       "  background: var(--sklearn-color-fitted-level-0);\n",
       "  border: var(--sklearn-color-fitted-level-3);\n",
       "}\n",
       "\n",
       ".sk-estimator-doc-link:hover span {\n",
       "  display: block;\n",
       "}\n",
       "\n",
       "/* \"?\"-specific style due to the `<a>` HTML tag */\n",
       "\n",
       "#sk-container-id-1 a.estimator_doc_link {\n",
       "  float: right;\n",
       "  font-size: 1rem;\n",
       "  line-height: 1em;\n",
       "  font-family: monospace;\n",
       "  background-color: var(--sklearn-color-background);\n",
       "  border-radius: 1rem;\n",
       "  height: 1rem;\n",
       "  width: 1rem;\n",
       "  text-decoration: none;\n",
       "  /* unfitted */\n",
       "  color: var(--sklearn-color-unfitted-level-1);\n",
       "  border: var(--sklearn-color-unfitted-level-1) 1pt solid;\n",
       "}\n",
       "\n",
       "#sk-container-id-1 a.estimator_doc_link.fitted {\n",
       "  /* fitted */\n",
       "  border: var(--sklearn-color-fitted-level-1) 1pt solid;\n",
       "  color: var(--sklearn-color-fitted-level-1);\n",
       "}\n",
       "\n",
       "/* On hover */\n",
       "#sk-container-id-1 a.estimator_doc_link:hover {\n",
       "  /* unfitted */\n",
       "  background-color: var(--sklearn-color-unfitted-level-3);\n",
       "  color: var(--sklearn-color-background);\n",
       "  text-decoration: none;\n",
       "}\n",
       "\n",
       "#sk-container-id-1 a.estimator_doc_link.fitted:hover {\n",
       "  /* fitted */\n",
       "  background-color: var(--sklearn-color-fitted-level-3);\n",
       "}\n",
       "</style><div id=\"sk-container-id-1\" class=\"sk-top-container\"><div class=\"sk-text-repr-fallback\"><pre>PCA(n_components=2)</pre><b>In a Jupyter environment, please rerun this cell to show the HTML representation or trust the notebook. <br />On GitHub, the HTML representation is unable to render, please try loading this page with nbviewer.org.</b></div><div class=\"sk-container\" hidden><div class=\"sk-item\"><div class=\"sk-estimator  sk-toggleable\"><input class=\"sk-toggleable__control sk-hidden--visually\" id=\"sk-estimator-id-1\" type=\"checkbox\" checked><label for=\"sk-estimator-id-1\" class=\"sk-toggleable__label  sk-toggleable__label-arrow \">&nbsp;&nbsp;PCA<a class=\"sk-estimator-doc-link \" rel=\"noreferrer\" target=\"_blank\" href=\"https://scikit-learn.org/1.4/modules/generated/sklearn.decomposition.PCA.html\">?<span>Documentation for PCA</span></a><span class=\"sk-estimator-doc-link \">i<span>Not fitted</span></span></label><div class=\"sk-toggleable__content \"><pre>PCA(n_components=2)</pre></div> </div></div></div></div>"
      ],
      "text/plain": [
       "PCA(n_components=2)"
      ]
     },
     "execution_count": 15,
     "metadata": {},
     "output_type": "execute_result"
    }
   ],
   "source": [
    "import numpy as np\n",
    "from sklearn.decomposition import PCA\n",
    "\n",
    "#X_size = 4000\n",
    "X = np.array([dp[0] for dp in datapoints])\n",
    "pca = PCA(n_components=2)\n",
    "pca.fit(X)\n",
    "PCA(n_components=2)"
   ]
  },
  {
   "cell_type": "code",
   "execution_count": 16,
   "id": "b41d8373a5892a22",
   "metadata": {
    "collapsed": false
   },
   "outputs": [],
   "source": [
    "confusion_rank = 0\n",
    "confused_class1, confused_class2 = most_common_confusions[confusion_rank][0]\n",
    "color_map = {confused_class1: 'g', confused_class2: 'b'}\n",
    "\n",
    "datapoints_either_class = [dp for dp in datapoints if dp[1] in (confused_class1, confused_class2)]\n",
    "either_class_color = [color_map[dp[1]] for dp in datapoints_either_class]\n",
    "either_class_X = np.array([dp[0] for dp in datapoints_either_class])\n",
    "\n",
    "confused = [dp for dp in datapoints_either_class if (dp[1] != dp[2] and dp[2] in (confused_class1, confused_class2))]\n",
    "confused_X = np.array([dp[0] for dp in confused])"
   ]
  },
  {
   "cell_type": "code",
   "execution_count": 17,
   "id": "c2f09fed14d854a3",
   "metadata": {
    "collapsed": false
   },
   "outputs": [
    {
     "data": {
      "text/plain": [
       "array([[-1.890941 , -4.910772 ],\n",
       "       [-1.5249497, -4.9304013],\n",
       "       [-1.8609091, -4.975102 ],\n",
       "       ...,\n",
       "       [-2.2136629, -2.302388 ],\n",
       "       [-1.6232439, -2.3282003],\n",
       "       [-2.0648365, -2.1214323]], dtype=float32)"
      ]
     },
     "execution_count": 17,
     "metadata": {},
     "output_type": "execute_result"
    }
   ],
   "source": [
    "pca.transform(either_class_X)"
   ]
  },
  {
   "cell_type": "code",
   "execution_count": 18,
   "id": "698dd16b58598569",
   "metadata": {
    "collapsed": false
   },
   "outputs": [
    {
     "ename": "NameError",
     "evalue": "name 'either_class_Y' is not defined",
     "output_type": "error",
     "traceback": [
      "\u001B[0;31m---------------------------------------------------------------------------\u001B[0m",
      "\u001B[0;31mNameError\u001B[0m                                 Traceback (most recent call last)",
      "Cell \u001B[0;32mIn[18], line 1\u001B[0m\n\u001B[0;32m----> 1\u001B[0m \u001B[43meither_class_Y\u001B[49m\n",
      "\u001B[0;31mNameError\u001B[0m: name 'either_class_Y' is not defined"
     ]
    }
   ],
   "source": [
    "either_class_Y"
   ]
  },
  {
   "cell_type": "code",
   "execution_count": 33,
   "id": "9991fac9498f8a3a",
   "metadata": {
    "collapsed": false
   },
   "outputs": [
    {
     "data": {
      "text/plain": [
       "<matplotlib.legend.Legend at 0x35d124da0>"
      ]
     },
     "execution_count": 33,
     "metadata": {},
     "output_type": "execute_result"
    },
    {
     "data": {
      "image/png": "[encoded data removed]",
      "text/plain": [
       "<Figure size 640x480 with 1 Axes>"
      ]
     },
     "metadata": {},
     "output_type": "display_data"
    }
   ],
   "source": [
    "from matplotlib.lines import Line2D\n",
    "\n",
    "plt.scatter(*pca.transform(either_class_X).T, color=either_class_color, marker='x')\n",
    "plt.scatter(*pca.transform(confused_X).T, color='r', alpha=0.1)\n",
    "plt.xlabel('PC 1')\n",
    "plt.ylabel('PC 2')\n",
    "\n",
    "custom = [Line2D([], [], marker='x', color='blue', linestyle='None'),\n",
    "          Line2D([], [], marker='x', color='green', linestyle='None'),\n",
    "          Line2D([], [], marker='o', color='red', linestyle='None', alpha=0.1)]\n",
    "\n",
    "plt.legend(handles = custom, labels=['Class 1', 'Class 2', 'Confusion'], loc= \"lower left\")"
   ]
  },
  {
   "cell_type": "markdown",
   "id": "4ea9b40252222fce",
   "metadata": {
    "collapsed": false
   },
   "source": [
    "Inspecting nearest neighbours"
   ]
  },
  {
   "cell_type": "code",
   "execution_count": 34,
   "id": "85a83944f890cbef",
   "metadata": {
    "collapsed": false
   },
   "outputs": [],
   "source": [
    "N_selection = 2500\n",
    "\n",
    "selected_datapoints = datapoints[:N_selection]"
   ]
  },
  {
   "cell_type": "code",
   "execution_count": 35,
   "id": "61c0a62c98272870",
   "metadata": {
    "collapsed": false
   },
   "outputs": [
    {
     "name": "stderr",
     "output_type": "stream",
     "text": [
      "100%|██████████████████████████████████████| 2500/2500 [00:06<00:00, 416.07it/s]\n"
     ]
    }
   ],
   "source": [
    "distances = np.zeros((N_selection, N_selection))\n",
    "\n",
    "for i in tqdm.tqdm(range(N_selection)):\n",
    "    for j in range(N_selection):\n",
    "\n",
    "        # Skipping symmetric\n",
    "        if i > j:\n",
    "            continue\n",
    "\n",
    "        dist = np.linalg.norm(selected_datapoints[i][0]-selected_datapoints[j][0])\n",
    "\n",
    "        distances[i,j] = dist\n",
    "        distances[j,i] = dist"
   ]
  },
  {
   "cell_type": "code",
   "execution_count": 36,
   "id": "b5511c394318351",
   "metadata": {
    "collapsed": false
   },
   "outputs": [],
   "source": [
    "np.fill_diagonal(distances, np.inf)\n",
    "neighbours_by_nearness = np.argsort(distances, axis=0)"
   ]
  },
  {
   "cell_type": "code",
   "execution_count": 37,
   "id": "7a26d3fd3ffdd338",
   "metadata": {
    "collapsed": false
   },
   "outputs": [
    {
     "data": {
      "text/plain": [
       "array([[ 420,    5, 1254, ..., 1266, 2484,  793],\n",
       "       [ 421, 1950, 1255, ...,  435, 2384,  761],\n",
       "       [   4, 2335,  441, ..., 2483, 1238, 1655],\n",
       "       ...,\n",
       "       [ 756,  756,  756, ...,  756,  825,  417],\n",
       "       [ 755,  755,  755, ...,  755,  755,  452],\n",
       "       [   0,    1,    2, ..., 2497, 2498, 2499]])"
      ]
     },
     "execution_count": 37,
     "metadata": {},
     "output_type": "execute_result"
    }
   ],
   "source": [
    "neighbours_by_nearness"
   ]
  },
  {
   "cell_type": "code",
   "execution_count": 38,
   "id": "e920c58f0272f28f",
   "metadata": {
    "collapsed": false
   },
   "outputs": [
    {
     "data": {
      "text/plain": [
       "(2500, 0.8064)"
      ]
     },
     "execution_count": 38,
     "metadata": {},
     "output_type": "execute_result"
    }
   ],
   "source": [
    "len(selected_datapoints), np.mean([dp[1]==dp[2] for dp in selected_datapoints])"
   ]
  },
  {
   "cell_type": "code",
   "execution_count": 46,
   "id": "324390fdc99bf706",
   "metadata": {
    "collapsed": false
   },
   "outputs": [],
   "source": [
    "datapoints_nearest_neighbour_same_class = [dp[1]==dp[2] for i, dp in enumerate(selected_datapoints) \n",
    "                                           if dp[1]!=selected_datapoints[neighbours_by_nearness[0,i]][1]]"
   ]
  },
  {
   "cell_type": "code",
   "execution_count": 47,
   "id": "65b27ad161e95784",
   "metadata": {
    "collapsed": false
   },
   "outputs": [
    {
     "data": {
      "text/plain": [
       "(717, 0.5313807531380753)"
      ]
     },
     "execution_count": 47,
     "metadata": {},
     "output_type": "execute_result"
    }
   ],
   "source": [
    "len(datapoints_nearest_neighbour_same_class), 1-np.mean(datapoints_nearest_neighbour_same_class)"
   ]
  },
  {
   "cell_type": "code",
   "execution_count": 41,
   "id": "eadfba794d87aad3",
   "metadata": {
    "collapsed": false
   },
   "outputs": [],
   "source": [
    "datapoints_2_nearest_neighbour_same_class = [dp[1]==dp[2] for i, dp in enumerate(selected_datapoints) \n",
    "                                             if (dp[1] == selected_datapoints[neighbours_by_nearness[0,i]][1] and \n",
    "                                                 dp[1] == selected_datapoints[neighbours_by_nearness[1,i]][1])]"
   ]
  },
  {
   "cell_type": "code",
   "execution_count": null,
   "id": "fcb2b2eef1dfd80a",
   "metadata": {
    "collapsed": false
   },
   "outputs": [],
   "source": [
    "len(datapoints_2_nearest_neighbour_same_class), np.mean(datapoints_2_nearest_neighbour_same_class)"
   ]
  },
  {
   "cell_type": "code",
   "execution_count": null,
   "id": "9f9a03bd3faa7270",
   "metadata": {
    "collapsed": false
   },
   "outputs": [],
   "source": [
    "datapoints_2_nearest_neighbour_same_class = [dp[1]==dp[2] for i, dp in enumerate(selected_datapoints) \n",
    "                                             if (dp[1] == selected_datapoints[neighbours_by_nearness[0,i]][1] and \n",
    "                                                 dp[1] == selected_datapoints[neighbours_by_nearness[1,i]][1] and \n",
    "                                                 dp[1] == selected_datapoints[neighbours_by_nearness[2,i]][1])]"
   ]
  },
  {
   "cell_type": "code",
   "execution_count": null,
   "id": "582e486041629208",
   "metadata": {
    "collapsed": false
   },
   "outputs": [],
   "source": [
    "len(datapoints_2_nearest_neighbour_same_class), np.mean(datapoints_2_nearest_neighbour_same_class)"
   ]
  },
  {
   "cell_type": "code",
   "execution_count": null,
   "id": "988c8b633357cd30",
   "metadata": {
    "collapsed": false
   },
   "outputs": [],
   "source": [
    "datapoints_2_nearest_neighbour_same_class = [dp[1]==dp[2] for i, dp in enumerate(selected_datapoints) \n",
    "                                             if (dp[1] == selected_datapoints[neighbours_by_nearness[0,i]][1] and \n",
    "                                                 dp[1] == selected_datapoints[neighbours_by_nearness[1,i]][1] and \n",
    "                                                 dp[1] == selected_datapoints[neighbours_by_nearness[2,i]][1] and \n",
    "                                                 dp[1] == selected_datapoints[neighbours_by_nearness[3,i]][1])]"
   ]
  },
  {
   "cell_type": "code",
   "execution_count": null,
   "id": "b4c92561135f6639",
   "metadata": {
    "collapsed": false
   },
   "outputs": [],
   "source": [
    "len(datapoints_2_nearest_neighbour_same_class), np.mean(datapoints_2_nearest_neighbour_same_class)"
   ]
  },
  {
   "cell_type": "code",
   "execution_count": null,
   "id": "b105aed8984f9093",
   "metadata": {
    "collapsed": false
   },
   "outputs": [],
   "source": []
  }
 ],
 "metadata": {
  "kernelspec": {
   "display_name": "Python 3 (ipykernel)",
   "language": "python",
   "name": "python3"
  },
  "language_info": {
   "codemirror_mode": {
    "name": "ipython",
    "version": 3
   },
   "file_extension": ".py",
   "mimetype": "text/x-python",
   "name": "python",
   "nbconvert_exporter": "python",
   "pygments_lexer": "ipython3",
   "version": "3.12.2"
  }
 },
 "nbformat": 4,
 "nbformat_minor": 5
}
