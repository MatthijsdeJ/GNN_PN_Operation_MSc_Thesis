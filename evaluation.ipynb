{
 "cells": [
  {
   "cell_type": "code",
   "execution_count": null,
   "id": "7f6a0104-218a-4561-bf79-13a2c7847039",
   "metadata": {},
   "outputs": [],
   "source": [
    "%load_ext autoreload\n",
    "%autoreload 2\n",
    "\n",
    "#pyplot\n",
    "import matplotlib.pyplot as plt\n",
    "\n",
    "# model\n",
    "import torch\n",
    "import torch_geometric\n",
    "\n",
    "\n",
    "from auxiliary.config import get_config, ModelType, NetworkType\n",
    "from training.models import GCN, FCNN\n",
    "from training.dataloader import DataLoader\n",
    "from training.training import Run, evaluate_dataset\n",
    "import training.evaluation as metrics\n",
    "from training.postprocessing import ActSpaceCache"
   ]
  },
  {
   "cell_type": "code",
   "execution_count": null,
   "id": "bb5ac958-2287-4b00-a502-ff0489499e68",
   "metadata": {},
   "outputs": [],
   "source": [
    "config = get_config()\n",
    "train_config = config['training']"
   ]
  },
  {
   "cell_type": "markdown",
   "id": "1ab8a4f9-cc77-4924-8487-f4d8dc181724",
   "metadata": {},
   "source": [
    "# Loading model\n",
    "Note: config must contain the hyperparameters used by the model"
   ]
  },
  {
   "cell_type": "code",
   "execution_count": null,
   "id": "e2018ff4-d0a1-43c1-ac33-5e47b1494f5b",
   "metadata": {},
   "outputs": [],
   "source": [
    "model_type = config['training']['hyperparams']['model_type']\n",
    "\n",
    "if model_type == ModelType.GCN:\n",
    "    model = GCN(train_config['hyperparams']['LReLu_neg_slope'],\n",
    "                train_config['hyperparams']['weight_init_std'],\n",
    "                train_config['GCN']['constants']['N_f_gen'],\n",
    "                train_config['GCN']['constants']['N_f_load'],\n",
    "                train_config['GCN']['constants']['N_f_endpoint'],\n",
    "                train_config['GCN']['hyperparams']['N_GCN_layers'],\n",
    "                train_config['hyperparams']['N_node_hidden'],\n",
    "                train_config['GCN']['hyperparams']['aggr'],\n",
    "                train_config['GCN']['hyperparams']['network_type'],\n",
    "                train_config['GCN']['hyperparams']['layer_type'],\n",
    "                train_config['GCN']['hyperparams']['GINConv_nn_depth'])\n",
    "elif model_type == ModelType.FCNN:\n",
    "    model = FCNN(train_config['hyperparams']['LReLu_neg_slope'],\n",
    "                 train_config['hyperparams']['weight_init_std'],\n",
    "                 train_config['FCNN']['constants']['size_in'],\n",
    "                 train_config['FCNN']['constants']['size_out'],\n",
    "                 train_config['FCNN']['hyperparams']['N_layers'],\n",
    "                 train_config['hyperparams']['N_node_hidden'])"
   ]
  },
  {
   "cell_type": "code",
   "execution_count": null,
   "id": "66d76ce5-e450-49f2-9dd3-feb2cfb5b049",
   "metadata": {},
   "outputs": [],
   "source": [
    "model_path = config['paths']['model']\n",
    "state_dict = torch.load(model_path)\n",
    "model.load_state_dict(state_dict)"
   ]
  },
  {
   "cell_type": "markdown",
   "id": "fcd9f4d2-25bb-40b0-b50e-501c5914d3fb",
   "metadata": {},
   "source": [
    "# Analysing seen data"
   ]
  },
  {
   "cell_type": "code",
   "execution_count": null,
   "id": "98d2a1ee-f91a-41fa-9aba-222a87cd0c7a",
   "metadata": {},
   "outputs": [],
   "source": [
    "seen_processed_data_path = config['paths']['data']['processed']\n",
    "seen_matrix_cache_path = seen_processed_data_path + 'auxiliary_data_objects/con_matrix_cache.json'\n",
    "\n",
    "unseen_processed_data_path = 'data/processed/greedy_unseen/'\n",
    "unseen_matrix_cache_path = unseen_processed_data_path + 'auxiliary_data_objects/con_matrix_cache.json'\n",
    "\n",
    "feature_statistics_path = seen_processed_data_path + 'auxiliary_data_objects/feature_stats.json'\n",
    "model_type = config['training']['hyperparams']['model_type']\n",
    "network_type = train_config['GCN']['hyperparams']['network_type']\n",
    "\n",
    "dataloaders = {'seen': {}, 'unseen': {}}\n",
    "for data, processed_data_path, matrix_cache_path in [('seen', seen_processed_data_path, seen_matrix_cache_path)]:#: , #('unseen', unseen_processed_data_path, unseen_matrix_cache_path)):\n",
    "    for partition in ('train', 'val', 'test'):\n",
    "        dataloaders[data][partition] = DataLoader(processed_data_path + '/' + partition, matrix_cache_path, feature_statistics_path, 'cpu',  model_type, network_type)"
   ]
  },
  {
   "cell_type": "code",
   "execution_count": null,
   "id": "79855ff4-99e8-4275-b15a-adaf482d15c0",
   "metadata": {},
   "outputs": [],
   "source": [
    "%%capture\n",
    "\n",
    "# Initialize metrics objects\n",
    "IA = metrics.IncrementalAverage\n",
    "metrics_dict = {\n",
    "    'macro_accuracy': (metrics.macro_accuracy, IA()),\n",
    "    'micro_accuracy': (metrics.micro_accuracy, IA()),\n",
    "    'n_predicted_changes': (metrics.n_predicted_changes, IA()),\n",
    "    'any_predicted_changes': (metrics.any_predicted_changes, IA()),\n",
    "    'macro_accuracy_one_sub': (metrics.macro_accuracy_one_sub, IA()),\n",
    "    'micro_accuracy_one_sub': (metrics.micro_accuracy_one_sub, IA()),\n",
    "    'train_loss': (lambda **kwargs: kwargs['l'], IA()),\n",
    "    'accuracy_predicted_substation':\n",
    "        (metrics.accuracy_predicted_substation, IA())\n",
    "}\n",
    "val_metrics_dict = dict([('val_' + k, v) for k, v in metrics_dict.items()])\n",
    "val_metrics_dict['val_macro_accuracy_valid'] = (metrics.macro_accuracy_valid, IA())\n",
    "val_metrics_dict['val_micro_accuracy_valid'] = (metrics.micro_accuracy_valid, IA())\n",
    "IAM = metrics.IncrementalAverageMetrics\n",
    "eval_metrics = IAM(val_metrics_dict)\n",
    "\n",
    "# Initialize action space cache used for\n",
    "as_cache = ActSpaceCache(line_outages_considered=train_config['settings']['line_outages_considered'])"
   ]
  },
  {
   "cell_type": "markdown",
   "id": "32bf34da-b589-4096-bc44-dec2603afac6",
   "metadata": {},
   "source": [
    "# Analyzing seen topologies"
   ]
  },
  {
   "cell_type": "code",
   "execution_count": null,
   "id": "32cda315-9065-42bf-8357-95bac27aa9e1",
   "metadata": {},
   "outputs": [],
   "source": [
    "%%capture\n",
    "%tb\n",
    "plt.ioff()\n",
    "results = {}\n",
    "\n",
    "for partition, dataloader in dataloaders['seen'].items():\n",
    "        \n",
    "    eval_metrics.reset()\n",
    "    _ = evaluate_dataset(model, dataloader, as_cache, eval_metrics)\n",
    "\n",
    "    results[partition] = {\n",
    "        'val_macro_accuracy_valid':  eval_metrics.metrics_dict['val_macro_accuracy_valid'][1].get(),\n",
    "        'loss':  eval_metrics.metrics_dict['val_train_loss'][1].get()\n",
    "    }\n"
   ]
  },
  {
   "cell_type": "code",
   "execution_count": null,
   "id": "0d37910a-9e0d-4f30-bfd9-23e982113c44",
   "metadata": {},
   "outputs": [],
   "source": [
    "results"
   ]
  },
  {
   "cell_type": "markdown",
   "id": "5f93bc97-e4c3-4720-b3e7-c97d6ab9fed8",
   "metadata": {},
   "source": [
    "# Analyzing unseen topologies"
   ]
  },
  {
   "cell_type": "code",
   "execution_count": null,
   "id": "8ec029ff-9e47-46e0-b581-40445cae82f1",
   "metadata": {},
   "outputs": [],
   "source": [
    "%%capture\n",
    "for data, processed_data_path, matrix_cache_path in [('unseen', unseen_processed_data_path, unseen_matrix_cache_path)]:\n",
    "    for partition in ('train', 'val', 'test'):\n",
    "        dataloaders[data][partition] = DataLoader(processed_data_path + '/' + partition, matrix_cache_path, feature_statistics_path, 'cpu',  model_type, network_type)\n",
    "\n",
    "# Initialize metrics objects\n",
    "IA = metrics.IncrementalAverage\n",
    "metrics_dict = {\n",
    "    'macro_accuracy': (metrics.macro_accuracy, IA()),\n",
    "    'micro_accuracy': (metrics.micro_accuracy, IA()),\n",
    "    'n_predicted_changes': (metrics.n_predicted_changes, IA()),\n",
    "    'any_predicted_changes': (metrics.any_predicted_changes, IA()),\n",
    "    'macro_accuracy_one_sub': (metrics.macro_accuracy_one_sub, IA()),\n",
    "    'micro_accuracy_one_sub': (metrics.micro_accuracy_one_sub, IA()),\n",
    "    'train_loss': (lambda **kwargs: kwargs['l'], IA()),\n",
    "    'accuracy_predicted_substation':\n",
    "        (metrics.accuracy_predicted_substation, IA())\n",
    "}\n",
    "val_metrics_dict = dict([('val_' + k, v) for k, v in metrics_dict.items()])\n",
    "val_metrics_dict['val_macro_accuracy_valid'] = (metrics.macro_accuracy_valid, IA())\n",
    "val_metrics_dict['val_micro_accuracy_valid'] = (metrics.micro_accuracy_valid, IA())\n",
    "IAM = metrics.IncrementalAverageMetrics\n",
    "eval_metrics = IAM(val_metrics_dict)\n",
    "\n",
    "# Initialize action space cache used for\n",
    "as_cache = ActSpaceCache(line_outages_considered=train_config['settings']['line_outages_considered'])\n",
    "#_ = evaluate_dataset(model, dataloader, as_cache, eval_metrics)"
   ]
  },
  {
   "cell_type": "code",
   "outputs": [],
   "source": [
    "%%capture\n",
    "%tb\n",
    "plt.ioff()\n",
    "results = {}\n",
    "\n",
    "for partition, dataloader in dataloaders['unseen'].items():\n",
    "        \n",
    "    eval_metrics.reset()\n",
    "    figures = evaluate_dataset(model, dataloader, as_cache, eval_metrics)\n",
    "\n",
    "    results[partition] = {\n",
    "        'val_macro_accuracy_valid':  eval_metrics.metrics_dict['val_macro_accuracy_valid'][1].get(),\n",
    "        'loss':  eval_metrics.metrics_dict['val_train_loss'][1].get()\n",
    "    }\n"
   ],
   "metadata": {
    "collapsed": false
   },
   "id": "6f34c19101594080",
   "execution_count": null
  },
  {
   "cell_type": "code",
   "outputs": [],
   "source": [
    "results"
   ],
   "metadata": {
    "collapsed": false
   },
   "id": "6c46bb3715fea10f",
   "execution_count": null
  },
  {
   "cell_type": "code",
   "outputs": [],
   "source": [
    "figures['substation_confusion_matrix']"
   ],
   "metadata": {
    "collapsed": false
   },
   "id": "a732fd9e41318676",
   "execution_count": null
  },
  {
   "cell_type": "code",
   "outputs": [],
   "source": [
    "figures['affected_objects']"
   ],
   "metadata": {
    "collapsed": false
   },
   "id": "518665f58bfe4aa6",
   "execution_count": null
  },
  {
   "cell_type": "code",
   "outputs": [],
   "source": [
    "figures['accuracy_per_lineout']"
   ],
   "metadata": {
    "collapsed": false
   },
   "id": "f5049a30546c7291",
   "execution_count": null
  },
  {
   "cell_type": "code",
   "outputs": [],
   "source": [
    "figures['accuracy_per_label']"
   ],
   "metadata": {
    "collapsed": false
   },
   "id": "3efe3de8ffe3145b",
   "execution_count": null
  },
  {
   "cell_type": "code",
   "outputs": [],
   "source": [],
   "metadata": {
    "collapsed": false
   },
   "id": "e6a0471b6381345f"
  }
 ],
 "metadata": {
  "kernelspec": {
   "display_name": "Python 3 (ipykernel)",
   "language": "python",
   "name": "python3"
  },
  "language_info": {
   "codemirror_mode": {
    "name": "ipython",
    "version": 3
   },
   "file_extension": ".py",
   "mimetype": "text/x-python",
   "name": "python",
   "nbconvert_exporter": "python",
   "pygments_lexer": "ipython3",
   "version": "3.12.2"
  }
 },
 "nbformat": 4,
 "nbformat_minor": 5
}
