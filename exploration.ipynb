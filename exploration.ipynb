{
 "cells": [
  {
   "cell_type": "code",
   "execution_count": 6,
   "metadata": {},
   "outputs": [],
   "source": [
    "import numpy as np\n",
    "import pandas as pd\n",
    "import matplotlib.pyplot as plt\n",
    "import warnings\n",
    "from grid2op.PlotGrid import PlotMatplot\n",
    "import grid2op\n",
    "from dataclasses import dataclass\n"
   ]
  },
  {
   "cell_type": "code",
   "execution_count": 7,
   "metadata": {},
   "outputs": [
    {
     "name": "stderr",
     "output_type": "stream",
     "text": [
      "/home/matthijs/Software/anaconda3/lib/python3.8/site-packages/grid2op/MakeEnv/Make.py:317: UserWarning: You are using a development environment. This environment is not intended for training agents. It might not be up to date and its primary use if for tests (hence the \"test=True\" you passed as argument). Use at your own risk.\n",
      "  warnings.warn(_MAKE_DEV_ENV_WARN)\n"
     ]
    }
   ],
   "source": [
    "import os\n",
    "from grid2op import make\n",
    "\n",
    "# Initialize the env.\n",
    "env = make(\"rte_case5_example\", test=True)"
   ]
  },
  {
   "cell_type": "code",
   "execution_count": null,
   "metadata": {},
   "outputs": [],
   "source": [
    "plot_helper = PlotMatplot(env.observation_space)\n",
    "\n",
    "obs = env.reset()\n",
    "fig = plot_helper.plot_obs(obs)"
   ]
  },
  {
   "cell_type": "code",
   "execution_count": null,
   "metadata": {},
   "outputs": [],
   "source": [
    "action_space = env.action_space\n",
    "observation_space = env.observation_space\n",
    "\n",
    "# Create do_nothing action.\n",
    "agent_action = action_space({}) # this is the do nothing action\n",
    "obs, *_ = env.step(agent_action)\n",
    "print(type(obs))\n",
    "print(obs.to_dict()) # TODO: does not contain all attributes, e.g. time"
   ]
  },
  {
   "cell_type": "code",
   "execution_count": null,
   "metadata": {},
   "outputs": [],
   "source": [
    "def extract_gen_features(obs: grid2op.Observation.CompleteObservation):\n",
    "    i = obs.gen_pos_topo_vect\n",
    "    X = np.array(list(obs.to_dict()['gens'].values())).T\n",
    "    return i,X\n",
    "\n",
    "def extract_load_features(obs: grid2op.Observation.CompleteObservation):\n",
    "    i = obs.load_pos_topo_vect\n",
    "    X = np.array(list(obs.to_dict()['loads'].values())).T\n",
    "    return i,X\n",
    "\n",
    "def extract_or_features(obs: grid2op.Observation.CompleteObservation):\n",
    "    i = obs.line_or_pos_topo_vect\n",
    "    X = np.array(list(obs.to_dict()['lines_or'].values())).T\n",
    "    X = np.concatenate((X,np.reshape(np.array(obs.to_dict()['rho']),(-1,1))),axis=1)\n",
    "    return i,X\n",
    "\n",
    "def extract_ex_features(obs: grid2op.Observation.CompleteObservation):\n",
    "    i = obs.line_ex_pos_topo_vect\n",
    "    X = np.array(list(obs.to_dict()['lines_ex'].values())).T\n",
    "    X = np.concatenate((X,np.reshape(np.array(obs.to_dict()['rho']),(-1,1))),axis=1)\n",
    "    return i,X\n",
    "\n",
    "print(extract_gen_features(obs))\n",
    "print(extract_load_features(obs))\n",
    "print(extract_or_features(obs))\n",
    "print(extract_ex_features(obs))"
   ]
  },
  {
   "cell_type": "code",
   "execution_count": null,
   "metadata": {},
   "outputs": [],
   "source": [
    "action_space.size()"
   ]
  },
  {
   "cell_type": "code",
   "execution_count": null,
   "metadata": {},
   "outputs": [],
   "source": [
    "\n",
    "agent_action = action_space()\n",
    "agent_action.change_bus = [1,2]\n",
    "obs, *_ = env.step(agent_action)\n",
    "fig = plot_helper.plot_obs(obs)"
   ]
  },
  {
   "cell_type": "code",
   "execution_count": null,
   "metadata": {},
   "outputs": [],
   "source": [
    "obs = env.reset()"
   ]
  },
  {
   "cell_type": "code",
   "execution_count": null,
   "metadata": {},
   "outputs": [],
   "source": [
    "env.action_space."
   ]
  },
  {
   "cell_type": "code",
   "execution_count": null,
   "metadata": {},
   "outputs": [],
   "source": [
    "load_id = 2\n",
    "which_connected = mat[obs.load_pos_topo_vect[load_id]] == 1\n",
    "obs.grid_objects_types[which_connected,]"
   ]
  },
  {
   "cell_type": "code",
   "execution_count": null,
   "metadata": {},
   "outputs": [],
   "source": [
    "@dataclass\n",
    "class Gen:\n",
    "    '''\n",
    "    Dataclass for the static features of a generator\n",
    "    '''\n",
    "    id: int\n",
    "    sub_id: int #Id of the substation\n",
    "    sub_pos: int #position (RELATIVE) at its substation\n",
    "    pos: int #position (ABSOLUTE)\n",
    "        \n",
    "gens = [Gen(*x) for x in zip(list(range(env.observation_space.n_gen)),\n",
    "    env.observation_space.gen_to_subid,\n",
    "    env.observation_space.gen_to_sub_pos,\n",
    "    env.observation_space.gen_pos_topo_vect)]\n",
    "\n",
    "@dataclass\n",
    "class Load:\n",
    "    '''\n",
    "    Dataclass for the static features of a load\n",
    "    '''\n",
    "    id: int\n",
    "    sub_id: int #Id of the substation\n",
    "    sub_pos: int #position (RELATIVE) at its substation\n",
    "    pos: int #position (ABSOLUTE)\n",
    "        \n",
    "loads = [Load(*x) for x in zip(list(range(env.observation_space.n_load)),\n",
    "    env.observation_space.load_to_subid,\n",
    "    env.observation_space.load_to_sub_pos,\n",
    "    env.observation_space.load_pos_topo_vect)]\n",
    "\n",
    "@dataclass\n",
    "class PowerLine:\n",
    "    '''\n",
    "    Dataclass for the static features of a powerline\n",
    "    '''\n",
    "    id: int\n",
    "    or_sub_id: int #Id of the origin substation\n",
    "    ex_sub_id: int #Id of the extremity substation\n",
    "    or_sub_pos: int #Origin position (RELATIVE) at its substation\n",
    "    ex_sub_pos: int #Extremity position (RELATIVE) at its substation\n",
    "    or_pos: int #Origin position (ABSOLUTE)\n",
    "    ex_pos: int #Extremity position (ABSOLUTE)\n",
    "        \n",
    "lines = [PowerLine(*x) for x in zip(list(range(env.observation_space.n_line)),\n",
    "    env.observation_space.line_or_to_subid,\n",
    "    env.observation_space.line_ex_to_subid,\n",
    "    env.observation_space.line_or_to_sub_pos,\n",
    "    env.observation_space.line_ex_to_sub_pos,\n",
    "    env.observation_space.line_or_pos_topo_vect,\n",
    "    env.observation_space.line_ex_pos_topo_vect)]"
   ]
  }
 ],
 "metadata": {
  "kernelspec": {
   "display_name": "Python 3",
   "language": "python",
   "name": "python3"
  }
 },
 "nbformat": 4,
 "nbformat_minor": 4
}
