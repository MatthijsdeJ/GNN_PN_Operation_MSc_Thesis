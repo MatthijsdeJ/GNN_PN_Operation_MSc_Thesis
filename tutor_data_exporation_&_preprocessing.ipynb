{
 "cells": [
  {
   "cell_type": "code",
   "execution_count": 98,
   "metadata": {},
   "outputs": [],
   "source": [
    "import util\n",
    "import numpy as np\n",
    "import os\n",
    "import re\n",
    "import pandas as pd\n",
    "import ipdb\n",
    "import matplotlib.pyplot as plt\n",
    "from tqdm import tqdm\n",
    "import grid2op"
   ]
  },
  {
   "cell_type": "code",
   "execution_count": 99,
   "metadata": {},
   "outputs": [],
   "source": [
    "config = util.load_config()"
   ]
  },
  {
   "cell_type": "code",
   "execution_count": 100,
   "metadata": {},
   "outputs": [],
   "source": [
    "tutor_data_path = config['paths']['tutor_imitation']\n",
    "#We have different folders each with records ran with different settings\n",
    "data_folders = os.listdir(tutor_data_path)\n",
    "\n",
    "re_data_folder_params_str = 'records_chronics_lout:(.*)_dnthreshold:(.*)'\n",
    "re_cf_params_str = 'records_chronic:(.*).npy'\n",
    "def get_params_from_dfolder_name(df):\n",
    "    line_disabled, dn_threshold = re.search(re_data_folder_params_str, df).groups()\n",
    "    return int(line_disabled), float(dn_threshold)\n",
    "def get_chronic_id_from_file_name(df):\n",
    "    return int(re.search(re_cf_params_str, df).groups(1)[0])\n",
    "def generate_column_names_and_types(record_vect_size):\n",
    "    standard_column_names = ['sel_action_idx','chronic_id','line_disabled','dn_threshold','forecasted_rho_dn'] + \\\n",
    "                            ['forecasted_rho_actn','search_dur_seconds','timestep'] \n",
    "    grid2op_vect_size = record_vect_size - len(standard_column_names)\n",
    "    grid2op_vect_cnames = [f'grid2op_topo_vect_idx{idx}' for idx in range(grid2op_vect_size)]\n",
    "    column_names = standard_column_names + grid2op_vect_cnames\n",
    "    \n",
    "    column_types = ['int32','int32','int32','float32','float32','float32','float32','int32'] + \\\n",
    "                    grid2op_vect_size * ['float64']\n",
    "    return column_names,column_types,grid2op_vect_cnames\n",
    "                \n",
    "#def load_tutor_date\n",
    "full_df = None\n",
    "for df, (line_disabled, dn_threshold) in [(df,get_params_from_dfolder_name(df)) for df in data_folders]:\n",
    "    chronic_records = os.listdir(os.path.join(tutor_data_path,df))\n",
    "    dfolder_df = None\n",
    "    \n",
    "    for cf,cid in [(cf,get_chronic_id_from_file_name(cf)) for cf in chronic_records]:\n",
    "        chronic_df = pd.DataFrame(np.load(os.path.join(tutor_data_path,df,cf)))\n",
    "        chronic_df.insert(1,'cid',cid)\n",
    "        chronic_df.insert(2,'line_disabled',line_disabled)\n",
    "        chronic_df.insert(3,'dn_threshold',dn_threshold)\n",
    "        \n",
    "        if dfolder_df is None:\n",
    "            dfolder_df = chronic_df\n",
    "        else:\n",
    "            dfolder_df = dfolder_df.append(chronic_df)\n",
    "\n",
    "    if full_df is None:\n",
    "        full_df = dfolder_df\n",
    "    else:\n",
    "        full_df = full_df.append(dfolder_df)\n",
    "    \n",
    "column_names, column_types, grid2op_vect_cnames = generate_column_names_and_types(len(full_df.columns))\n",
    "full_df.columns =  column_names\n",
    "full_df = full_df.astype(dict(zip(column_names, column_types)))"
   ]
  },
  {
   "cell_type": "code",
   "execution_count": 76,
   "metadata": {},
   "outputs": [
    {
     "data": {
      "text/html": [
       "<div>\n",
       "<style scoped>\n",
       "    .dataframe tbody tr th:only-of-type {\n",
       "        vertical-align: middle;\n",
       "    }\n",
       "\n",
       "    .dataframe tbody tr th {\n",
       "        vertical-align: top;\n",
       "    }\n",
       "\n",
       "    .dataframe thead th {\n",
       "        text-align: right;\n",
       "    }\n",
       "</style>\n",
       "<table border=\"1\" class=\"dataframe\">\n",
       "  <thead>\n",
       "    <tr style=\"text-align: right;\">\n",
       "      <th></th>\n",
       "      <th>sel_action_idx</th>\n",
       "      <th>chronic_id</th>\n",
       "      <th>line_disabled</th>\n",
       "      <th>dn_threshold</th>\n",
       "      <th>forecasted_rho_dn</th>\n",
       "      <th>forecasted_rho_actn</th>\n",
       "      <th>search_dur_seconds</th>\n",
       "      <th>timestep</th>\n",
       "      <th>grid2op_topo_vect_idx0</th>\n",
       "      <th>grid2op_topo_vect_idx1</th>\n",
       "      <th>...</th>\n",
       "      <th>grid2op_topo_vect_idx427</th>\n",
       "      <th>grid2op_topo_vect_idx428</th>\n",
       "      <th>grid2op_topo_vect_idx429</th>\n",
       "      <th>grid2op_topo_vect_idx430</th>\n",
       "      <th>grid2op_topo_vect_idx431</th>\n",
       "      <th>grid2op_topo_vect_idx432</th>\n",
       "      <th>grid2op_topo_vect_idx433</th>\n",
       "      <th>grid2op_topo_vect_idx434</th>\n",
       "      <th>grid2op_topo_vect_idx435</th>\n",
       "      <th>grid2op_topo_vect_idx436</th>\n",
       "    </tr>\n",
       "  </thead>\n",
       "  <tbody>\n",
       "    <tr>\n",
       "      <th>0</th>\n",
       "      <td>96</td>\n",
       "      <td>35</td>\n",
       "      <td>-1</td>\n",
       "      <td>0.99</td>\n",
       "      <td>1.001929</td>\n",
       "      <td>0.873400</td>\n",
       "      <td>6.413164</td>\n",
       "      <td>804</td>\n",
       "      <td>2019.0</td>\n",
       "      <td>1.0</td>\n",
       "      <td>...</td>\n",
       "      <td>1.0</td>\n",
       "      <td>1.0</td>\n",
       "      <td>0.0</td>\n",
       "      <td>-1.0</td>\n",
       "      <td>0.0</td>\n",
       "      <td>0.0</td>\n",
       "      <td>0.0</td>\n",
       "      <td>-20.789732</td>\n",
       "      <td>20.920769</td>\n",
       "      <td>1.0</td>\n",
       "    </tr>\n",
       "    <tr>\n",
       "      <th>1</th>\n",
       "      <td>96</td>\n",
       "      <td>35</td>\n",
       "      <td>-1</td>\n",
       "      <td>0.99</td>\n",
       "      <td>0.993028</td>\n",
       "      <td>0.870769</td>\n",
       "      <td>6.716555</td>\n",
       "      <td>958</td>\n",
       "      <td>2019.0</td>\n",
       "      <td>1.0</td>\n",
       "      <td>...</td>\n",
       "      <td>1.0</td>\n",
       "      <td>1.0</td>\n",
       "      <td>0.0</td>\n",
       "      <td>-1.0</td>\n",
       "      <td>0.0</td>\n",
       "      <td>0.0</td>\n",
       "      <td>0.0</td>\n",
       "      <td>-20.904972</td>\n",
       "      <td>20.978672</td>\n",
       "      <td>1.0</td>\n",
       "    </tr>\n",
       "    <tr>\n",
       "      <th>2</th>\n",
       "      <td>97</td>\n",
       "      <td>35</td>\n",
       "      <td>-1</td>\n",
       "      <td>0.99</td>\n",
       "      <td>0.991127</td>\n",
       "      <td>0.894609</td>\n",
       "      <td>5.293333</td>\n",
       "      <td>1249</td>\n",
       "      <td>2019.0</td>\n",
       "      <td>1.0</td>\n",
       "      <td>...</td>\n",
       "      <td>1.0</td>\n",
       "      <td>1.0</td>\n",
       "      <td>0.0</td>\n",
       "      <td>-1.0</td>\n",
       "      <td>0.0</td>\n",
       "      <td>0.0</td>\n",
       "      <td>0.0</td>\n",
       "      <td>-20.892221</td>\n",
       "      <td>20.972273</td>\n",
       "      <td>1.0</td>\n",
       "    </tr>\n",
       "    <tr>\n",
       "      <th>3</th>\n",
       "      <td>96</td>\n",
       "      <td>35</td>\n",
       "      <td>-1</td>\n",
       "      <td>0.99</td>\n",
       "      <td>0.998183</td>\n",
       "      <td>0.869978</td>\n",
       "      <td>5.371936</td>\n",
       "      <td>1533</td>\n",
       "      <td>2019.0</td>\n",
       "      <td>1.0</td>\n",
       "      <td>...</td>\n",
       "      <td>1.0</td>\n",
       "      <td>1.0</td>\n",
       "      <td>0.0</td>\n",
       "      <td>-1.0</td>\n",
       "      <td>0.0</td>\n",
       "      <td>0.0</td>\n",
       "      <td>0.0</td>\n",
       "      <td>-20.866966</td>\n",
       "      <td>20.959591</td>\n",
       "      <td>1.0</td>\n",
       "    </tr>\n",
       "    <tr>\n",
       "      <th>4</th>\n",
       "      <td>96</td>\n",
       "      <td>35</td>\n",
       "      <td>-1</td>\n",
       "      <td>0.99</td>\n",
       "      <td>0.999347</td>\n",
       "      <td>0.872243</td>\n",
       "      <td>5.523936</td>\n",
       "      <td>2391</td>\n",
       "      <td>2019.0</td>\n",
       "      <td>1.0</td>\n",
       "      <td>...</td>\n",
       "      <td>1.0</td>\n",
       "      <td>1.0</td>\n",
       "      <td>0.0</td>\n",
       "      <td>-1.0</td>\n",
       "      <td>0.0</td>\n",
       "      <td>0.0</td>\n",
       "      <td>0.0</td>\n",
       "      <td>-20.863596</td>\n",
       "      <td>20.957901</td>\n",
       "      <td>1.0</td>\n",
       "    </tr>\n",
       "    <tr>\n",
       "      <th>...</th>\n",
       "      <td>...</td>\n",
       "      <td>...</td>\n",
       "      <td>...</td>\n",
       "      <td>...</td>\n",
       "      <td>...</td>\n",
       "      <td>...</td>\n",
       "      <td>...</td>\n",
       "      <td>...</td>\n",
       "      <td>...</td>\n",
       "      <td>...</td>\n",
       "      <td>...</td>\n",
       "      <td>...</td>\n",
       "      <td>...</td>\n",
       "      <td>...</td>\n",
       "      <td>...</td>\n",
       "      <td>...</td>\n",
       "      <td>...</td>\n",
       "      <td>...</td>\n",
       "      <td>...</td>\n",
       "      <td>...</td>\n",
       "      <td>...</td>\n",
       "    </tr>\n",
       "    <tr>\n",
       "      <th>20</th>\n",
       "      <td>96</td>\n",
       "      <td>11</td>\n",
       "      <td>-1</td>\n",
       "      <td>0.97</td>\n",
       "      <td>0.980338</td>\n",
       "      <td>0.845750</td>\n",
       "      <td>5.591059</td>\n",
       "      <td>6562</td>\n",
       "      <td>2019.0</td>\n",
       "      <td>1.0</td>\n",
       "      <td>...</td>\n",
       "      <td>1.0</td>\n",
       "      <td>1.0</td>\n",
       "      <td>0.0</td>\n",
       "      <td>-1.0</td>\n",
       "      <td>0.0</td>\n",
       "      <td>0.0</td>\n",
       "      <td>0.0</td>\n",
       "      <td>-20.758425</td>\n",
       "      <td>20.905010</td>\n",
       "      <td>1.0</td>\n",
       "    </tr>\n",
       "    <tr>\n",
       "      <th>21</th>\n",
       "      <td>96</td>\n",
       "      <td>11</td>\n",
       "      <td>-1</td>\n",
       "      <td>0.97</td>\n",
       "      <td>0.979047</td>\n",
       "      <td>0.851098</td>\n",
       "      <td>5.596108</td>\n",
       "      <td>6715</td>\n",
       "      <td>2019.0</td>\n",
       "      <td>1.0</td>\n",
       "      <td>...</td>\n",
       "      <td>1.0</td>\n",
       "      <td>1.0</td>\n",
       "      <td>0.0</td>\n",
       "      <td>-1.0</td>\n",
       "      <td>0.0</td>\n",
       "      <td>0.0</td>\n",
       "      <td>0.0</td>\n",
       "      <td>-20.830412</td>\n",
       "      <td>20.941227</td>\n",
       "      <td>1.0</td>\n",
       "    </tr>\n",
       "    <tr>\n",
       "      <th>22</th>\n",
       "      <td>96</td>\n",
       "      <td>11</td>\n",
       "      <td>-1</td>\n",
       "      <td>0.97</td>\n",
       "      <td>0.982554</td>\n",
       "      <td>0.856664</td>\n",
       "      <td>5.613910</td>\n",
       "      <td>7000</td>\n",
       "      <td>2019.0</td>\n",
       "      <td>1.0</td>\n",
       "      <td>...</td>\n",
       "      <td>1.0</td>\n",
       "      <td>1.0</td>\n",
       "      <td>0.0</td>\n",
       "      <td>-1.0</td>\n",
       "      <td>0.0</td>\n",
       "      <td>0.0</td>\n",
       "      <td>0.0</td>\n",
       "      <td>-20.873451</td>\n",
       "      <td>20.962849</td>\n",
       "      <td>1.0</td>\n",
       "    </tr>\n",
       "    <tr>\n",
       "      <th>23</th>\n",
       "      <td>52</td>\n",
       "      <td>11</td>\n",
       "      <td>-1</td>\n",
       "      <td>0.97</td>\n",
       "      <td>0.977292</td>\n",
       "      <td>0.908773</td>\n",
       "      <td>5.591695</td>\n",
       "      <td>7295</td>\n",
       "      <td>2019.0</td>\n",
       "      <td>1.0</td>\n",
       "      <td>...</td>\n",
       "      <td>1.0</td>\n",
       "      <td>1.0</td>\n",
       "      <td>0.0</td>\n",
       "      <td>-1.0</td>\n",
       "      <td>0.0</td>\n",
       "      <td>0.0</td>\n",
       "      <td>0.0</td>\n",
       "      <td>-20.819885</td>\n",
       "      <td>20.935936</td>\n",
       "      <td>1.0</td>\n",
       "    </tr>\n",
       "    <tr>\n",
       "      <th>24</th>\n",
       "      <td>20</td>\n",
       "      <td>11</td>\n",
       "      <td>-1</td>\n",
       "      <td>0.97</td>\n",
       "      <td>0.974010</td>\n",
       "      <td>0.903576</td>\n",
       "      <td>5.732666</td>\n",
       "      <td>7325</td>\n",
       "      <td>2019.0</td>\n",
       "      <td>1.0</td>\n",
       "      <td>...</td>\n",
       "      <td>1.0</td>\n",
       "      <td>1.0</td>\n",
       "      <td>0.0</td>\n",
       "      <td>-1.0</td>\n",
       "      <td>0.0</td>\n",
       "      <td>0.0</td>\n",
       "      <td>0.0</td>\n",
       "      <td>-21.437254</td>\n",
       "      <td>21.244072</td>\n",
       "      <td>1.0</td>\n",
       "    </tr>\n",
       "  </tbody>\n",
       "</table>\n",
       "<p>2385 rows × 445 columns</p>\n",
       "</div>"
      ],
      "text/plain": [
       "    sel_action_idx  chronic_id  line_disabled  dn_threshold  \\\n",
       "0               96          35             -1          0.99   \n",
       "1               96          35             -1          0.99   \n",
       "2               97          35             -1          0.99   \n",
       "3               96          35             -1          0.99   \n",
       "4               96          35             -1          0.99   \n",
       "..             ...         ...            ...           ...   \n",
       "20              96          11             -1          0.97   \n",
       "21              96          11             -1          0.97   \n",
       "22              96          11             -1          0.97   \n",
       "23              52          11             -1          0.97   \n",
       "24              20          11             -1          0.97   \n",
       "\n",
       "    forecasted_rho_dn  forecasted_rho_actn  search_dur_seconds  timestep  \\\n",
       "0            1.001929             0.873400            6.413164       804   \n",
       "1            0.993028             0.870769            6.716555       958   \n",
       "2            0.991127             0.894609            5.293333      1249   \n",
       "3            0.998183             0.869978            5.371936      1533   \n",
       "4            0.999347             0.872243            5.523936      2391   \n",
       "..                ...                  ...                 ...       ...   \n",
       "20           0.980338             0.845750            5.591059      6562   \n",
       "21           0.979047             0.851098            5.596108      6715   \n",
       "22           0.982554             0.856664            5.613910      7000   \n",
       "23           0.977292             0.908773            5.591695      7295   \n",
       "24           0.974010             0.903576            5.732666      7325   \n",
       "\n",
       "    grid2op_topo_vect_idx0  grid2op_topo_vect_idx1  ...  \\\n",
       "0                   2019.0                     1.0  ...   \n",
       "1                   2019.0                     1.0  ...   \n",
       "2                   2019.0                     1.0  ...   \n",
       "3                   2019.0                     1.0  ...   \n",
       "4                   2019.0                     1.0  ...   \n",
       "..                     ...                     ...  ...   \n",
       "20                  2019.0                     1.0  ...   \n",
       "21                  2019.0                     1.0  ...   \n",
       "22                  2019.0                     1.0  ...   \n",
       "23                  2019.0                     1.0  ...   \n",
       "24                  2019.0                     1.0  ...   \n",
       "\n",
       "    grid2op_topo_vect_idx427  grid2op_topo_vect_idx428  \\\n",
       "0                        1.0                       1.0   \n",
       "1                        1.0                       1.0   \n",
       "2                        1.0                       1.0   \n",
       "3                        1.0                       1.0   \n",
       "4                        1.0                       1.0   \n",
       "..                       ...                       ...   \n",
       "20                       1.0                       1.0   \n",
       "21                       1.0                       1.0   \n",
       "22                       1.0                       1.0   \n",
       "23                       1.0                       1.0   \n",
       "24                       1.0                       1.0   \n",
       "\n",
       "    grid2op_topo_vect_idx429  grid2op_topo_vect_idx430  \\\n",
       "0                        0.0                      -1.0   \n",
       "1                        0.0                      -1.0   \n",
       "2                        0.0                      -1.0   \n",
       "3                        0.0                      -1.0   \n",
       "4                        0.0                      -1.0   \n",
       "..                       ...                       ...   \n",
       "20                       0.0                      -1.0   \n",
       "21                       0.0                      -1.0   \n",
       "22                       0.0                      -1.0   \n",
       "23                       0.0                      -1.0   \n",
       "24                       0.0                      -1.0   \n",
       "\n",
       "    grid2op_topo_vect_idx431  grid2op_topo_vect_idx432  \\\n",
       "0                        0.0                       0.0   \n",
       "1                        0.0                       0.0   \n",
       "2                        0.0                       0.0   \n",
       "3                        0.0                       0.0   \n",
       "4                        0.0                       0.0   \n",
       "..                       ...                       ...   \n",
       "20                       0.0                       0.0   \n",
       "21                       0.0                       0.0   \n",
       "22                       0.0                       0.0   \n",
       "23                       0.0                       0.0   \n",
       "24                       0.0                       0.0   \n",
       "\n",
       "    grid2op_topo_vect_idx433  grid2op_topo_vect_idx434  \\\n",
       "0                        0.0                -20.789732   \n",
       "1                        0.0                -20.904972   \n",
       "2                        0.0                -20.892221   \n",
       "3                        0.0                -20.866966   \n",
       "4                        0.0                -20.863596   \n",
       "..                       ...                       ...   \n",
       "20                       0.0                -20.758425   \n",
       "21                       0.0                -20.830412   \n",
       "22                       0.0                -20.873451   \n",
       "23                       0.0                -20.819885   \n",
       "24                       0.0                -21.437254   \n",
       "\n",
       "    grid2op_topo_vect_idx435  grid2op_topo_vect_idx436  \n",
       "0                  20.920769                       1.0  \n",
       "1                  20.978672                       1.0  \n",
       "2                  20.972273                       1.0  \n",
       "3                  20.959591                       1.0  \n",
       "4                  20.957901                       1.0  \n",
       "..                       ...                       ...  \n",
       "20                 20.905010                       1.0  \n",
       "21                 20.941227                       1.0  \n",
       "22                 20.962849                       1.0  \n",
       "23                 20.935936                       1.0  \n",
       "24                 21.244072                       1.0  \n",
       "\n",
       "[2385 rows x 445 columns]"
      ]
     },
     "execution_count": 76,
     "metadata": {},
     "output_type": "execute_result"
    }
   ],
   "source": [
    "full_df"
   ]
  },
  {
   "cell_type": "code",
   "execution_count": 90,
   "metadata": {},
   "outputs": [],
   "source": [
    "vect0 = np.array(full_df[grid2op_vect_cnames].iloc[0])\n",
    "vect1 = np.array(full_df[grid2op_vect_cnames].iloc[1])"
   ]
  },
  {
   "cell_type": "code",
   "execution_count": 106,
   "metadata": {},
   "outputs": [],
   "source": [
    "env = grid2op.make('rte_case14_realistic')\n",
    "obs = env.reset()\n",
    "#obs.from_vect(vect0)\n",
    "ts0 = obs.get_time_stamp()"
   ]
  },
  {
   "cell_type": "code",
   "execution_count": 107,
   "metadata": {},
   "outputs": [
    {
     "data": {
      "text/plain": [
       "datetime.datetime(2019, 1, 6, 0, 0)"
      ]
     },
     "execution_count": 107,
     "metadata": {},
     "output_type": "execute_result"
    }
   ],
   "source": [
    "ts0"
   ]
  },
  {
   "cell_type": "code",
   "execution_count": 92,
   "metadata": {},
   "outputs": [],
   "source": [
    "obs.from_vect(vect1)\n",
    "ts1 = obs.get_time_stamp()"
   ]
  },
  {
   "cell_type": "code",
   "execution_count": 93,
   "metadata": {},
   "outputs": [
    {
     "data": {
      "text/plain": [
       "datetime.timedelta(seconds=46200)"
      ]
     },
     "execution_count": 93,
     "metadata": {},
     "output_type": "execute_result"
    }
   ],
   "source": [
    "ts1 - ts0"
   ]
  },
  {
   "cell_type": "code",
   "execution_count": 33,
   "metadata": {},
   "outputs": [
    {
     "name": "stderr",
     "output_type": "stream",
     "text": [
      "100%|██████████| 2385/2385 [00:52<00:00, 45.26it/s]\n"
     ]
    }
   ],
   "source": [
    "action_iders = {}\n",
    "\n",
    "#set_topo_vect_columns = None\n",
    "for row_idx,row in tqdm(full_df.iterrows(), total=full_df.shape[0]):\n",
    "    \n",
    "    line_disabled = row['line_disabled']\n",
    "    sel_action_idx = int(row['sel_action_idx'])\n",
    "    if line_disabled not in action_iders:\n",
    "        action_iders[line_disabled] = util.action_identificator(line_disabled)\n",
    "        \n",
    "    set_topo_vect = action_iders[line_disabled].get_set_topo_vect(sel_action_idx)\n",
    "    \n",
    "    if row_idx == 0:\n",
    "        set_topo_vect_columns = [f'set_topo_vect_idx{i}' for i in range(len(set_topo_vect))]\n",
    "        full_df[set_topo_vect_columns] = 0\n",
    "\n",
    "    for c,v in zip(set_topo_vect_columns,set_topo_vect):\n",
    "        full_df.at[row_idx,c]=v"
   ]
  },
  {
   "cell_type": "code",
   "execution_count": 95,
   "metadata": {},
   "outputs": [
    {
     "ename": "KeyError",
     "evalue": "\"None of [Index(['set_topo_vect_idx0', 'set_topo_vect_idx1', 'set_topo_vect_idx2',\\n       'set_topo_vect_idx3', 'set_topo_vect_idx4', 'set_topo_vect_idx5',\\n       'set_topo_vect_idx6', 'set_topo_vect_idx7', 'set_topo_vect_idx8',\\n       'set_topo_vect_idx9', 'set_topo_vect_idx10', 'set_topo_vect_idx11',\\n       'set_topo_vect_idx12', 'set_topo_vect_idx13', 'set_topo_vect_idx14',\\n       'set_topo_vect_idx15', 'set_topo_vect_idx16', 'set_topo_vect_idx17',\\n       'set_topo_vect_idx18', 'set_topo_vect_idx19', 'set_topo_vect_idx20',\\n       'set_topo_vect_idx21', 'set_topo_vect_idx22', 'set_topo_vect_idx23',\\n       'set_topo_vect_idx24', 'set_topo_vect_idx25', 'set_topo_vect_idx26',\\n       'set_topo_vect_idx27', 'set_topo_vect_idx28', 'set_topo_vect_idx29',\\n       'set_topo_vect_idx30', 'set_topo_vect_idx31', 'set_topo_vect_idx32',\\n       'set_topo_vect_idx33', 'set_topo_vect_idx34', 'set_topo_vect_idx35',\\n       'set_topo_vect_idx36', 'set_topo_vect_idx37', 'set_topo_vect_idx38',\\n       'set_topo_vect_idx39', 'set_topo_vect_idx40', 'set_topo_vect_idx41',\\n       'set_topo_vect_idx42', 'set_topo_vect_idx43', 'set_topo_vect_idx44',\\n       'set_topo_vect_idx45', 'set_topo_vect_idx46', 'set_topo_vect_idx47',\\n       'set_topo_vect_idx48', 'set_topo_vect_idx49', 'set_topo_vect_idx50',\\n       'set_topo_vect_idx51', 'set_topo_vect_idx52', 'set_topo_vect_idx53',\\n       'set_topo_vect_idx54', 'set_topo_vect_idx55'],\\n      dtype='object')] are in the [columns]\"",
     "output_type": "error",
     "traceback": [
      "\u001b[0;31m---------------------------------------------------------------------------\u001b[0m",
      "\u001b[0;31mKeyError\u001b[0m                                  Traceback (most recent call last)",
      "\u001b[0;32m<ipython-input-95-5a685acd1559>\u001b[0m in \u001b[0;36m<module>\u001b[0;34m\u001b[0m\n\u001b[0;32m----> 1\u001b[0;31m \u001b[0;34m(\u001b[0m\u001b[0mfull_df\u001b[0m\u001b[0;34m[\u001b[0m\u001b[0mset_topo_vect_columns\u001b[0m\u001b[0;34m]\u001b[0m\u001b[0;34m>\u001b[0m\u001b[0;36m1\u001b[0m\u001b[0;34m)\u001b[0m\u001b[0;34m.\u001b[0m\u001b[0mmean\u001b[0m\u001b[0;34m(\u001b[0m\u001b[0;34m)\u001b[0m\u001b[0;34m*\u001b[0m\u001b[0;36m100\u001b[0m\u001b[0;34m\u001b[0m\u001b[0;34m\u001b[0m\u001b[0m\n\u001b[0m",
      "\u001b[0;32m~/Software/anaconda3/lib/python3.8/site-packages/pandas/core/frame.py\u001b[0m in \u001b[0;36m__getitem__\u001b[0;34m(self, key)\u001b[0m\n\u001b[1;32m   3462\u001b[0m             \u001b[0;32mif\u001b[0m \u001b[0mis_iterator\u001b[0m\u001b[0;34m(\u001b[0m\u001b[0mkey\u001b[0m\u001b[0;34m)\u001b[0m\u001b[0;34m:\u001b[0m\u001b[0;34m\u001b[0m\u001b[0;34m\u001b[0m\u001b[0m\n\u001b[1;32m   3463\u001b[0m                 \u001b[0mkey\u001b[0m \u001b[0;34m=\u001b[0m \u001b[0mlist\u001b[0m\u001b[0;34m(\u001b[0m\u001b[0mkey\u001b[0m\u001b[0;34m)\u001b[0m\u001b[0;34m\u001b[0m\u001b[0;34m\u001b[0m\u001b[0m\n\u001b[0;32m-> 3464\u001b[0;31m             \u001b[0mindexer\u001b[0m \u001b[0;34m=\u001b[0m \u001b[0mself\u001b[0m\u001b[0;34m.\u001b[0m\u001b[0mloc\u001b[0m\u001b[0;34m.\u001b[0m\u001b[0m_get_listlike_indexer\u001b[0m\u001b[0;34m(\u001b[0m\u001b[0mkey\u001b[0m\u001b[0;34m,\u001b[0m \u001b[0maxis\u001b[0m\u001b[0;34m=\u001b[0m\u001b[0;36m1\u001b[0m\u001b[0;34m)\u001b[0m\u001b[0;34m[\u001b[0m\u001b[0;36m1\u001b[0m\u001b[0;34m]\u001b[0m\u001b[0;34m\u001b[0m\u001b[0;34m\u001b[0m\u001b[0m\n\u001b[0m\u001b[1;32m   3465\u001b[0m \u001b[0;34m\u001b[0m\u001b[0m\n\u001b[1;32m   3466\u001b[0m         \u001b[0;31m# take() does not accept boolean indexers\u001b[0m\u001b[0;34m\u001b[0m\u001b[0;34m\u001b[0m\u001b[0;34m\u001b[0m\u001b[0m\n",
      "\u001b[0;32m~/Software/anaconda3/lib/python3.8/site-packages/pandas/core/indexing.py\u001b[0m in \u001b[0;36m_get_listlike_indexer\u001b[0;34m(self, key, axis)\u001b[0m\n\u001b[1;32m   1312\u001b[0m             \u001b[0mkeyarr\u001b[0m\u001b[0;34m,\u001b[0m \u001b[0mindexer\u001b[0m\u001b[0;34m,\u001b[0m \u001b[0mnew_indexer\u001b[0m \u001b[0;34m=\u001b[0m \u001b[0max\u001b[0m\u001b[0;34m.\u001b[0m\u001b[0m_reindex_non_unique\u001b[0m\u001b[0;34m(\u001b[0m\u001b[0mkeyarr\u001b[0m\u001b[0;34m)\u001b[0m\u001b[0;34m\u001b[0m\u001b[0;34m\u001b[0m\u001b[0m\n\u001b[1;32m   1313\u001b[0m \u001b[0;34m\u001b[0m\u001b[0m\n\u001b[0;32m-> 1314\u001b[0;31m         \u001b[0mself\u001b[0m\u001b[0;34m.\u001b[0m\u001b[0m_validate_read_indexer\u001b[0m\u001b[0;34m(\u001b[0m\u001b[0mkeyarr\u001b[0m\u001b[0;34m,\u001b[0m \u001b[0mindexer\u001b[0m\u001b[0;34m,\u001b[0m \u001b[0maxis\u001b[0m\u001b[0;34m)\u001b[0m\u001b[0;34m\u001b[0m\u001b[0;34m\u001b[0m\u001b[0m\n\u001b[0m\u001b[1;32m   1315\u001b[0m \u001b[0;34m\u001b[0m\u001b[0m\n\u001b[1;32m   1316\u001b[0m         if needs_i8_conversion(ax.dtype) or isinstance(\n",
      "\u001b[0;32m~/Software/anaconda3/lib/python3.8/site-packages/pandas/core/indexing.py\u001b[0m in \u001b[0;36m_validate_read_indexer\u001b[0;34m(self, key, indexer, axis)\u001b[0m\n\u001b[1;32m   1372\u001b[0m                 \u001b[0;32mif\u001b[0m \u001b[0muse_interval_msg\u001b[0m\u001b[0;34m:\u001b[0m\u001b[0;34m\u001b[0m\u001b[0;34m\u001b[0m\u001b[0m\n\u001b[1;32m   1373\u001b[0m                     \u001b[0mkey\u001b[0m \u001b[0;34m=\u001b[0m \u001b[0mlist\u001b[0m\u001b[0;34m(\u001b[0m\u001b[0mkey\u001b[0m\u001b[0;34m)\u001b[0m\u001b[0;34m\u001b[0m\u001b[0;34m\u001b[0m\u001b[0m\n\u001b[0;32m-> 1374\u001b[0;31m                 \u001b[0;32mraise\u001b[0m \u001b[0mKeyError\u001b[0m\u001b[0;34m(\u001b[0m\u001b[0;34mf\"None of [{key}] are in the [{axis_name}]\"\u001b[0m\u001b[0;34m)\u001b[0m\u001b[0;34m\u001b[0m\u001b[0;34m\u001b[0m\u001b[0m\n\u001b[0m\u001b[1;32m   1375\u001b[0m \u001b[0;34m\u001b[0m\u001b[0m\n\u001b[1;32m   1376\u001b[0m             \u001b[0mnot_found\u001b[0m \u001b[0;34m=\u001b[0m \u001b[0mlist\u001b[0m\u001b[0;34m(\u001b[0m\u001b[0mensure_index\u001b[0m\u001b[0;34m(\u001b[0m\u001b[0mkey\u001b[0m\u001b[0;34m)\u001b[0m\u001b[0;34m[\u001b[0m\u001b[0mmissing_mask\u001b[0m\u001b[0;34m.\u001b[0m\u001b[0mnonzero\u001b[0m\u001b[0;34m(\u001b[0m\u001b[0;34m)\u001b[0m\u001b[0;34m[\u001b[0m\u001b[0;36m0\u001b[0m\u001b[0;34m]\u001b[0m\u001b[0;34m]\u001b[0m\u001b[0;34m.\u001b[0m\u001b[0munique\u001b[0m\u001b[0;34m(\u001b[0m\u001b[0;34m)\u001b[0m\u001b[0;34m)\u001b[0m\u001b[0;34m\u001b[0m\u001b[0;34m\u001b[0m\u001b[0m\n",
      "\u001b[0;31mKeyError\u001b[0m: \"None of [Index(['set_topo_vect_idx0', 'set_topo_vect_idx1', 'set_topo_vect_idx2',\\n       'set_topo_vect_idx3', 'set_topo_vect_idx4', 'set_topo_vect_idx5',\\n       'set_topo_vect_idx6', 'set_topo_vect_idx7', 'set_topo_vect_idx8',\\n       'set_topo_vect_idx9', 'set_topo_vect_idx10', 'set_topo_vect_idx11',\\n       'set_topo_vect_idx12', 'set_topo_vect_idx13', 'set_topo_vect_idx14',\\n       'set_topo_vect_idx15', 'set_topo_vect_idx16', 'set_topo_vect_idx17',\\n       'set_topo_vect_idx18', 'set_topo_vect_idx19', 'set_topo_vect_idx20',\\n       'set_topo_vect_idx21', 'set_topo_vect_idx22', 'set_topo_vect_idx23',\\n       'set_topo_vect_idx24', 'set_topo_vect_idx25', 'set_topo_vect_idx26',\\n       'set_topo_vect_idx27', 'set_topo_vect_idx28', 'set_topo_vect_idx29',\\n       'set_topo_vect_idx30', 'set_topo_vect_idx31', 'set_topo_vect_idx32',\\n       'set_topo_vect_idx33', 'set_topo_vect_idx34', 'set_topo_vect_idx35',\\n       'set_topo_vect_idx36', 'set_topo_vect_idx37', 'set_topo_vect_idx38',\\n       'set_topo_vect_idx39', 'set_topo_vect_idx40', 'set_topo_vect_idx41',\\n       'set_topo_vect_idx42', 'set_topo_vect_idx43', 'set_topo_vect_idx44',\\n       'set_topo_vect_idx45', 'set_topo_vect_idx46', 'set_topo_vect_idx47',\\n       'set_topo_vect_idx48', 'set_topo_vect_idx49', 'set_topo_vect_idx50',\\n       'set_topo_vect_idx51', 'set_topo_vect_idx52', 'set_topo_vect_idx53',\\n       'set_topo_vect_idx54', 'set_topo_vect_idx55'],\\n      dtype='object')] are in the [columns]\""
     ]
    }
   ],
   "source": [
    "(full_df[set_topo_vect_columns]>1).mean()*100"
   ]
  },
  {
   "cell_type": "markdown",
   "metadata": {},
   "source": [
    "# Basic Inspections"
   ]
  },
  {
   "cell_type": "code",
   "execution_count": 101,
   "metadata": {},
   "outputs": [],
   "source": [
    "df_dn_thr_097 = full_df[full_df['dn_threshold']==.97]\n",
    "df_dn_thr_099 = full_df[full_df['dn_threshold']==.99]\n",
    "df_dn_thr_100 = full_df[full_df['dn_threshold']==1.0]\n",
    "dn_thresholds = [.97,.99,1.0]\n",
    "dfs_different_thr = [df_dn_thr_097,df_dn_thr_099,df_dn_thr_100]"
   ]
  },
  {
   "cell_type": "code",
   "execution_count": 102,
   "metadata": {},
   "outputs": [
    {
     "name": "stdout",
     "output_type": "stream",
     "text": [
      "Lengths by dn_treshold:\n",
      "(0.97, 1097)\n",
      "(0.99, 714)\n",
      "(1.0, 574)\n"
     ]
    }
   ],
   "source": [
    "print(\"Lengths by dn_treshold:\")\n",
    "[print((thr,len(dfs_thr))) for thr,dfs_thr in zip(dn_thresholds,dfs_different_thr)]\n",
    "pass"
   ]
  },
  {
   "cell_type": "code",
   "execution_count": 131,
   "metadata": {},
   "outputs": [
    {
     "data": {
      "text/plain": [
       "308000"
      ]
     },
     "execution_count": 131,
     "metadata": {},
     "output_type": "execute_result"
    }
   ],
   "source": [
    "770*20*20"
   ]
  },
  {
   "cell_type": "code",
   "execution_count": 103,
   "metadata": {},
   "outputs": [
    {
     "data": {
      "text/plain": [
       "<matplotlib.legend.Legend at 0x7fb63eea03a0>"
      ]
     },
     "execution_count": 103,
     "metadata": {},
     "output_type": "execute_result"
    },
    {
     "data": {
      "image/png": "[encoded data removed]",
      "text/plain": [
       "<Figure size 432x288 with 1 Axes>"
      ]
     },
     "metadata": {
      "needs_background": "light"
     },
     "output_type": "display_data"
    }
   ],
   "source": [
    "plt.hist([df['chronic_id'] for df in dfs_different_thr],stacked=True,bins=50,label=[.97,.99,1.0])\n",
    "#plt.hist(df_dn_thr_099['chronic_id'],stacked=True,bins=50)\n",
    "#plt.hist(df_dn_thr_100['chronic_id'],stacked=True,bins=50)\n",
    "plt.title(\"Histogram of chronic id of datapoints\")\n",
    "plt.legend()"
   ]
  },
  {
   "cell_type": "code",
   "execution_count": 129,
   "metadata": {},
   "outputs": [
    {
     "data": {
      "text/plain": [
       "0     7.0\n",
       "1     9.0\n",
       "2    11.0\n",
       "3    23.0\n",
       "4    24.0\n",
       "5    29.0\n",
       "6    30.0\n",
       "7    31.0\n",
       "8     1.0\n",
       "Name: grid2op_topo_vect_idx2, dtype: float64"
      ]
     },
     "execution_count": 129,
     "metadata": {},
     "output_type": "execute_result"
    }
   ],
   "source": [
    "full_df['grid2op_topo_vect_idx2'][(full_df['dn_threshold']==1.0) & (full_df['chronic_id']==1)]"
   ]
  },
  {
   "cell_type": "code",
   "execution_count": 130,
   "metadata": {},
   "outputs": [
    {
     "data": {
      "text/plain": [
       "0      7.0\n",
       "1      8.0\n",
       "2      9.0\n",
       "3     10.0\n",
       "4     11.0\n",
       "5     15.0\n",
       "6     16.0\n",
       "7     17.0\n",
       "8     21.0\n",
       "9     23.0\n",
       "10    24.0\n",
       "11    28.0\n",
       "12    29.0\n",
       "13    30.0\n",
       "14    31.0\n",
       "15     1.0\n",
       "Name: grid2op_topo_vect_idx2, dtype: float64"
      ]
     },
     "execution_count": 130,
     "metadata": {},
     "output_type": "execute_result"
    }
   ],
   "source": [
    "full_df['grid2op_topo_vect_idx2'][(full_df['dn_threshold']==.97) & (full_df['chronic_id']==1)]"
   ]
  },
  {
   "cell_type": "code",
   "execution_count": 116,
   "metadata": {},
   "outputs": [
    {
     "data": {
      "text/plain": [
       "0      True\n",
       "1      True\n",
       "2      True\n",
       "3      True\n",
       "4      True\n",
       "      ...  \n",
       "20    False\n",
       "21    False\n",
       "22    False\n",
       "23    False\n",
       "24    False\n",
       "Length: 2385, dtype: bool"
      ]
     },
     "execution_count": 116,
     "metadata": {},
     "output_type": "execute_result"
    }
   ],
   "source": [
    "(full_df['dn_threshold']==.99) + (full_df['chronic_id']==1)"
   ]
  },
  {
   "cell_type": "code",
   "execution_count": 43,
   "metadata": {},
   "outputs": [
    {
     "data": {
      "text/plain": [
       "[0     35\n",
       " 1     35\n",
       " 2     35\n",
       " 3     35\n",
       " 4     35\n",
       "       ..\n",
       " 20    11\n",
       " 21    11\n",
       " 22    11\n",
       " 23    11\n",
       " 24    11\n",
       " Name: chronic_id, Length: 1097, dtype: int64,\n",
       " 0     35\n",
       " 1     35\n",
       " 2     35\n",
       " 3     35\n",
       " 4     35\n",
       "       ..\n",
       " 14    11\n",
       " 15    11\n",
       " 16    11\n",
       " 17    11\n",
       " 18    11\n",
       " Name: chronic_id, Length: 714, dtype: int64,\n",
       " 0     35\n",
       " 1     35\n",
       " 2     35\n",
       " 3     35\n",
       " 4     35\n",
       "       ..\n",
       " 13    11\n",
       " 14    11\n",
       " 15    11\n",
       " 16    11\n",
       " 17    11\n",
       " Name: chronic_id, Length: 552, dtype: int64]"
      ]
     },
     "execution_count": 43,
     "metadata": {},
     "output_type": "execute_result"
    }
   ],
   "source": [
    "[df['chronic_id'] for df in dfs_different_thr]"
   ]
  },
  {
   "cell_type": "code",
   "execution_count": 9,
   "metadata": {},
   "outputs": [
    {
     "data": {
      "text/plain": [
       "(array([6.100e+01, 4.700e+01, 4.400e+01, 5.200e+01, 3.900e+01, 3.370e+02,\n",
       "        1.190e+02, 0.000e+00, 1.000e+00, 1.663e+03]),\n",
       " array([-1. ,  8.8, 18.6, 28.4, 38.2, 48. , 57.8, 67.6, 77.4, 87.2, 97. ]),\n",
       " <BarContainer object of 10 artists>)"
      ]
     },
     "execution_count": 9,
     "metadata": {},
     "output_type": "execute_result"
    },
    {
     "data": {
      "image/png": "[encoded data removed]",
      "text/plain": [
       "<Figure size 432x288 with 1 Axes>"
      ]
     },
     "metadata": {
      "needs_background": "light"
     },
     "output_type": "display_data"
    }
   ],
   "source": [
    "plt.hist(list(full_df['sel_action_idx']))"
   ]
  },
  {
   "cell_type": "code",
   "execution_count": null,
   "metadata": {},
   "outputs": [],
   "source": [
    "plt.plot(full_df['chronic_id'])"
   ]
  },
  {
   "cell_type": "code",
   "execution_count": null,
   "metadata": {},
   "outputs": [],
   "source": []
  }
 ],
 "metadata": {
  "kernelspec": {
   "display_name": "Python 3",
   "language": "python",
   "name": "python3"
  },
  "language_info": {
   "codemirror_mode": {
    "name": "ipython",
    "version": 3
   },
   "file_extension": ".py",
   "mimetype": "text/x-python",
   "name": "python",
   "nbconvert_exporter": "python",
   "pygments_lexer": "ipython3",
   "version": "3.8.5"
  }
 },
 "nbformat": 4,
 "nbformat_minor": 4
}
