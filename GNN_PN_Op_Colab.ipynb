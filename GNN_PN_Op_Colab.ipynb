{
  "nbformat": 4,
  "nbformat_minor": 0,
  "metadata": {
    "colab": {
      "provenance": [],
      "authorship_tag": "ABX9TyMRlU12OVKhzlxbAiv56Gdf",
      "include_colab_link": true
    },
    "kernelspec": {
      "name": "python3",
      "display_name": "Python 3"
    },
    "language_info": {
      "name": "python"
    }
  },
  "cells": [
    {
      "cell_type": "markdown",
      "metadata": {
        "id": "view-in-github",
        "colab_type": "text"
      },
      "source": [
        "<a href=\"https://colab.research.google.com/github/MatthijsdeJ/GNN_PN_Operation_MSc_Thesis/blob/main/GNN_PN_Op_Colab.ipynb\" target=\"_parent\"><img src=\"https://colab.research.google.com/assets/colab-badge.svg\" alt=\"Open In Colab\"/></a>"
      ]
    },
    {
      "cell_type": "code",
      "execution_count": 1,
      "metadata": {
        "id": "gQA7-V4WryA5",
        "outputId": "1b4acb07-3c1b-4538-bbb3-e93ec49fc938",
        "colab": {
          "base_uri": "https://localhost:8080/"
        }
      },
      "outputs": [
        {
          "output_type": "stream",
          "name": "stdout",
          "text": [
            "Cloning into 'GNN_PN_Operation_MSc_Thesis'...\n",
            "remote: Enumerating objects: 1046, done.\u001b[K\n",
            "remote: Counting objects: 100% (160/160), done.\u001b[K\n",
            "remote: Compressing objects: 100% (95/95), done.\u001b[K\n",
            "remote: Total 1046 (delta 89), reused 120 (delta 65), pack-reused 886\u001b[K\n",
            "Receiving objects: 100% (1046/1046), 2.68 MiB | 9.58 MiB/s, done.\n",
            "Resolving deltas: 100% (617/617), done.\n"
          ]
        }
      ],
      "source": [
        "#!git clone https://github.com/MatthijsdeJ/GNN_PN_Operation_MSc_Thesis"
      ]
    },
    {
      "cell_type": "code",
      "source": [
        "#%rm -r sample_data\n",
        "#%cd GNN_PN_Operation_MSc_Thesis/\n",
        "#%mkdir data"
      ],
      "metadata": {
        "id": "C9c4WqPKgj-y",
        "outputId": "9016f809-3330-467f-f331-005e7659d16f",
        "colab": {
          "base_uri": "https://localhost:8080/"
        }
      },
      "execution_count": 2,
      "outputs": [
        {
          "output_type": "stream",
          "name": "stdout",
          "text": [
            "/content/GNN_PN_Operation_MSc_Thesis\n"
          ]
        }
      ]
    },
    {
      "cell_type": "code",
      "source": [
        "#from google.colab import drive\n",
        "#drive.mount('/content/drive')"
      ],
      "metadata": {
        "colab": {
          "base_uri": "https://localhost:8080/"
        },
        "id": "2tZ_bCUQvHxG",
        "outputId": "1289fdbd-4aa2-463f-e6c5-33431187043e"
      },
      "execution_count": 3,
      "outputs": [
        {
          "output_type": "stream",
          "name": "stdout",
          "text": [
            "Mounted at /content/drive\n"
          ]
        }
      ]
    },
    {
      "cell_type": "code",
      "source": [
        "%cp -r /content/drive/MyDrive/MSc_Thesis/data/* data/"
      ],
      "metadata": {
        "id": "7tP-p7LkvJJO"
      },
      "execution_count": null,
      "outputs": []
    },
    {
      "cell_type": "code",
      "source": [],
      "metadata": {
        "id": "z6mmsga0g2zL"
      },
      "execution_count": null,
      "outputs": []
    }
  ]
}