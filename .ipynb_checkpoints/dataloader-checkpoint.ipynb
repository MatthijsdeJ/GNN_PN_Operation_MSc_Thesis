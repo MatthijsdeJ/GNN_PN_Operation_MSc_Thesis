{
 "cells": [
  {
   "cell_type": "code",
   "execution_count": 1,
   "metadata": {},
   "outputs": [],
   "source": [
    "import ipdb\n",
    "import pickle as pkl\n",
    "import numpy as np\n",
    "import matplotlib.pyplot as plt\n",
    "import os\n",
    "import pickletools\n",
    "from grid2op import Episode\n",
    "from collections import namedtuple, Counter\n",
    "import random\n",
    "\n",
    "from typing import Union, List, Tuple\n",
    "from data_loading import preprocess_observation, action_identificator\n",
    "import torch"
   ]
  },
  {
   "cell_type": "code",
   "execution_count": 2,
   "metadata": {},
   "outputs": [],
   "source": [
    "DATA_PATH='./Data/sample_training_episodes'"
   ]
  },
  {
   "cell_type": "code",
   "execution_count": 3,
   "metadata": {},
   "outputs": [],
   "source": [
    "import data_loading\n",
    "from data_loading import Episode, EpisodeStep, EpisodeSet\n",
    "\n"
   ]
  },
  {
   "cell_type": "code",
   "execution_count": 4,
   "metadata": {},
   "outputs": [],
   "source": [
    "import os\n",
    "from grid2op import make\n",
    "import grid2op\n",
    "\n",
    "# Initialize the env.\n",
    "env = make(\"rte_case14_realistic\")\n",
    "obs_space = env.observation_space"
   ]
  },
  {
   "cell_type": "code",
   "execution_count": 5,
   "metadata": {},
   "outputs": [],
   "source": [
    "device = torch.device('cuda' if torch.cuda.is_available() else 'cpu')"
   ]
  },
  {
   "cell_type": "code",
   "execution_count": 6,
   "metadata": {},
   "outputs": [],
   "source": [
    "from torch_geometric.nn import  SAGEConv, Linear\n",
    "import torch.nn.functional as F\n",
    "from torch.nn import CrossEntropyLoss\n",
    "\n",
    "object_indices = np.argsort(np.concatenate([obs_space.gen_pos_topo_vect,obs_space.load_pos_topo_vect,\n",
    "                                obs_space.line_or_pos_topo_vect,obs_space.line_ex_pos_topo_vect]))\n",
    "object_indices = torch.tensor(object_indices,device=device,dtype=torch.long)\n",
    "\n",
    "f_gen, f_load, f_endpoint = 3,3,7 #Amount of features per object\n",
    "class GCN(torch.nn.Module):\n",
    "    def __init__(self):\n",
    "        super().__init__()\n",
    "        \n",
    "        self.lin_gen_1 = Linear(f_gen,32)\n",
    "        self.lin_gen_2 = Linear(32,32)\n",
    "        \n",
    "        self.lin_load_1 = Linear(f_load,32)\n",
    "        self.lin_load_2 = Linear(32,32)\n",
    "     \n",
    "        self.lin_or_1 = Linear(f_endpoint,32)\n",
    "        self.lin_or_2 = Linear(32,32)\n",
    "        \n",
    "        self.lin_ex_1 = Linear(f_endpoint,32)\n",
    "        self.lin_ex_2 = Linear(32,32)\n",
    "        \n",
    "        self.conv1 = SAGEConv(32,32,root_weight=True,aggr='add')\n",
    "        self.conv2 = SAGEConv(32,1,root_weight=True,aggr='add')\n",
    "        \n",
    "\n",
    "    def forward(self, x_gen, x_load, x_or, x_ex, edge_index):\n",
    "        \n",
    "        ### Linear layers for different objects ###\n",
    "        x_gen = self.lin_gen_1(x_gen)\n",
    "        x_gen = torch.sigmoid(x_gen)\n",
    "        x_gen = self.lin_gen_2(x_gen)\n",
    "        x_load = self.lin_load_1(x_load)\n",
    "        x_load = torch.sigmoid(x_load)\n",
    "        x_load = self.lin_load_2(x_load)\n",
    "        x_or = self.lin_or_1(x_or)\n",
    "        x_or = torch.sigmoid(x_or)\n",
    "        x_or = self.lin_or_2(x_or)\n",
    "        x_ex = self.lin_ex_1(x_ex)\n",
    "        x_ex = torch.sigmoid(x_ex)\n",
    "        x_ex = self.lin_ex_2(x_ex)\n",
    "        \n",
    "        ### Combining different objects ###\n",
    "        x = torch.cat([x_gen,x_load,x_or,x_ex],axis=0)\n",
    "        x = x[object_indices]\n",
    "\n",
    "        ### Graph convolution layer ###\n",
    "        x = self.conv1(x, edge_index)\n",
    "        x = torch.sigmoid(x)\n",
    "        x = self.conv2(x, edge_index)\n",
    "        \n",
    "        return F.softmax(x, dim=1)"
   ]
  },
  {
   "cell_type": "code",
   "execution_count": 7,
   "metadata": {},
   "outputs": [],
   "source": [
    "model = GCN().to(device)\n",
    "optimizer = torch.optim.Adam(model.parameters(), lr=0.01)#\n",
    "act_ider = action_identificator()\n",
    "n_epoch=1\n",
    "object_indices = np.argsort(np.concatenate([obs_space.gen_pos_topo_vect,obs_space.load_pos_topo_vect,\n",
    "                                obs_space.line_or_pos_topo_vect,obs_space.line_ex_pos_topo_vect]))"
   ]
  },
  {
   "cell_type": "code",
   "execution_count": 8,
   "metadata": {},
   "outputs": [
    {
     "data": {
      "text/plain": [
       "5"
      ]
     },
     "execution_count": 8,
     "metadata": {},
     "output_type": "execute_result"
    }
   ],
   "source": [
    "obs_space.n_gen"
   ]
  },
  {
   "cell_type": "code",
   "execution_count": 9,
   "metadata": {},
   "outputs": [
    {
     "data": {
      "text/plain": [
       "array([ 7, 11, 28, 34,  2], dtype=int32)"
      ]
     },
     "execution_count": 9,
     "metadata": {},
     "output_type": "execute_result"
    }
   ],
   "source": [
    "obs_space.gen_pos_topo_vect"
   ]
  },
  {
   "cell_type": "code",
   "execution_count": 10,
   "metadata": {},
   "outputs": [
    {
     "ename": "RuntimeError",
     "evalue": "CUDA error: CUBLAS_STATUS_NOT_INITIALIZED when calling `cublasCreate(handle)`",
     "output_type": "error",
     "traceback": [
      "\u001b[0;31m---------------------------------------------------------------------------\u001b[0m",
      "\u001b[0;31mRuntimeError\u001b[0m                              Traceback (most recent call last)",
      "\u001b[0;32m<ipython-input-10-f617da73e7c9>\u001b[0m in \u001b[0;36m<module>\u001b[0;34m\u001b[0m\n\u001b[1;32m     22\u001b[0m         \u001b[0mout\u001b[0m \u001b[0;34m=\u001b[0m \u001b[0mmodel\u001b[0m\u001b[0;34m(\u001b[0m\u001b[0mX_gen\u001b[0m\u001b[0;34m,\u001b[0m \u001b[0mX_load\u001b[0m\u001b[0;34m,\u001b[0m \u001b[0mX_or\u001b[0m\u001b[0;34m,\u001b[0m \u001b[0mX_ex\u001b[0m\u001b[0;34m,\u001b[0m \u001b[0mconnectivity_edges\u001b[0m\u001b[0;34m)\u001b[0m\u001b[0;34m\u001b[0m\u001b[0;34m\u001b[0m\u001b[0m\n\u001b[1;32m     23\u001b[0m         \u001b[0mloss\u001b[0m \u001b[0;34m=\u001b[0m \u001b[0mtorch\u001b[0m\u001b[0;34m.\u001b[0m\u001b[0mnn\u001b[0m\u001b[0;34m.\u001b[0m\u001b[0mNLLLoss\u001b[0m\u001b[0;34m(\u001b[0m\u001b[0;34m)\u001b[0m\u001b[0;34m(\u001b[0m\u001b[0mout\u001b[0m\u001b[0;34m,\u001b[0m \u001b[0mact_goal\u001b[0m\u001b[0;34m)\u001b[0m\u001b[0;34m\u001b[0m\u001b[0;34m\u001b[0m\u001b[0m\n\u001b[0;32m---> 24\u001b[0;31m         \u001b[0mloss\u001b[0m\u001b[0;34m.\u001b[0m\u001b[0mbackward\u001b[0m\u001b[0;34m(\u001b[0m\u001b[0;34m)\u001b[0m\u001b[0;34m\u001b[0m\u001b[0;34m\u001b[0m\u001b[0m\n\u001b[0m\u001b[1;32m     25\u001b[0m         \u001b[0moptimizer\u001b[0m\u001b[0;34m.\u001b[0m\u001b[0mstep\u001b[0m\u001b[0;34m(\u001b[0m\u001b[0;34m)\u001b[0m\u001b[0;34m\u001b[0m\u001b[0;34m\u001b[0m\u001b[0m\n\u001b[1;32m     26\u001b[0m \u001b[0;34m\u001b[0m\u001b[0m\n",
      "\u001b[0;32m~/Software/anaconda3/lib/python3.8/site-packages/torch/_tensor.py\u001b[0m in \u001b[0;36mbackward\u001b[0;34m(self, gradient, retain_graph, create_graph, inputs)\u001b[0m\n\u001b[1;32m    253\u001b[0m                 \u001b[0mcreate_graph\u001b[0m\u001b[0;34m=\u001b[0m\u001b[0mcreate_graph\u001b[0m\u001b[0;34m,\u001b[0m\u001b[0;34m\u001b[0m\u001b[0;34m\u001b[0m\u001b[0m\n\u001b[1;32m    254\u001b[0m                 inputs=inputs)\n\u001b[0;32m--> 255\u001b[0;31m         \u001b[0mtorch\u001b[0m\u001b[0;34m.\u001b[0m\u001b[0mautograd\u001b[0m\u001b[0;34m.\u001b[0m\u001b[0mbackward\u001b[0m\u001b[0;34m(\u001b[0m\u001b[0mself\u001b[0m\u001b[0;34m,\u001b[0m \u001b[0mgradient\u001b[0m\u001b[0;34m,\u001b[0m \u001b[0mretain_graph\u001b[0m\u001b[0;34m,\u001b[0m \u001b[0mcreate_graph\u001b[0m\u001b[0;34m,\u001b[0m \u001b[0minputs\u001b[0m\u001b[0;34m=\u001b[0m\u001b[0minputs\u001b[0m\u001b[0;34m)\u001b[0m\u001b[0;34m\u001b[0m\u001b[0;34m\u001b[0m\u001b[0m\n\u001b[0m\u001b[1;32m    256\u001b[0m \u001b[0;34m\u001b[0m\u001b[0m\n\u001b[1;32m    257\u001b[0m     \u001b[0;32mdef\u001b[0m \u001b[0mregister_hook\u001b[0m\u001b[0;34m(\u001b[0m\u001b[0mself\u001b[0m\u001b[0;34m,\u001b[0m \u001b[0mhook\u001b[0m\u001b[0;34m)\u001b[0m\u001b[0;34m:\u001b[0m\u001b[0;34m\u001b[0m\u001b[0;34m\u001b[0m\u001b[0m\n",
      "\u001b[0;32m~/Software/anaconda3/lib/python3.8/site-packages/torch/autograd/__init__.py\u001b[0m in \u001b[0;36mbackward\u001b[0;34m(tensors, grad_tensors, retain_graph, create_graph, grad_variables, inputs)\u001b[0m\n\u001b[1;32m    145\u001b[0m         \u001b[0mretain_graph\u001b[0m \u001b[0;34m=\u001b[0m \u001b[0mcreate_graph\u001b[0m\u001b[0;34m\u001b[0m\u001b[0;34m\u001b[0m\u001b[0m\n\u001b[1;32m    146\u001b[0m \u001b[0;34m\u001b[0m\u001b[0m\n\u001b[0;32m--> 147\u001b[0;31m     Variable._execution_engine.run_backward(\n\u001b[0m\u001b[1;32m    148\u001b[0m         \u001b[0mtensors\u001b[0m\u001b[0;34m,\u001b[0m \u001b[0mgrad_tensors_\u001b[0m\u001b[0;34m,\u001b[0m \u001b[0mretain_graph\u001b[0m\u001b[0;34m,\u001b[0m \u001b[0mcreate_graph\u001b[0m\u001b[0;34m,\u001b[0m \u001b[0minputs\u001b[0m\u001b[0;34m,\u001b[0m\u001b[0;34m\u001b[0m\u001b[0;34m\u001b[0m\u001b[0m\n\u001b[1;32m    149\u001b[0m         allow_unreachable=True, accumulate_grad=True)  # allow_unreachable flag\n",
      "\u001b[0;31mRuntimeError\u001b[0m: CUDA error: CUBLAS_STATUS_NOT_INITIALIZED when calling `cublasCreate(handle)`"
     ]
    }
   ],
   "source": [
    "model.train()\n",
    "for e in range(n_epoch):\n",
    "    for step in data_loading.DataIterator(DATA_PATH):\n",
    "        _,step_attr = step\n",
    "        obs = step_attr.observation\n",
    "        act = act_ider.get_set_topo_vect(step_attr.action)\n",
    "        \n",
    "        \n",
    "        X_gen, X_load, X_or, X_ex, topo_array, connectivity_edges = \\\n",
    "                preprocess_observation(obs,env.observation_space)\n",
    "\n",
    "        X_gen, X_load, X_or, X_ex = \\\n",
    "                [torch.tensor(x,device=device,dtype=torch.float) for x in (X_gen, X_load, X_or, X_ex)]\n",
    "\n",
    "        act_goal = (act > 0)\n",
    "        topo_array, connectivity_edges, act_goal = \\\n",
    "                [torch.tensor(x,device=device,dtype=torch.long) for x in (topo_array, connectivity_edges, act_goal)]\n",
    "\n",
    "        \n",
    "        \n",
    "        \n",
    "        out = model(X_gen, X_load, X_or, X_ex, connectivity_edges)\n",
    "        loss = torch.nn.NLLLoss()(out, act_goal)\n",
    "        loss.backward()\n",
    "        optimizer.step()\n",
    "        "
   ]
  },
  {
   "cell_type": "code",
   "execution_count": null,
   "metadata": {},
   "outputs": [],
   "source": [
    "act_ider = action_identificator()\n",
    "for i,step in enumerate(data_loading.DataIterator(DATA_PATH)):\n",
    "#     if i>2:\n",
    "#         break\n",
    "    idx,step_data = step\n",
    "    obs = step_data.observation\n",
    "    X_gen, X_load, X_or, X_ex, topo_array, connectivity_edges = preprocess_observation(obs,obs_space)\n",
    "    print(act_ider.get_set_topo_vect(step_data.action))"
   ]
  }
 ],
 "metadata": {
  "kernelspec": {
   "display_name": "Python 3",
   "language": "python",
   "name": "python3"
  },
  "language_info": {
   "codemirror_mode": {
    "name": "ipython",
    "version": 3
   },
   "file_extension": ".py",
   "mimetype": "text/x-python",
   "name": "python",
   "nbconvert_exporter": "python",
   "pygments_lexer": "ipython3",
   "version": "3.8.5"
  }
 },
 "nbformat": 4,
 "nbformat_minor": 4
}
